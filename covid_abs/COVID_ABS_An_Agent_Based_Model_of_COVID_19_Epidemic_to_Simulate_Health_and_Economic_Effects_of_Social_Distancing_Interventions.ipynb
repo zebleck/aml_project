{
 "cells": [
  {
   "cell_type": "markdown",
   "metadata": {
    "id": "FYA-6DnysFSO"
   },
   "source": [
    "# COVID-ABS: An Agent-Based Model of COVID-19 Epidemic to Simulate Health and Economic Effects of Social Distancing Interventions"
   ]
  },
  {
   "cell_type": "markdown",
   "metadata": {
    "id": "w_TSwPfbgmV8"
   },
   "source": [
    "## Installing the package"
   ]
  },
  {
   "cell_type": "markdown",
   "metadata": {
    "id": "oYjPtlNzp4Hu"
   },
   "source": [
    "## Common imports"
   ]
  },
  {
   "cell_type": "code",
   "execution_count": 1,
   "metadata": {
    "id": "B1cSmug4SY7-"
   },
   "outputs": [],
   "source": [
    "import os\n",
    "import sys\n",
    "module_path = os.path.abspath(os.path.join('..'))\n",
    "if module_path not in sys.path:\n",
    "    sys.path.append(module_path)\n",
    "\n",
    "import warnings\n",
    "warnings.simplefilter('ignore')\n",
    "\n",
    "import numpy as np\n",
    "import pandas as pd\n",
    "import matplotlib.pyplot as plt\n",
    "import seaborn as sns\n",
    "import time\n",
    "\n",
    "from matplotlib import animation, rc\n",
    "from IPython.display import HTML\n",
    "\n",
    "#from covid_abs.graphics import *\n",
    "from covid_abs.no_graphics import *\n",
    "from covid_abs.experiments import *\n",
    "from covid_abs.network.graph_abs import *\n",
    "from covid_abs.network.util import *"
   ]
  },
  {
   "cell_type": "markdown",
   "metadata": {
    "id": "thBeYl4ZVNKA"
   },
   "source": [
    "### Global Parameters"
   ]
  },
  {
   "cell_type": "code",
   "execution_count": 2,
   "metadata": {
    "id": "B0SGFMsnVPpl"
   },
   "outputs": [],
   "source": [
    "global_parameters = dict(\n",
    "\n",
    "    # General Parameters\n",
    "    length=300,\n",
    "    height=300,\n",
    "\n",
    "    # Demographic\n",
    "    population_size=100,\n",
    "    homemates_avg=3,\n",
    "    homeless_rate=0.0005,\n",
    "    amplitudes={\n",
    "        Status.Susceptible: 10,\n",
    "        Status.Recovered_Immune: 10,\n",
    "        Status.Infected: 10\n",
    "    },\n",
    "\n",
    "    # Epidemiological\n",
    "    critical_limit=0.01,\n",
    "    contagion_rate=.9,\n",
    "    incubation_time=5,\n",
    "    contagion_time=10,\n",
    "    recovering_time=20,\n",
    "\n",
    "    # Economical\n",
    "    total_wealth=10000000,\n",
    "    total_business=9,\n",
    "    minimum_income=900.0,\n",
    "    minimum_expense=600.0,\n",
    "    public_gdp_share=0.1,\n",
    "    business_gdp_share=0.5,\n",
    "    unemployment_rate=0.12,\n",
    "    business_distance=20\n",
    ")"
   ]
  },
  {
   "cell_type": "markdown",
   "metadata": {},
   "source": [
    "# Custom code"
   ]
  },
  {
   "cell_type": "markdown",
   "metadata": {},
   "source": [
    "### Plotting"
   ]
  },
  {
   "cell_type": "code",
   "execution_count": 70,
   "metadata": {},
   "outputs": [],
   "source": [
    "from covid_abs.no_graphics import  *\n",
    "import matplotlib as pyplot\n",
    "from IPython import display\n",
    "\n",
    "fontsizes = {\n",
    "    'suptitle': 28,\n",
    "    'title': 26,\n",
    "    'legend': 18,\n",
    "    'axis': 20,\n",
    "    'ticks': 14\n",
    "}\n",
    "\n",
    "def plot_statistics(statistics):\n",
    "    \n",
    "    f, (ax1, ax2) = plt.subplots(1, 2, figsize=(14,5))\n",
    "    \n",
    "    for key in statistics['info'][0]:\n",
    "        y = [e[key] for e in statistics['info']]\n",
    "\n",
    "        ax1.plot(np.arange(len(y)), y, label=key)\n",
    "    ax1.set_title('Infection statistics', fontsize=fontsizes['title'])\n",
    "    ax1.tick_params(axis='both', which='major', labelsize=fontsizes['ticks'])\n",
    "        \n",
    "    for key in statistics['ecom'][0]:\n",
    "        y = [e[key] for e in statistics['ecom']]\n",
    "\n",
    "        ax2.plot(np.arange(len(y)), y, label=key)\n",
    "    ax2.set_title('Economic statistics', fontsize=fontsizes['title'])\n",
    "    ax2.tick_params(axis='both', which='major', labelsize=fontsizes['ticks'])\n",
    "\n",
    "    ax1.legend(fontsize=fontsizes['legend'])\n",
    "    ax2.legend(fontsize=fontsizes['legend'])\n",
    "    plt.show()\n",
    "    \n",
    "def plot_single(output, save_plot=False):\n",
    "    steps_per_episode = output[0]\n",
    "    episode_losses = output[1]\n",
    "    losses = output[2]\n",
    "    actions = output[3]\n",
    "    rewards = output[4]\n",
    "    qs = output[5]\n",
    "\n",
    "    fig, (ax1, ax2, ax3, ax4) = plt.subplots(4, 1, figsize=(14, 16))\n",
    "\n",
    "    n_episodes = len(episode_losses)\n",
    "\n",
    "    # Plot loss\n",
    "\n",
    "    y = list(losses)\n",
    "    x = np.linspace(0, n_episodes, len(y))\n",
    "    ax1.plot(x, y, color='#ff1717', alpha=0.5)\n",
    "    ax1.plot(episode_losses, color='#ff1717')\n",
    "\n",
    "    ax1.set_title('Loss', fontsize=fontsizes['title'])\n",
    "    ax1.set_xlabel('Episode', fontsize=fontsizes['axis'])\n",
    "    ax1.tick_params(axis='both', which='major', labelsize=fontsizes['ticks'])\n",
    "    ax1.set_yscale('log')\n",
    "\n",
    "    # Plot actions\n",
    "\n",
    "    y = list(actions)\n",
    "    x = np.linspace(0, n_episodes, len(y))\n",
    "    mov_av = np.convolve(y, np.ones(1000)/1000, mode='valid')\n",
    "    mov_av_x = np.linspace(0, n_episodes, len(mov_av))\n",
    "    ax2.scatter(x, y, s=0.1)\n",
    "    ax2.plot(mov_av_x, mov_av, color='#ff1717', label='Moving average (N=1000)')\n",
    "\n",
    "    ax2.set_title('Actions', fontsize=fontsizes['title'])\n",
    "    ax2.set_xlabel('Episode', fontsize=fontsizes['axis'])\n",
    "    ax2.tick_params(axis='both', which='major', labelsize=fontsizes['ticks'])\n",
    "    ax2.legend(fontsize=fontsizes['legend'])\n",
    "\n",
    "    # Plot cumulative rewards\n",
    "\n",
    "    rewards = list(rewards)\n",
    "    cum_rewards = []\n",
    "    for episode_steps in steps_per_episode:\n",
    "        cum_rewards += list(np.cumsum(rewards[episode_steps[0]:episode_steps[1]]))\n",
    "    \n",
    "    y = list(cum_rewards)\n",
    "    x = np.linspace(0, n_episodes, len(y))\n",
    "    for i, episode_steps in enumerate(steps_per_episode):\n",
    "        ax3.plot(x[episode_steps[0]:episode_steps[1]],\n",
    "                 y[episode_steps[0]:episode_steps[1]],\n",
    "                 color= '#adc7c9' if i%2 == 0 else '#20adbd')\n",
    "\n",
    "    mov_av = np.convolve(y, np.ones(3000)/3000, mode='valid')\n",
    "    mov_av_x = np.linspace(0, n_episodes, len(mov_av))\n",
    "    ax3.plot(mov_av_x, mov_av, color='red', label='Moving average (N=3000)')\n",
    "\n",
    "    ax3.set_title('Cumulative rewards', fontsize=fontsizes['title'])\n",
    "    ax3.set_xlabel('Episode', fontsize=fontsizes['axis'])\n",
    "    ax3.tick_params(axis='both', which='major', labelsize=fontsizes['ticks'])\n",
    "    ax3.legend(fontsize=fontsizes['legend'])\n",
    "\n",
    "    # Plot q values\n",
    "\n",
    "    y = list(qs)\n",
    "    x = np.linspace(0, n_episodes, len(y))\n",
    "    for i, episode_steps in enumerate(steps_per_episode):\n",
    "        ax4.plot(x[episode_steps[0]:episode_steps[1]],\n",
    "                 y[episode_steps[0]:episode_steps[1]],\n",
    "                 color= '#adc7c9' if i%2 == 0 else '#20adbd')\n",
    "    mov_av = np.convolve(y, np.ones(1000)/1000, mode='valid')\n",
    "    mov_av_x = np.linspace(0, n_episodes, len(mov_av))\n",
    "    ax4.plot(mov_av_x, mov_av, color='#ff1717', label='Moving average (N=1000)')\n",
    "\n",
    "    ax4.set_title('Q values', fontsize=fontsizes['title'])\n",
    "    ax4.set_xlabel('Episode', fontsize=fontsizes['axis'])\n",
    "    ax4.tick_params(axis='both', which='major', labelsize=fontsizes['ticks'])\n",
    "    ax4.legend(fontsize=fontsizes['legend'])\n",
    "    \n",
    "    plt.tight_layout()\n",
    "\n",
    "    if save_plot:\n",
    "        plt.savefig('plots/LSTM Linear, features{}, hidden{}'.format(state_size, hidden_size) +\n",
    "                    'episodes{}, batch{} sequence_size{}'.format(n_episodes, BATCH_SIZE, SEQUENCE_SIZE) +\n",
    "                    'target_update{} steps_per_update{} decay{}.png'.format(TARGET_UPDATE, UPDATE_EVERY_N_STEPS, EPS_DECAY))\n",
    "    plt.show()\n",
    "    \n",
    "def plot_multiple(outputs, save_plot=False):\n",
    "\n",
    "    fig, (ax1, ax2, ax3, ax4) = plt.subplots(4, 1, figsize=(14, 16))\n",
    "\n",
    "    for i in range(len(outputs)):\n",
    "\n",
    "        steps_per_episode = outputs[i][0]\n",
    "        episode_losses = outputs[i][1]\n",
    "        losses = outputs[i][2]\n",
    "        actions = outputs[i][3]\n",
    "        rewards = outputs[i][4]\n",
    "        qs = outputs[i][5]\n",
    "\n",
    "        n_episodes = len(episode_losses)\n",
    "\n",
    "        # Plot loss\n",
    "\n",
    "        y = list(losses)\n",
    "        x = np.linspace(0, n_episodes, len(y))\n",
    "        ax1.plot(x, y, color='#ff1717', alpha=0.5)\n",
    "        ax1.plot(episode_losses, color='#ff1717')\n",
    "\n",
    "        ax1.set_title('Loss', fontsize=fontsizes['title'])\n",
    "        ax1.set_xlabel('Episode', fontsize=fontsizes['axis'])\n",
    "        ax1.tick_params(axis='both', which='major', labelsize=fontsizes['ticks'])\n",
    "        ax1.set_yscale('log')\n",
    "\n",
    "        # Plot actions\n",
    "\n",
    "        y = list(actions)\n",
    "        x = np.linspace(0, n_episodes, len(y))\n",
    "        mov_av = np.convolve(y, np.ones(1000)/1000, mode='valid')\n",
    "        mov_av_x = np.linspace(0, n_episodes, len(mov_av))\n",
    "        ax2.scatter(x, y, s=0.1)\n",
    "        ax2.plot(mov_av_x, mov_av, color='#ff1717', label='Moving average (N=1000)' if i == 0 else '')\n",
    "\n",
    "        ax2.set_title('Actions', fontsize=fontsizes['title'])\n",
    "        ax2.set_xlabel('Episode', fontsize=fontsizes['axis'])\n",
    "        ax2.tick_params(axis='both', which='major', labelsize=fontsizes['ticks'])\n",
    "        ax2.legend(fontsize=fontsizes['legend'])\n",
    "\n",
    "        # Plot cumulative rewards\n",
    "\n",
    "        rewards = list(rewards)\n",
    "        cum_rewards = []\n",
    "        for episode_steps in steps_per_episode:\n",
    "            cum_rewards += list(np.cumsum(rewards[episode_steps[0]:episode_steps[1]]))\n",
    "\n",
    "        y = cum_rewards\n",
    "        x = np.linspace(0, n_episodes, len(y))\n",
    "        for i, episode_steps in enumerate(steps_per_episode):\n",
    "            ax3.plot(x[episode_steps[0]:episode_steps[1]],\n",
    "                     y[episode_steps[0]:episode_steps[1]],\n",
    "                     color= '#adc7c9' if i%2 == 0 else '#20adbd')\n",
    "\n",
    "        mov_av = np.convolve(y, np.ones(3000)/3000, mode='valid')\n",
    "        mov_av_x = np.linspace(0, n_episodes, len(mov_av))\n",
    "        ax3.plot(mov_av_x, mov_av, color='red', label='Moving average (N=3000)' if i == 0 else '')\n",
    "\n",
    "        ax3.set_title('Cumulative rewards', fontsize=fontsizes['title'])\n",
    "        ax3.set_xlabel('Episode', fontsize=fontsizes['axis'])\n",
    "        ax3.tick_params(axis='both', which='major', labelsize=fontsizes['ticks'])\n",
    "        ax3.legend(fontsize=fontsizes['legend'])\n",
    "\n",
    "        # Plot q values\n",
    "\n",
    "        y = list(qs)\n",
    "        x = np.linspace(0, n_episodes, len(y))\n",
    "        mov_av = np.convolve(y, np.ones(1000)/1000, mode='valid')\n",
    "        mov_av_x = np.linspace(0, n_episodes, len(mov_av))\n",
    "        ax4.scatter(x, y, s=0.1)\n",
    "        ax4.plot(mov_av_x, mov_av, color='#ff1717', label='Moving average (N=1000)' if i == 0 else '')\n",
    "\n",
    "        ax4.set_title('Q values', fontsize=fontsizes['title'])\n",
    "        ax4.set_xlabel('Episode', fontsize=fontsizes['axis'])\n",
    "        ax4.tick_params(axis='both', which='major', labelsize=fontsizes['ticks'])\n",
    "        ax4.legend(fontsize=fontsizes['legend'])\n",
    "\n",
    "    plt.tight_layout()\n",
    "\n",
    "    if save_plot:\n",
    "        plt.savefig('plots/LSTM Linear, features{}, hidden{}'.format(state_size, hidden_size) +\n",
    "                    'episodes{}, batch{} sequence_size{}'.format(n_episodes, BATCH_SIZE, SEQUENCE_SIZE) +\n",
    "                    'target_update{} steps_per_update{} decay{}.png'.format(TARGET_UPDATE, UPDATE_EVERY_N_STEPS, EPS_DECAY))\n",
    "    plt.show()"
   ]
  },
  {
   "cell_type": "code",
   "execution_count": 75,
   "metadata": {},
   "outputs": [
    {
     "data": {
      "image/png": "[encoded data removed]",
      "text/plain": [
       "<Figure size 576x432 with 2 Axes>"
      ]
     },
     "metadata": {
      "needs_background": "light"
     },
     "output_type": "display_data"
    },
    {
     "data": {
      "image/png": "[encoded data removed]",
      "text/plain": [
       "<Figure size 576x432 with 2 Axes>"
      ]
     },
     "metadata": {
      "needs_background": "light"
     },
     "output_type": "display_data"
    },
    {
     "data": {
      "image/png": "[encoded data removed]",
      "text/plain": [
       "<Figure size 576x432 with 2 Axes>"
      ]
     },
     "metadata": {
      "needs_background": "light"
     },
     "output_type": "display_data"
    }
   ],
   "source": [
    "def calc_reward_np(E, A, D, w=1, r=0.1, s=1):\n",
    "    \n",
    "    return w * E * np.exp(- r * A * 100) - s * D\n",
    "\n",
    "def plot_reward(x_i, y_i, w=1, r=1, s=1):\n",
    "    labels = ['Economy', 'Active cases', 'Cumulative deaths']\n",
    "\n",
    "    x = np.linspace(0, 1, 1000)\n",
    "    y = np.linspace(0, 1, 1000)\n",
    "    xz, yz = np.meshgrid(x, y)\n",
    "    zeros = np.zeros_like(xz)\n",
    "    ones = np.ones_like(xz)\n",
    "    \n",
    "    file_name = None\n",
    "    \n",
    "    if x_i == 0 and y_i == 1:\n",
    "        rewards = calc_reward_np(xz, yz, zeros, w=w, r=r, s=s)\n",
    "        file_name = 'active cases vs economy'\n",
    "    elif x_i == 0 and y_i == 2:\n",
    "        rewards = calc_reward_np(xz, zeros, yz, w=w, r=r, s=s)\n",
    "        file_name = 'cumulative deaths vs economy'\n",
    "    elif x_i == 1 and y_i == 2:\n",
    "        rewards = calc_reward_np(ones, xz, yz, w=w, r=r, s=s)\n",
    "        file_name = 'cumulative deaths vs active cases'\n",
    "    else:\n",
    "        return\n",
    "    \n",
    "    plt.figure(figsize=(8,6))\n",
    "    plt.title('Reward function', fontsize=fontsizes['title'])\n",
    "    plt.xlabel(labels[x_i], fontsize=fontsizes['axis'])\n",
    "    plt.ylabel(labels[y_i], fontsize=fontsizes['axis'])\n",
    "    plt.tick_params(axis='both', which='major', labelsize=fontsizes['ticks'])\n",
    "    plt.pcolormesh(xz, yz, rewards)\n",
    "    plt.colorbar()\n",
    "    plt.savefig('plots/rewards/{}.png'.format(file_name))\n",
    "    plt.show()\n",
    "    \n",
    "\n",
    "w = 1\n",
    "r = 0.04\n",
    "s = 2\n",
    "plot_reward(0, 1, w=w, r=r, s=s)\n",
    "plot_reward(0, 2, w=w, r=r, s=s)\n",
    "plot_reward(1, 2, w=w, r=r, s=s)"
   ]
  },
  {
   "cell_type": "markdown",
   "metadata": {},
   "source": [
    "## Example of a typical scenario"
   ]
  },
  {
   "cell_type": "code",
   "execution_count": 5,
   "metadata": {},
   "outputs": [
    {
     "data": {
      "image/png": "[encoded data removed]",
      "text/plain": [
       "<Figure size 1008x360 with 2 Axes>"
      ]
     },
     "metadata": {
      "needs_background": "light"
     },
     "output_type": "display_data"
    }
   ],
   "source": [
    "def initialize_scenario(initial_infected_perc=.05):\n",
    "\n",
    "    return dict(\n",
    "            name='train_scenario',\n",
    "            initial_infected_perc=initial_infected_perc,\n",
    "            initial_immune_perc=.00,\n",
    "            contagion_distance=1.,\n",
    "            callbacks={'on_execute': lambda x: sleep(x) }\n",
    "            )\n",
    "\n",
    "scenario1 = initialize_scenario()\n",
    "\n",
    "iterations = []\n",
    "\n",
    "\n",
    "sim = GraphSimulation(**{**global_parameters, **scenario1})\n",
    "statistics = execute_simulation(sim, iterations=1000)\n",
    "\n",
    "plot_statistics(statistics)"
   ]
  },
  {
   "cell_type": "markdown",
   "metadata": {},
   "source": [
    "### Helpers"
   ]
  },
  {
   "cell_type": "code",
   "execution_count": 6,
   "metadata": {},
   "outputs": [],
   "source": [
    "import math\n",
    "import random\n",
    "import numpy as np\n",
    "import matplotlib\n",
    "import matplotlib.pyplot as plt\n",
    "from collections import namedtuple, deque\n",
    "from itertools import count\n",
    "from PIL import Image\n",
    "\n",
    "import torch\n",
    "import torch.nn as nn\n",
    "import torch.optim as optim\n",
    "import torch.nn.functional as F\n",
    "import torchvision.transforms as T\n",
    "\n",
    "device = torch.device(\"cuda\" if torch.cuda.is_available() else \"cpu\")\n",
    "#device = torch.device(\"cpu\")\n",
    "\n",
    "torch.set_default_dtype(torch.float64)\n",
    "\n",
    "Transition = namedtuple('Transition', ('state', 'action', 'next_state', 'reward'))\n",
    "OptimizerSpec = namedtuple('OptimizerSpec', ['constructor', 'kwargs'])\n",
    "\n",
    "class ReplayMemory(object):\n",
    "\n",
    "    def __init__(self, capacity):\n",
    "        self.memory = deque([],maxlen=capacity)\n",
    "\n",
    "    def push(self, *args):\n",
    "        \"\"\"Save a transition\"\"\"\n",
    "        self.memory.append(Transition(*args))\n",
    "\n",
    "    # sample a batch of states\n",
    "    def sample(self, batch_size):\n",
    "        return random.sample(self.memory, batch_size)\n",
    "    \n",
    "    # sample random sequences from the replaymemory\n",
    "    def sample_sequence(self, sequence_length):\n",
    "        if self.memory[-1].next_state is not None:\n",
    "            start_index = random.randint(0, len(self)-1-sequence_length)\n",
    "        else:\n",
    "            start_index = random.randint(0, len(self)-1)\n",
    "        \n",
    "        sequence = deque([], maxlen=sequence_length)\n",
    "        \n",
    "        for i in range(start_index, start_index+sequence_length):\n",
    "            transition = self.memory[i]\n",
    "            if transition.next_state is None:\n",
    "                for j in range(0, sequence_length+start_index-i):\n",
    "                    transition = Transition(transition.state,\n",
    "                                            transition.action,\n",
    "                                            transition.state,\n",
    "                                            transition.reward)\n",
    "                    sequence.append(transition)\n",
    "                break\n",
    "            else:\n",
    "                sequence.append(transition)\n",
    "        return list(sequence)\n",
    "    \n",
    "    # sample a batch of sequences\n",
    "    def sample_sequences(self, batch_size, sequence_length):\n",
    "        return [self.sample_sequence(sequence_length) for i in range(batch_size)]\n",
    "\n",
    "    def __len__(self):\n",
    "        return len(self.memory)"
   ]
  },
  {
   "cell_type": "code",
   "execution_count": 7,
   "metadata": {
    "id": "jji5sRvpXUc9"
   },
   "outputs": [],
   "source": [
    "def get_previous_action():\n",
    "    if len(memory) == 0 or memory.memory[-1].next_state is None:\n",
    "        return 0.0\n",
    "    else:\n",
    "        return memory.memory[-1].action.item()\n",
    "\n",
    "# creates sequence for LSTM starting backwards from the current state\n",
    "def create_sequence(state):\n",
    "    x = [torch.tensor(state, device=device)]\n",
    "    if len(memory) == 0:\n",
    "        x = x * SEQUENCE_SIZE\n",
    "    else:\n",
    "        for count in range(1, SEQUENCE_SIZE):\n",
    "            i = len(memory) - 1 - count\n",
    "            if i < 0:\n",
    "                x = [memory.memory[0].state] * i + x\n",
    "                break\n",
    "            elif memory.memory[i].next_state is None:\n",
    "                x = [memory.memory[i+1].state] * i + x\n",
    "                break\n",
    "            else:\n",
    "                x.insert(0, memory.memory[i].state)\n",
    "    \n",
    "    return torch.cat(x).view(1, -1, state_size).to(device)"
   ]
  },
  {
   "cell_type": "markdown",
   "metadata": {},
   "source": [
    "# General Training loop"
   ]
  },
  {
   "cell_type": "code",
   "execution_count": 54,
   "metadata": {},
   "outputs": [],
   "source": [
    "def train(model, state_size, n_actions, get_state_func, select_action_func, reward_func, optimize_func, optimizer_spec):\n",
    "    \n",
    "    starttime = time.time()\n",
    "    \n",
    "    # Initialize metrics\n",
    "    steps_per_episode = deque([])\n",
    "    episode_losses = deque([])\n",
    "    losses = deque([])\n",
    "    actions = deque([])\n",
    "    rewards = deque([])\n",
    "    qs = deque([])\n",
    "    \n",
    "    # Initalize policy and target model\n",
    "    policy_net = model(state_size, n_actions).to(device)\n",
    "    target_net = model(state_size, n_actions).to(device)\n",
    "    target_net.load_state_dict(policy_net.state_dict())\n",
    "    target_net.eval()\n",
    "    \n",
    "    # Initialize optimizer\n",
    "    optimizer = optimizer_spec.constructor(policy_net.parameters(), **optimizer_spec.kwargs)\n",
    "    \n",
    "    steps_done = 0\n",
    "    \n",
    "    scenario1 = initialize_scenario()\n",
    "    \n",
    "    for i_episode in range(NUM_EPISODES):\n",
    "        # Initialize the environment and state\n",
    "        sim = GraphSimulation(**{**global_parameters, **scenario1})\n",
    "        statistics = {'info': [], 'ecom': []}\n",
    "        sim.initialize()\n",
    "        update_statistics(sim, statistics)\n",
    "        \n",
    "        start_steps_done = steps_done\n",
    "        \n",
    "        state = get_state_func(statistics)\n",
    "        mean_action = 0\n",
    "        for t in count():\n",
    "            # Select and perform an action\n",
    "            action = select_action(state, policy_net, steps_done)\n",
    "            \n",
    "            _, reward, done, _ = step(sim, statistics, action.item())\n",
    "            steps_done += 1\n",
    "\n",
    "            actions.append(action.item())\n",
    "            mean_action += actions[-1]\n",
    "            rewards.append(reward)\n",
    "            \n",
    "            qs.append(torch.max(policy_net(create_sequence(state))).item())\n",
    "\n",
    "            reward = torch.tensor([reward], device=device)\n",
    "\n",
    "            # Observe new state\n",
    "            if not done:\n",
    "                next_state = get_state(statistics)\n",
    "            else:\n",
    "                next_state = None\n",
    "\n",
    "            # Store the transition in memory\n",
    "            memory.push(state, action, next_state, reward)\n",
    "\n",
    "            # Move to the next state\n",
    "            state = next_state\n",
    "\n",
    "            # Perform one step of the optimization (on the policy network)\n",
    "            \n",
    "            loss = optimize_func(steps_done, policy_net, target_net, optimizer)\n",
    "            if loss is not None:\n",
    "                losses.append(loss)\n",
    "            \n",
    "            if done:\n",
    "                steps_per_episode.append((start_steps_done, steps_done))\n",
    "                break\n",
    "        # Update the target network, copying all weights and biases in DQN\n",
    "        if i_episode % TARGET_UPDATE == 0:\n",
    "            target_net.load_state_dict(policy_net.state_dict())\n",
    "        if len(losses) == 0:\n",
    "            losses.append(0)\n",
    "        episode_losses.append(losses[-1])\n",
    "        print('Episode:', i_episode+1,\n",
    "              'Steps done:', steps_done,\n",
    "              'Loss:', episode_losses[-1],\n",
    "              'Mean action:', mean_action / (steps_per_episode[-1][1] - steps_per_episode[-1][0]))\n",
    "        \n",
    "    print('Training took {} seconds.'.format(time.time()-starttime))\n",
    "    \n",
    "    return steps_per_episode, episode_losses, losses, actions, rewards, qs, policy_net"
   ]
  },
  {
   "cell_type": "markdown",
   "metadata": {},
   "source": [
    "# COVID Scenario"
   ]
  },
  {
   "cell_type": "markdown",
   "metadata": {},
   "source": [
    "### Necessary functions for this scenario"
   ]
  },
  {
   "cell_type": "code",
   "execution_count": 55,
   "metadata": {},
   "outputs": [],
   "source": [
    "def lockdown(a):\n",
    "    if a.house is not None:\n",
    "        a.house.checkin(a)\n",
    "    return True"
   ]
  },
  {
   "cell_type": "code",
   "execution_count": 56,
   "metadata": {},
   "outputs": [],
   "source": [
    "# 0: Susceptible\n",
    "# 1: Infected\n",
    "# 2: Recovered_Immune\n",
    "# 3: Death\n",
    "# 4: Asymptomatic\n",
    "# 5: Hospitalization\n",
    "# 6: Severe\n",
    "# 7: Q1\n",
    "# 8: Q2\n",
    "# 9: Q3\n",
    "# 10: Q4\n",
    "# 11: Q5\n",
    "# 12: Business\n",
    "# 13: Government\n",
    "def get_state(statistics):\n",
    "    state_list = list(statistics['info'][-1].values()) + list(statistics['ecom'][-1].values())\n",
    "    return torch.tensor([state_list[1], state_list[3], state_list[12], get_previous_action()], device=device)\n",
    "    #return torch.tensor(list(statistics['info'][-1].values()) + list(statistics['ecom'][-1].values()),\n",
    "    #                    device=device)\n",
    "\n",
    "# Action selection method\n",
    "def select_action(state, policy_net, steps_done):\n",
    "    sample = random.random()\n",
    "    eps_threshold = EPS_END + (EPS_START - EPS_END) * \\\n",
    "        math.exp(-1. * steps_done / EPS_DECAY)\n",
    "    if sample > eps_threshold:\n",
    "        with torch.no_grad():\n",
    "            x = create_sequence(state)\n",
    "            # t.max(1) will return largest column value of each row.\n",
    "            # second column on max result is index of where max element was\n",
    "            # found, so we pick action with the larger expected reward.\n",
    "            return torch.argmax(policy_net(x)).view(1, 1)\n",
    "    else:\n",
    "        return torch.tensor([[random.randrange(n_actions)]], device=device, dtype=torch.long)\n",
    "\n",
    "# Environment step method\n",
    "def step(sim, statistics, action):\n",
    "    if action == 1:\n",
    "        sim.register_callback('on_person_move', lambda x: lockdown(x))\n",
    "    elif action == 0:\n",
    "        sim.callbacks.pop('on_person_move', None)\n",
    "    update(sim, statistics)\n",
    "    state = get_state(statistics)\n",
    "    reward = calc_reward(state, action)\n",
    "    done = sim.terminated()\n",
    "    \n",
    "    return _, reward, done, _\n",
    "\n",
    "# Reward calculation method\n",
    "def calc_reward(state, action, r=0.04, s=2, g=0.05):\n",
    "    \n",
    "    E = state[2].item()\n",
    "    D = state[1].item()\n",
    "    A = state[0].item() * 100\n",
    "    P = state[3].item() != action\n",
    "    return E * np.exp(- r * A) - s * D - g * P\n",
    "\n",
    "# Model optimization method\n",
    "def optimize_model(steps_done, policy_net, target_net, optimizer):\n",
    "    if len(memory) < BATCH_SIZE * SEQUENCE_SIZE or steps_done % UPDATE_EVERY_N_STEPS != 0:\n",
    "        return\n",
    "    \n",
    "    # Get transitions\n",
    "    transitions = memory.sample_sequences(BATCH_SIZE, SEQUENCE_SIZE)\n",
    "    \n",
    "    # Get batches of sequences\n",
    "    state_sequence_batch = [transition.state for sequence in transitions for transition in sequence] \n",
    "    state_sequence_batch = torch.cat(state_sequence_batch).view(BATCH_SIZE, -1, state_size).to(device)\n",
    "    next_state_sequence_batch = [transition.next_state for sequence in transitions for transition in sequence]\n",
    "    next_state_sequence_batch = torch.cat(next_state_sequence_batch).view(BATCH_SIZE, -1, state_size).to(device)\n",
    "    \n",
    "    # get batches of last actions and rewards\n",
    "    action_batch = [sequence[-1].action for sequence in transitions]\n",
    "    action_batch = torch.cat(action_batch).view(BATCH_SIZE, -1).to(device)\n",
    "    reward_batch = [sequence[-1].reward for sequence in transitions]\n",
    "    reward_batch = torch.cat(reward_batch).view(BATCH_SIZE, -1).to(device)\n",
    "    \n",
    "\n",
    "    # Compute Q(s_t, a) - the model computes Q(s_t), then we select the\n",
    "    # columns of actions taken. These are the actions which would've been taken\n",
    "    # for each batch state according to policy_net\n",
    "    state_action_values = policy_net(state_sequence_batch).gather(1, action_batch)\n",
    "    \n",
    "    # Compute V(s_{t+1}) for all next states.\n",
    "    next_state_values = target_net(next_state_sequence_batch).max(1)[0].detach()\n",
    "    \n",
    "    # Compute the expected Q values\n",
    "    expected_state_action_values = (next_state_values * GAMMA) + reward_batch\n",
    "    \n",
    "    # Compute Huber loss\n",
    "    criterion = nn.SmoothL1Loss()\n",
    "    loss = criterion(state_action_values, expected_state_action_values.unsqueeze(1))\n",
    "\n",
    "    last_loss = loss.item()\n",
    "    \n",
    "    optimizer.zero_grad()# Resets the gradients\n",
    "    loss.backward() # Backward pass\n",
    "    for param in policy_net.parameters():\n",
    "        param.grad.data.clamp_(-1, 1)\n",
    "    optimizer.step()  # Update parameters\n",
    "    \n",
    "    return last_loss\n"
   ]
  },
  {
   "cell_type": "markdown",
   "metadata": {},
   "source": [
    "The reward function weights economy, death and infected.\n",
    "\n",
    "The curious thing is, if you inverse the reward function in this code (*(-1)), the behaviour of the nn inverses and it only chooses action 1 (=lockdown), which is wanted, but the loss increases. This means there is probably a bug in the code or we are misunderstanding something.\n",
    "\n",
    "The algorithm used for training the LSTM nn is from https://arxiv.org/abs/1507.06527."
   ]
  },
  {
   "cell_type": "markdown",
   "metadata": {},
   "source": [
    "### Models"
   ]
  },
  {
   "cell_type": "code",
   "execution_count": 57,
   "metadata": {},
   "outputs": [],
   "source": [
    "# not used in the current code\n",
    "class DQNForCov(nn.Module):\n",
    "\n",
    "    def __init__(self, input_size, output_size):\n",
    "        super(DQNForCov, self).__init__()\n",
    "        \n",
    "        self.linear1 = nn.Linear(input_size, 8)\n",
    "        self.linear2 = nn.Linear(8, output_size)\n",
    "\n",
    "    # Called with either one element to determine next action, or a batch\n",
    "    # during optimization. Returns tensor([[left0exp,right0exp]...]).\n",
    "    def forward(self, x):\n",
    "        x = x.view(-1, 14).to(device)\n",
    "        x = F.softmax(self.linear1(x))\n",
    "        x = F.softmax(self.linear2(x))\n",
    "        return x.view(x.size(0), -1)\n",
    "\n",
    "# used for this scenario\n",
    "class LSTMModel(nn.Module):\n",
    "    def __init__(self, input_size, output_size):\n",
    "        super(LSTMModel, self).__init__()\n",
    "        \n",
    "        self.input_size = input_size\n",
    "        self.output_size = output_size\n",
    "        self.hidden_size = hidden_size\n",
    "        self.num_lstm_layers = SEQUENCE_SIZE\n",
    "        self.lstm = nn.LSTM(self.input_size, self.hidden_size, self.num_lstm_layers, batch_first=True, bidirectional=True)\n",
    "        self.linear1 = nn.Linear(self.hidden_size * 2, self.output_size)\n",
    "    \n",
    "    def forward(self, x):\n",
    "        \n",
    "        h0 = torch.zeros(self.num_lstm_layers * 2, x.size(0), self.hidden_size).to(device)\n",
    "        c0 = torch.zeros(self.num_lstm_layers * 2, x.size(0), self.hidden_size).to(device)\n",
    "        \n",
    "        out, (h0, c0) = self.lstm(x, (h0, c0))\n",
    "        \n",
    "        out = F.softmax(self.linear1(out[:, -1, :]))\n",
    "        \n",
    "        return out"
   ]
  },
  {
   "cell_type": "markdown",
   "metadata": {},
   "source": [
    "### Train"
   ]
  },
  {
   "cell_type": "code",
   "execution_count": 58,
   "metadata": {
    "scrolled": true
   },
   "outputs": [
    {
     "name": "stdout",
     "output_type": "stream",
     "text": [
      "Episode: 1 Steps done: 865 Loss: 0.02103503262370351 Mean action: 0.5757225433526012\n",
      "Episode: 2 Steps done: 1970 Loss: 0.01627277192790418 Mean action: 0.6389140271493212\n",
      "Episode: 3 Steps done: 2979 Loss: 0.014467441414374144 Mean action: 0.6590683845391476\n",
      "Episode: 4 Steps done: 3844 Loss: 0.01463958501991273 Mean action: 0.7052023121387283\n",
      "Episode: 5 Steps done: 4877 Loss: 0.017865243324346476 Mean action: 0.7250726040658277\n",
      "Episode: 6 Steps done: 5718 Loss: 0.01661359065221605 Mean action: 0.7538644470868014\n",
      "Episode: 7 Steps done: 6799 Loss: 0.015223751739898551 Mean action: 0.7872340425531915\n",
      "Episode: 8 Steps done: 7808 Loss: 0.017913803122562664 Mean action: 0.821605550049554\n",
      "Episode: 9 Steps done: 9225 Loss: 0.008254857992196956 Mean action: 0.8602681721947777\n",
      "Episode: 10 Steps done: 10090 Loss: 0.016337940578501683 Mean action: 0.8670520231213873\n",
      "Episode: 11 Steps done: 11123 Loss: 0.015183278784330968 Mean action: 0.882865440464666\n",
      "Episode: 12 Steps done: 11820 Loss: 0.017283810602927534 Mean action: 0.8809182209469153\n",
      "Episode: 13 Steps done: 13093 Loss: 0.01297552448734976 Mean action: 0.9128043990573449\n",
      "Episode: 14 Steps done: 14150 Loss: 0.016527369244447164 Mean action: 0.923368022705771\n",
      "Episode: 15 Steps done: 15063 Loss: 0.009736554364694583 Mean action: 0.9309967141292442\n",
      "Episode: 16 Steps done: 16024 Loss: 0.015315090671780445 Mean action: 0.9365244536940687\n",
      "Episode: 17 Steps done: 17081 Loss: 0.011680410360975665 Mean action: 0.9375591296121097\n",
      "Episode: 18 Steps done: 17946 Loss: 0.011470906971866915 Mean action: 0.9630057803468208\n",
      "Episode: 19 Steps done: 18307 Loss: 0.018848011459210792 Mean action: 0.9501385041551247\n",
      "Episode: 20 Steps done: 18836 Loss: 0.018421627051375487 Mean action: 0.9565217391304348\n",
      "Episode: 21 Steps done: 19725 Loss: 0.015960050962716226 Mean action: 0.9471316085489314\n",
      "Episode: 22 Steps done: 20278 Loss: 0.021983478209904997 Mean action: 0.9710669077757685\n",
      "Episode: 23 Steps done: 20783 Loss: 0.017184105987199712 Mean action: 0.9643564356435643\n",
      "Episode: 24 Steps done: 21408 Loss: 0.01693744650650191 Mean action: 0.9696\n",
      "Episode: 25 Steps done: 21913 Loss: 0.017959351959893916 Mean action: 0.9762376237623762\n",
      "Episode: 26 Steps done: 22658 Loss: 0.03803119492338206 Mean action: 0.9718120805369127\n",
      "Episode: 27 Steps done: 23355 Loss: 0.029854638124821094 Mean action: 0.9713055954088953\n",
      "Episode: 28 Steps done: 24172 Loss: 0.028149808091801894 Mean action: 0.97796817625459\n",
      "Episode: 29 Steps done: 24725 Loss: 0.02200959881404342 Mean action: 0.9801084990958409\n",
      "Episode: 30 Steps done: 25470 Loss: 0.04002592395099211 Mean action: 0.9865771812080537\n",
      "Episode: 31 Steps done: 26071 Loss: 0.029097097852946237 Mean action: 0.9883527454242929\n",
      "Episode: 32 Steps done: 26576 Loss: 0.03647820011683723 Mean action: 0.9841584158415841\n",
      "Episode: 33 Steps done: 27105 Loss: 0.027716067197070003 Mean action: 0.9848771266540642\n",
      "Episode: 34 Steps done: 27610 Loss: 0.040889340268219936 Mean action: 0.9841584158415841\n",
      "Episode: 35 Steps done: 28115 Loss: 0.04117067200682178 Mean action: 0.9821782178217822\n",
      "Episode: 36 Steps done: 28884 Loss: 0.03058429906863641 Mean action: 0.9856957087126138\n",
      "Episode: 37 Steps done: 29389 Loss: 0.042417846403062794 Mean action: 0.9881188118811881\n",
      "Episode: 38 Steps done: 29990 Loss: 0.039608748953459644 Mean action: 0.9850249584026622\n",
      "Episode: 39 Steps done: 30687 Loss: 0.03964928119950489 Mean action: 0.9956958393113343\n",
      "Episode: 40 Steps done: 31576 Loss: 0.03203077293425096 Mean action: 0.984251968503937\n",
      "Episode: 41 Steps done: 32273 Loss: 0.02757363929802646 Mean action: 0.994261119081779\n",
      "Episode: 42 Steps done: 32970 Loss: 0.03593755605106796 Mean action: 0.9913916786226685\n",
      "Episode: 43 Steps done: 33571 Loss: 0.03480395808339258 Mean action: 0.9966722129783694\n",
      "Episode: 44 Steps done: 34532 Loss: 0.035460941931154594 Mean action: 0.9927159209157128\n",
      "Episode: 45 Steps done: 35037 Loss: 0.03699095919474189 Mean action: 0.9920792079207921\n",
      "Episode: 46 Steps done: 35542 Loss: 0.03633907103971692 Mean action: 0.996039603960396\n",
      "Episode: 47 Steps done: 36239 Loss: 0.0315411390558327 Mean action: 0.994261119081779\n",
      "Episode: 48 Steps done: 36744 Loss: 0.03268262875075485 Mean action: 0.996039603960396\n",
      "Episode: 49 Steps done: 37249 Loss: 0.03286080333071125 Mean action: 0.996039603960396\n",
      "Episode: 50 Steps done: 37754 Loss: 0.033049120270288085 Mean action: 0.998019801980198\n",
      "Episode: 51 Steps done: 38355 Loss: 0.03747904425288993 Mean action: 0.9983361064891847\n",
      "Episode: 52 Steps done: 38860 Loss: 0.04172227349501211 Mean action: 0.9900990099009901\n",
      "Episode: 53 Steps done: 39461 Loss: 0.03366996603871656 Mean action: 0.9966722129783694\n",
      "Episode: 54 Steps done: 39966 Loss: 0.037311951765454474 Mean action: 0.998019801980198\n",
      "Episode: 55 Steps done: 40567 Loss: 0.040843447767920496 Mean action: 0.9983361064891847\n",
      "Episode: 56 Steps done: 41360 Loss: 0.03845841051899285 Mean action: 0.9974779319041615\n",
      "Episode: 57 Steps done: 42081 Loss: 0.03945474870907474 Mean action: 1.0\n",
      "Episode: 58 Steps done: 42682 Loss: 0.0428919161781401 Mean action: 0.9933444259567388\n",
      "Episode: 59 Steps done: 43187 Loss: 0.03754865202127948 Mean action: 0.996039603960396\n",
      "Episode: 60 Steps done: 43812 Loss: 0.03878695198652704 Mean action: 0.9952\n",
      "Episode: 61 Steps done: 44317 Loss: 0.03807321963712337 Mean action: 1.0\n",
      "Episode: 62 Steps done: 44918 Loss: 0.04253242898756196 Mean action: 0.9983361064891847\n",
      "Episode: 63 Steps done: 45519 Loss: 0.05109360877216576 Mean action: 1.0\n",
      "Episode: 64 Steps done: 46120 Loss: 0.04627436123155663 Mean action: 0.9983361064891847\n",
      "Episode: 65 Steps done: 46841 Loss: 0.0441112515807637 Mean action: 0.9986130374479889\n",
      "Episode: 66 Steps done: 47442 Loss: 0.04680695578738155 Mean action: 1.0\n",
      "Episode: 67 Steps done: 48043 Loss: 0.036635436000488845 Mean action: 0.9950083194675541\n",
      "Episode: 68 Steps done: 48644 Loss: 0.04123564510396062 Mean action: 0.9983361064891847\n",
      "Episode: 69 Steps done: 49149 Loss: 0.04304388366119845 Mean action: 0.996039603960396\n",
      "Episode: 70 Steps done: 49750 Loss: 0.04185447947077022 Mean action: 0.9983361064891847\n",
      "Episode: 71 Steps done: 50111 Loss: 0.047363946570753414 Mean action: 1.0\n",
      "Episode: 72 Steps done: 50472 Loss: 0.043401466072277475 Mean action: 1.0\n",
      "Episode: 73 Steps done: 51073 Loss: 0.05327807787296185 Mean action: 1.0\n",
      "Episode: 74 Steps done: 51674 Loss: 0.04532819146194124 Mean action: 0.9983361064891847\n",
      "Episode: 75 Steps done: 52275 Loss: 0.048772557535232436 Mean action: 1.0\n",
      "Episode: 76 Steps done: 52876 Loss: 0.04912780332389968 Mean action: 0.9983361064891847\n",
      "Episode: 77 Steps done: 53477 Loss: 0.04528525986480084 Mean action: 1.0\n",
      "Episode: 78 Steps done: 53982 Loss: 0.05386655158615127 Mean action: 1.0\n",
      "Episode: 79 Steps done: 54583 Loss: 0.047727530834203946 Mean action: 1.0\n",
      "Episode: 80 Steps done: 55088 Loss: 0.05157228993664789 Mean action: 1.0\n",
      "Episode: 81 Steps done: 55689 Loss: 0.04829429618507312 Mean action: 1.0\n",
      "Episode: 82 Steps done: 56194 Loss: 0.0507939481237358 Mean action: 1.0\n",
      "Episode: 83 Steps done: 56795 Loss: 0.0509649084040364 Mean action: 1.0\n",
      "Episode: 84 Steps done: 57156 Loss: 0.04798036996372978 Mean action: 1.0\n",
      "Episode: 85 Steps done: 57661 Loss: 0.05410398298490681 Mean action: 1.0\n",
      "Episode: 86 Steps done: 58262 Loss: 0.050374412750037297 Mean action: 0.9983361064891847\n",
      "Episode: 87 Steps done: 58863 Loss: 0.04696380283574032 Mean action: 1.0\n",
      "Episode: 88 Steps done: 59368 Loss: 0.05623406584515795 Mean action: 1.0\n",
      "Episode: 89 Steps done: 59873 Loss: 0.05815212547348576 Mean action: 1.0\n",
      "Episode: 90 Steps done: 60378 Loss: 0.05619679673326436 Mean action: 1.0\n",
      "Episode: 91 Steps done: 60883 Loss: 0.05097929226421384 Mean action: 1.0\n",
      "Episode: 92 Steps done: 61244 Loss: 0.053665628055177744 Mean action: 1.0\n",
      "Episode: 93 Steps done: 61845 Loss: 0.055763737391239215 Mean action: 1.0\n",
      "Episode: 94 Steps done: 62350 Loss: 0.05829890675071324 Mean action: 1.0\n",
      "Episode: 95 Steps done: 62951 Loss: 0.05520789048762021 Mean action: 1.0\n",
      "Episode: 96 Steps done: 63552 Loss: 0.06269707538427222 Mean action: 1.0\n",
      "Episode: 97 Steps done: 64153 Loss: 0.06483378235559627 Mean action: 1.0\n",
      "Episode: 98 Steps done: 64658 Loss: 0.05489146320800016 Mean action: 1.0\n",
      "Episode: 99 Steps done: 65259 Loss: 0.05489987221326881 Mean action: 1.0\n"
     ]
    },
    {
     "name": "stdout",
     "output_type": "stream",
     "text": [
      "Episode: 100 Steps done: 65764 Loss: 0.06028476074987855 Mean action: 1.0\n",
      "Training took 182.52291226387024 seconds.\n"
     ]
    },
    {
     "data": {
      "text/plain": [
       "\"outputs = []\\n\\nfor i in range(10):\\n    print('Training Nr. {}'.format(i+1))\\n    output = train(LSTMModel, state_size, n_actions, get_state, select_action, calc_reward, optimize_model, optimizer_spec)\\n    \\n    outputs.append(output)\""
      ]
     },
     "execution_count": 58,
     "metadata": {},
     "output_type": "execute_result"
    }
   ],
   "source": [
    "MEMORY_SIZE = 10000\n",
    "\n",
    "# For training\n",
    "BATCH_SIZE = 50\n",
    "GAMMA = 0.999\n",
    "EPS_START = 0.9\n",
    "EPS_END = 0.00\n",
    "EPS_DECAY = 8000\n",
    "TARGET_UPDATE = 2\n",
    "UPDATE_EVERY_N_STEPS = 50\n",
    "\n",
    "# For model\n",
    "SEQUENCE_SIZE = 1\n",
    "\n",
    "# For optimizer\n",
    "LEARNING_FREQ = 4\n",
    "LEARNING_RATE = 0.00025\n",
    "ALPHA = 0.95\n",
    "EPS = 0.01\n",
    "\n",
    "NUM_EPISODES = 100\n",
    "\n",
    "state_size = 4\n",
    "n_actions = 2\n",
    "hidden_size = 4\n",
    "\n",
    "optimizer_spec = OptimizerSpec(\n",
    "    constructor=optim.RMSprop,\n",
    "    kwargs=dict(lr=LEARNING_RATE, alpha=ALPHA, eps=EPS)\n",
    ")\n",
    "\n",
    "memory = ReplayMemory(MEMORY_SIZE)\n",
    "\n",
    "# Train once\n",
    "output = train(LSTMModel, state_size, n_actions, get_state, select_action, calc_reward, optimize_model, optimizer_spec)\n",
    "\n",
    "# Train multiple times\n",
    "\n",
    "'''outputs = []\n",
    "\n",
    "for i in range(10):\n",
    "    print('Training Nr. {}'.format(i+1))\n",
    "    output = train(LSTMModel, state_size, n_actions, get_state, select_action, calc_reward, optimize_model, optimizer_spec)\n",
    "    \n",
    "    outputs.append(output)'''"
   ]
  },
  {
   "cell_type": "code",
   "execution_count": 59,
   "metadata": {
    "scrolled": false
   },
   "outputs": [
    {
     "data": {
      "image/png": "[encoded data removed]",
      "text/plain": [
       "<Figure size 1008x1152 with 4 Axes>"
      ]
     },
     "metadata": {
      "needs_background": "light"
     },
     "output_type": "display_data"
    }
   ],
   "source": [
    "#for i, steps_per_ep\n",
    "\n",
    "plot_single(output, save_plot=False)\n",
    "#plot_multiple(outputs)"
   ]
  },
  {
   "cell_type": "code",
   "execution_count": null,
   "metadata": {},
   "outputs": [],
   "source": [
    "action_labels = {\n",
    "    0: 'do nothing',\n",
    "    1: 'lockdown'\n",
    "}"
   ]
  },
  {
   "cell_type": "code",
   "execution_count": 114,
   "metadata": {},
   "outputs": [
    {
     "data": {
      "image/png": "[encoded data removed]",
      "text/plain": [
       "<Figure size 1152x504 with 3 Axes>"
      ]
     },
     "metadata": {
      "needs_background": "light"
     },
     "output_type": "display_data"
    }
   ],
   "source": [
    "def plot_ai_statistics(statistics, actions, name='playthrough'):\n",
    "    \n",
    "    fig, (ax1, ax2, ax3) = plt.subplots(1, 3, figsize=(16,7))\n",
    "    \n",
    "    # Info plot\n",
    "    \n",
    "    for key in statistics['info'][0]:\n",
    "        y = [e[key] for e in statistics['info']]\n",
    "\n",
    "        ax1.plot(np.arange(len(y)), y, label=key)\n",
    "    ax1.set_title('Infection statistics', fontsize=fontsizes['title'])\n",
    "    ax1.tick_params(axis='both', which='major', labelsize=fontsizes['ticks'])\n",
    "    ax1.set_xlabel('Steps', fontsize=fontsizes['axis'])\n",
    "        \n",
    "    box = ax1.get_position()\n",
    "    ax1.set_position([box.x0, box.y0 + box.height * 0.1,\n",
    "                     box.width, box.height * 0.9])\n",
    "\n",
    "    lgd1 = ax1.legend(loc='upper center', bbox_to_anchor=(0.5, -0.15),\n",
    "              fancybox=True, shadow=True, ncol=1, fontsize=fontsizes['legend'])\n",
    "    \n",
    "    # Ecom plot\n",
    "    \n",
    "    for key in statistics['ecom'][0]:\n",
    "        y = [e[key] for e in statistics['ecom']]\n",
    "\n",
    "        ax2.plot(np.arange(len(y)), y, label=key)\n",
    "    ax2.set_title('Economic statistics', fontsize=fontsizes['title'])\n",
    "    ax2.tick_params(axis='both', which='major', labelsize=fontsizes['ticks'])\n",
    "    ax2.set_xlabel('Steps', fontsize=fontsizes['axis'])\n",
    "    \n",
    "    box = ax2.get_position()\n",
    "    ax2.set_position([box.x0, box.y0 + box.height * 0.1,\n",
    "                     box.width, box.height * 0.9])\n",
    "    \n",
    "    lgd2 = ax2.legend(loc='upper center', bbox_to_anchor=(0.5, -0.15),\n",
    "              fancybox=True, shadow=True, ncol=1, fontsize=fontsizes['legend'])\n",
    "    \n",
    "    # Actions plot\n",
    "    \n",
    "    actions = list(actions)\n",
    "    x = np.arange(len(actions))\n",
    "    \n",
    "    ax3.scatter(x, actions, s=0.5)\n",
    "    ax3.set_title('Actions', fontsize=fontsizes['title'])\n",
    "    ax3.set_ylim(-0.05, n_actions-0.95)\n",
    "    ax3.set_yticks(np.arange(n_actions))\n",
    "    ax3.tick_params(axis='both', which='major', labelsize=fontsizes['ticks'])\n",
    "    ax3.set_xlabel('Steps', fontsize=fontsizes['axis'])\n",
    "    \n",
    "    box = ax3.get_position()\n",
    "    ax3.set_position([box.x0, box.y0 + box.height * 0.1,\n",
    "                     box.width, box.height * 0.9])\n",
    "    \n",
    "    plt.savefig('plots/ai_plays/{}.png'.format(name), bbox_extra_artists=(lgd1,lgd2), bbox_inches='tight')\n",
    "    plt.show()\n",
    "\n",
    "def let_agent_play(policy_net, scenario, state_func, step_func):\n",
    "    \n",
    "    actions = deque([])\n",
    "    rewards = deque([])\n",
    "    qs = deque([])\n",
    "    \n",
    "    sim = GraphSimulation(**{**global_parameters, **scenario})\n",
    "    statistics = {'info': [], 'ecom': []}\n",
    "    sim.initialize()\n",
    "    update_statistics(sim, statistics)\n",
    "    \n",
    "    steps_done = 0\n",
    "    state = state_func(statistics)\n",
    "    for t in count():\n",
    "        # Select and perform an action\n",
    "        with torch.no_grad():\n",
    "            x = create_sequence(state)\n",
    "            action = torch.argmax(policy_net(x)).view(1, 1)\n",
    "\n",
    "        _, reward, done, _ = step_func(sim, statistics, action.item())\n",
    "        steps_done += 1\n",
    "\n",
    "        actions.append(action.item())\n",
    "        rewards.append(reward)\n",
    "\n",
    "        qs.append(torch.max(policy_net(create_sequence(state))).item())\n",
    "\n",
    "        reward = torch.tensor([reward], device=device)\n",
    "\n",
    "        # Observe new state\n",
    "        if not done:\n",
    "            next_state = get_state(statistics)\n",
    "        else:\n",
    "            next_state = None\n",
    "\n",
    "        # Store the transition in memory\n",
    "        memory.push(state, action, next_state, reward)\n",
    "\n",
    "        # Move to the next state\n",
    "        state = next_state\n",
    "        \n",
    "        if done:\n",
    "            break\n",
    "    \n",
    "    return statistics, actions, rewards, qs\n",
    "\n",
    "ai_stats, ai_actions, ai_rewards, ai_qs = let_agent_play(output[6], initialize_scenario(), get_state, step)\n",
    "\n",
    "plot_ai_statistics(ai_stats, ai_actions, 'only_lockdown_from_ai')"
   ]
  },
  {
   "cell_type": "markdown",
   "metadata": {},
   "source": [
    "Only one of the ten training sets converged to the desired outcome: the AI choosing 1 (=lockdown)."
   ]
  },
  {
   "cell_type": "markdown",
   "metadata": {},
   "source": [
    "# Not our code (not relevant)"
   ]
  },
  {
   "cell_type": "markdown",
   "metadata": {
    "id": "30BSy5GM4a8K"
   },
   "source": [
    "## Simulations"
   ]
  },
  {
   "cell_type": "markdown",
   "metadata": {
    "id": "TJveHr06U2v1"
   },
   "source": [
    "### Support Functions"
   ]
  },
  {
   "cell_type": "code",
   "execution_count": null,
   "metadata": {
    "id": "12D3qPxMU0Qs"
   },
   "outputs": [],
   "source": [
    "def pset(x, property, value):\n",
    "    x.__dict__[property] = value\n",
    "    return False\n",
    "\n",
    "\n",
    "def vertical_isolation(a):\n",
    "  if a.economical_status == EconomicalStatus.Inactive:\n",
    "    if a.house is not None:\n",
    "      a.house.checkin(a)\n",
    "    return True\n",
    "  return False\n",
    "\n",
    "\n",
    "def sleep(a):\n",
    "    if not new_day(a.iteration) and bed_time(a.iteration):\n",
    "        return True\n",
    "    #elif 9 <= a.iteration % 24 <= 11 and 14 <= a.iteration % 24 <= 16:\n",
    "    #    return True\n",
    "    return False\n",
    "\n",
    "def lockdown(a):\n",
    "    if a.house is not None:\n",
    "        a.house.checkin(a)\n",
    "    return True\n",
    "\n",
    "\n",
    "def conditional_lockdown(a):\n",
    "    if a.environment.get_statistics()['Infected'] > .05:\n",
    "        return lockdown(a)\n",
    "    else:\n",
    "        return False\n",
    "\n",
    "\n",
    "isolated = []\n",
    "\n",
    "\n",
    "def sample_isolated(environment, isolation_rate=.5, list_isolated=isolated):\n",
    "    for a in environment.population:\n",
    "        test = np.random.rand()\n",
    "        if test <= isolation_rate:\n",
    "            list_isolated.append(a.id)\n",
    "\n",
    "\n",
    "def check_isolation(list_isolated, agent):\n",
    "    if agent.id in list_isolated:\n",
    "        agent.move_to_home()\n",
    "        return True\n",
    "    return False\n"
   ]
  },
  {
   "cell_type": "markdown",
   "metadata": {
    "id": "7Vn93NFzkrCP"
   },
   "source": [
    "### Scenario 1 - No measures"
   ]
  },
  {
   "cell_type": "code",
   "execution_count": null,
   "metadata": {},
   "outputs": [],
   "source": [
    "scenario1 = initialize_scenario()\n",
    "\n",
    "iterations = []\n",
    "\n",
    "\n",
    "sim = GraphSimulation(**{**global_parameters, **scenario1})\n",
    "statistics = execute_simulation(sim, iterations=100)\n",
    "iterations.append(_iter)\n",
    "    \n",
    "\n",
    "plot_statistics(statistics)"
   ]
  },
  {
   "cell_type": "code",
   "execution_count": null,
   "metadata": {},
   "outputs": [],
   "source": [
    "last_info = statistics['info'][-1]\n",
    "last_ecom = statistics['ecom'][-1]\n",
    "count = 0\n",
    "for i in range(len(last_info)):\n",
    "    print('{}: {}'.format(count, list(last_info.keys())[i]))\n",
    "    count += 1\n",
    "for i in range(len(last_ecom)):\n",
    "    print('{}: {}'.format(count, list(last_ecom.keys())[i]))\n",
    "    count += 1"
   ]
  },
  {
   "cell_type": "markdown",
   "metadata": {},
   "source": [
    "### Scenario 2 - Lockdown"
   ]
  },
  {
   "cell_type": "code",
   "execution_count": null,
   "metadata": {},
   "outputs": [],
   "source": [
    "scenario2 = dict(\n",
    "    name='scenario2',\n",
    "    initial_infected_perc=.05,\n",
    "    initial_immune_perc=.00,\n",
    "    contagion_distance=1.,\n",
    "    callbacks={\n",
    "        'on_execute': lambda x: sleep(x),\n",
    "        'on_person_move': lambda x: lockdown(x)\n",
    "    }\n",
    ")"
   ]
  },
  {
   "cell_type": "code",
   "execution_count": null,
   "metadata": {},
   "outputs": [],
   "source": [
    "sim = GraphSimulation(**{**global_parameters, **scenario2})\n",
    "\n",
    "statistics = execute_simulation(sim, iterations=400)\n",
    "\n",
    "plot_statistics(statistics)"
   ]
  },
  {
   "cell_type": "markdown",
   "metadata": {},
   "source": [
    "# Sample code"
   ]
  },
  {
   "cell_type": "markdown",
   "metadata": {
    "id": "b2w-jRruOLUK"
   },
   "source": [
    "#### Execution Sample"
   ]
  },
  {
   "cell_type": "code",
   "execution_count": null,
   "metadata": {},
   "outputs": [],
   "source": [
    "from covid_abs.graphics import  *\n",
    "from covid_abs.network.graph_abs import *\n",
    "import time\n",
    "\n",
    "np.random.seed(1)\n",
    "\n",
    "sim = Simulation(**{**global_parameters, **scenario0})\n",
    "\n",
    "anim = execute_simulation(sim, iterations=50, iteration_time=200)\n",
    "\n",
    "#rc('animation', html='jshtml', embed_limit= 2**128)\n",
    "rc('animation', html='html5', embed_limit= 2**128)\n",
    "anim\n",
    "\n",
    "#save_gif(anim, 'do_nothing.gif')"
   ]
  },
  {
   "cell_type": "code",
   "execution_count": null,
   "metadata": {
    "colab": {
     "base_uri": "https://localhost:8080/",
     "height": 679
    },
    "id": "6wn3GFd3kvPJ",
    "outputId": "fd6bc0c8-e3f0-4e9c-b951-b87abbd1de38",
    "scrolled": false
   },
   "outputs": [],
   "source": [
    "from covid_abs.graphics import  *\n",
    "from covid_abs.network.graph_abs import *\n",
    "import time\n",
    "\n",
    "np.random.seed(1)\n",
    "\n",
    "sim = GraphSimulation(**{**global_parameters, **scenario0})\n",
    "\n",
    "anim = execute_graphsimulation(sim, iterations=1440, iteration_time=50)\n",
    "\n",
    "#rc('animation', html='jshtml', embed_limit= 2**128)\n",
    "rc('animation', html='html5', embed_limit= 2**128)\n",
    "anim\n",
    "\n",
    "#save_gif(anim, 'do_nothing.gif')"
   ]
  },
  {
   "cell_type": "code",
   "execution_count": null,
   "metadata": {},
   "outputs": [],
   "source": [
    "anim = execute_graphsimulation(sim, iterations=1440, iteration_time=25)\n",
    "\n",
    "#rc('animation', html='jshtml', embed_limit= 2**128)\n",
    "rc('animation', html='html5', embed_limit= 2**128)\n",
    "anim"
   ]
  },
  {
   "cell_type": "markdown",
   "metadata": {
    "id": "5AKYe05NPOUn"
   },
   "source": [
    "#### Experiment Batch Execution "
   ]
  },
  {
   "cell_type": "code",
   "execution_count": null,
   "metadata": {
    "id": "LqKqZXyPJoQf"
   },
   "outputs": [],
   "source": [
    "from covid_abs.network.graph_abs import *\n",
    "\n",
    "batch_experiment(35, 1440, \"scenario0.csv\",\n",
    "                     simulation_type=GraphSimulation,\n",
    "                     verbose='experiments',\n",
    "                     **{**global_parameters, **scenario0}\n",
    "                     )"
   ]
  },
  {
   "cell_type": "code",
   "execution_count": null,
   "metadata": {
    "colab": {
     "base_uri": "https://localhost:8080/",
     "height": 263
    },
    "id": "msud5pZE3n6v",
    "outputId": "35e92aef-b9f5-46aa-ba8c-0519b33389bb"
   },
   "outputs": [],
   "source": [
    "from covid_abs.experiments import plot_graph_batch_results\n",
    "\n",
    "df = pd.read_csv('scenario0.csv')\n",
    "\n",
    "plot_graph_batch_results(df, epidem=False)\n",
    "\n",
    "plt.tight_layout()"
   ]
  },
  {
   "cell_type": "markdown",
   "metadata": {
    "id": "aRSDIVJD4d5x"
   },
   "source": [
    "### Scenario 1 - Do Nothing"
   ]
  },
  {
   "cell_type": "code",
   "execution_count": null,
   "metadata": {
    "id": "A67gQlTmXCfs"
   },
   "outputs": [],
   "source": [
    "scenario1 = dict(\n",
    "    name='scenario1',\n",
    "    initial_infected_perc=.01,\n",
    "    initial_immune_perc=.01,\n",
    "    contagion_distance=1.,\n",
    "    callbacks={'on_execute': lambda x: sleep(x) }\n",
    ")"
   ]
  },
  {
   "cell_type": "markdown",
   "metadata": {
    "id": "VpWgweO5OYRX"
   },
   "source": [
    "#### Execution Sample"
   ]
  },
  {
   "cell_type": "code",
   "execution_count": null,
   "metadata": {
    "colab": {
     "base_uri": "https://localhost:8080/",
     "height": 679
    },
    "id": "fwcXDN4EhXoE",
    "outputId": "6671a5fc-4e33-4f3f-a93a-b35bb303074a"
   },
   "outputs": [],
   "source": [
    "from covid_abs.graphics import  *\n",
    "from covid_abs.network.graph_abs import *\n",
    "\n",
    "np.random.seed(1)\n",
    "\n",
    "sim = GraphSimulation(**{**global_parameters, **scenario1})\n",
    "\n",
    "anim = execute_graphsimulation(sim, iterations=1440, iteration_time=25)\n",
    "\n",
    "#rc('animation', html='jshtml', embed_limit= 2**128)\n",
    "rc('animation', html='html5', embed_limit= 2**128)\n",
    "anim\n",
    "\n",
    "#save_gif(anim, 'do_nothing.gif')"
   ]
  },
  {
   "cell_type": "markdown",
   "metadata": {
    "id": "TL_cxBgXPX_j"
   },
   "source": [
    "#### Experiment Batch Execution "
   ]
  },
  {
   "cell_type": "code",
   "execution_count": null,
   "metadata": {
    "id": "PEZXzFa14qw1"
   },
   "outputs": [],
   "source": [
    "from covid_abs.network.graph_abs import *\n",
    "\n",
    "batch_experiment(35, 1440, \"scenario1.csv\",\n",
    "                     simulation_type=GraphSimulation,\n",
    "                     verbose='experiments',\n",
    "                     **{**global_parameters, **scenario1}\n",
    "                     )"
   ]
  },
  {
   "cell_type": "code",
   "execution_count": null,
   "metadata": {
    "colab": {
     "base_uri": "https://localhost:8080/",
     "height": 263
    },
    "id": "20RqAtjjJexF",
    "outputId": "96147a14-b700-4cf0-9924-829f5475fdba"
   },
   "outputs": [],
   "source": [
    "from covid_abs.experiments import plot_graph_batch_results\n",
    "\n",
    "df = pd.read_csv('scenario1.csv')\n",
    "\n",
    "plot_graph_batch_results(df)\n",
    "\n",
    "plt.tight_layout()"
   ]
  },
  {
   "cell_type": "markdown",
   "metadata": {
    "id": "hZT5f-_ap2hb"
   },
   "source": [
    "### Scenario 2 - Lockdown"
   ]
  },
  {
   "cell_type": "code",
   "execution_count": null,
   "metadata": {
    "id": "teyiYArbfSiR"
   },
   "outputs": [],
   "source": [
    "scenario2 = dict(\n",
    "    name='scenario2',\n",
    "    initial_infected_perc=.01,\n",
    "    initial_immune_perc=.01,\n",
    "    contagion_distance=1.,\n",
    "    callbacks={\n",
    "        'on_execute': lambda x: sleep(x),\n",
    "        'on_person_move': lambda x: lockdown(x)\n",
    "    }\n",
    ")"
   ]
  },
  {
   "cell_type": "markdown",
   "metadata": {
    "id": "oanwep_IOa0H"
   },
   "source": [
    "#### Execution Sample"
   ]
  },
  {
   "cell_type": "code",
   "execution_count": null,
   "metadata": {
    "colab": {
     "base_uri": "https://localhost:8080/",
     "height": 679
    },
    "id": "Bau4IuEOgEaM",
    "outputId": "073701e2-a69b-429f-faaa-283922ee2341"
   },
   "outputs": [],
   "source": [
    "from covid_abs.graphics import  *\n",
    "from covid_abs.network.graph_abs import *\n",
    "\n",
    "np.random.seed(1)\n",
    "\n",
    "sim = GraphSimulation(**{**global_parameters, **scenario2})\n",
    "\n",
    "anim = execute_graphsimulation(sim, iterations=1440, iteration_time=25)\n",
    "\n",
    "#rc('animation', html='jshtml', embed_limit= 2**128)\n",
    "rc('animation', html='html5', embed_limit= 2**128)\n",
    "anim\n",
    "\n",
    "#save_gif(anim, 'do_nothing.gif')"
   ]
  },
  {
   "cell_type": "markdown",
   "metadata": {
    "id": "jvtoCiIyPh78"
   },
   "source": [
    "#### Experiment Batch Execution "
   ]
  },
  {
   "cell_type": "code",
   "execution_count": null,
   "metadata": {
    "id": "Tna6yP326-_F"
   },
   "outputs": [],
   "source": [
    "from covid_abs.network.graph_abs import *\n",
    "\n",
    "batch_experiment(35, 1440, \"scenario2.csv\",\n",
    "                     simulation_type=GraphSimulation,\n",
    "                     verbose='experiments',\n",
    "                     **{**global_parameters, **scenario2}\n",
    "                     )"
   ]
  },
  {
   "cell_type": "code",
   "execution_count": null,
   "metadata": {
    "colab": {
     "base_uri": "https://localhost:8080/",
     "height": 263
    },
    "id": "DtjyKbN77Dkh",
    "outputId": "e063ce13-9ef6-4692-daff-1967b6280702"
   },
   "outputs": [],
   "source": [
    "from covid_abs.experiments import plot_graph_batch_results\n",
    "\n",
    "df = pd.read_csv('scenario2.csv')\n",
    "\n",
    "plot_graph_batch_results(df)\n",
    "\n",
    "plt.tight_layout()"
   ]
  },
  {
   "cell_type": "markdown",
   "metadata": {
    "id": "Bf_UQMqGvocL"
   },
   "source": [
    "### Scenario 3 - Conditional Lockdown"
   ]
  },
  {
   "cell_type": "code",
   "execution_count": null,
   "metadata": {
    "id": "zLSwLQ8Yf267"
   },
   "outputs": [],
   "source": [
    "scenario3 = dict(\n",
    "    name='scenario3',\n",
    "    initial_infected_perc=.01,\n",
    "    initial_immune_perc=.01,\n",
    "    contagion_distance=1.,\n",
    "    callbacks={\n",
    "        'on_execute': lambda x: sleep(x),\n",
    "        'on_person_move': lambda x: conditional_lockdown(x)\n",
    "    }\n",
    ")"
   ]
  },
  {
   "cell_type": "markdown",
   "metadata": {
    "id": "-sndMoucOc4a"
   },
   "source": [
    "#### Execution Sample"
   ]
  },
  {
   "cell_type": "code",
   "execution_count": null,
   "metadata": {
    "colab": {
     "base_uri": "https://localhost:8080/",
     "height": 734
    },
    "id": "QYne3XTJuMkU",
    "outputId": "2ac4b7b3-3aa0-4351-8e63-15ab92894c19"
   },
   "outputs": [],
   "source": [
    "from covid_abs.graphics import  *\n",
    "from covid_abs.network.graph_abs import *\n",
    "\n",
    "np.random.seed(1)\n",
    "\n",
    "sim = GraphSimulation(**{**global_parameters, **scenario3})\n",
    "\n",
    "anim = execute_graphsimulation(sim, iterations=1440, iteration_time=25)\n",
    "\n",
    "#rc('animation', html='jshtml', embed_limit= 2**128)\n",
    "rc('animation', html='html5', embed_limit= 2**128)\n",
    "anim\n",
    "\n",
    "#save_gif(anim, 'do_nothing.gif')"
   ]
  },
  {
   "cell_type": "markdown",
   "metadata": {
    "id": "bKU_HHwBPnvB"
   },
   "source": [
    "#### Experiment Batch Execution "
   ]
  },
  {
   "cell_type": "code",
   "execution_count": null,
   "metadata": {
    "id": "aamXWC9y7O1W"
   },
   "outputs": [],
   "source": [
    "from covid_abs.network.graph_abs import *\n",
    "\n",
    "batch_experiment(35, 1440, \"scenario3.csv\",\n",
    "                     simulation_type=GraphSimulation,\n",
    "                     verbose='experiments',\n",
    "                     **{**global_parameters, **scenario3}\n",
    "                     )"
   ]
  },
  {
   "cell_type": "code",
   "execution_count": null,
   "metadata": {
    "colab": {
     "base_uri": "https://localhost:8080/",
     "height": 263
    },
    "id": "I6-8TOr77PSo",
    "outputId": "ea4f6fcd-dea3-44d1-9cc9-451be6a6d5d8"
   },
   "outputs": [],
   "source": [
    "from covid_abs.experiments import plot_graph_batch_results\n",
    "\n",
    "df = pd.read_csv('scenario3.csv')\n",
    "\n",
    "plot_graph_batch_results(df)\n",
    "\n",
    "plt.tight_layout()"
   ]
  },
  {
   "cell_type": "markdown",
   "metadata": {
    "id": "icfPeeMg5Gul"
   },
   "source": [
    "### Scenario 4 - Vertical Isolation\n"
   ]
  },
  {
   "cell_type": "code",
   "execution_count": null,
   "metadata": {
    "id": "FCbbOq5-gX6a"
   },
   "outputs": [],
   "source": [
    "scenario4 = dict(\n",
    "    name='scenario4',\n",
    "    initial_infected_perc=.01,\n",
    "    initial_immune_perc=.01,\n",
    "    contagion_distance=1.,\n",
    "    callbacks={\n",
    "        'on_execute': lambda x: sleep(x),\n",
    "        'on_person_move': lambda x: vertical_isolation(x)\n",
    "    }\n",
    ")"
   ]
  },
  {
   "cell_type": "markdown",
   "metadata": {
    "id": "_cgSihv-Oe4X"
   },
   "source": [
    "#### Execution Sample"
   ]
  },
  {
   "cell_type": "code",
   "execution_count": null,
   "metadata": {
    "colab": {
     "base_uri": "https://localhost:8080/",
     "height": 734
    },
    "id": "eq81fFPIR5g7",
    "outputId": "5e7bbbc5-b1ca-4088-e311-0661373beb31"
   },
   "outputs": [],
   "source": [
    "from covid_abs.graphics import  *\n",
    "from covid_abs.network.graph_abs import *\n",
    "\n",
    "np.random.seed(1)\n",
    "\n",
    "sim = GraphSimulation(**{**global_parameters, **scenario4})\n",
    "\n",
    "anim = execute_graphsimulation(sim, iterations=1440, iteration_time=25)\n",
    "\n",
    "#rc('animation', html='jshtml', embed_limit= 2**128)\n",
    "rc('animation', html='html5', embed_limit= 2**128)\n",
    "anim\n",
    "\n",
    "#save_gif(anim, 'do_nothing.gif')"
   ]
  },
  {
   "cell_type": "markdown",
   "metadata": {
    "id": "SgvzHEnEPrm_"
   },
   "source": [
    "#### Experiment Batch Execution "
   ]
  },
  {
   "cell_type": "code",
   "execution_count": null,
   "metadata": {
    "id": "NpPeTVhH7cSu"
   },
   "outputs": [],
   "source": [
    "from covid_abs.network.graph_abs import *\n",
    "\n",
    "batch_experiment(35, 1440, \"scenario4.csv\",\n",
    "                     simulation_type=GraphSimulation,\n",
    "                     verbose='experiments',\n",
    "                     **{**global_parameters, **scenario4}\n",
    "                     )"
   ]
  },
  {
   "cell_type": "code",
   "execution_count": null,
   "metadata": {
    "colab": {
     "base_uri": "https://localhost:8080/",
     "height": 263
    },
    "id": "Yr7Sf8qjvvI1",
    "outputId": "4b9b855d-df57-40da-bed9-76b7f7972a6d"
   },
   "outputs": [],
   "source": [
    "from covid_abs.experiments import plot_graph_batch_results\n",
    "\n",
    "df = pd.read_csv('scenario4.csv')\n",
    "\n",
    "plot_graph_batch_results(df)\n",
    "\n",
    "plt.tight_layout()"
   ]
  },
  {
   "cell_type": "markdown",
   "metadata": {
    "id": "UuDOLlTclYGi"
   },
   "source": [
    "### Scenario 5 - 50% of Population Isolation"
   ]
  },
  {
   "cell_type": "code",
   "execution_count": null,
   "metadata": {
    "id": "b3ayOOcHiDKZ"
   },
   "outputs": [],
   "source": [
    "isolated = []\n",
    "scenario5 = dict(\n",
    "    name='scenario5',\n",
    "    initial_infected_perc=.01,\n",
    "    initial_immune_perc=.01,\n",
    "    contagion_distance=1.,\n",
    "    callbacks={\n",
    "        #'on_execute': lambda x: sleep(x),\n",
    "        'post_initialize': lambda x: sample_isolated(x, isolation_rate=.7, list_isolated=isolated),\n",
    "        'on_person_move': lambda x: check_isolation(isolated, x)\n",
    "    }\n",
    ")"
   ]
  },
  {
   "cell_type": "markdown",
   "metadata": {
    "id": "NiChw-HdOg3z"
   },
   "source": [
    "#### Execution Sample"
   ]
  },
  {
   "cell_type": "code",
   "execution_count": null,
   "metadata": {
    "colab": {
     "base_uri": "https://localhost:8080/",
     "height": 679
    },
    "id": "Nm9gQv-KlXfk",
    "outputId": "e1400756-d425-4408-a17f-d3b653321f5b"
   },
   "outputs": [],
   "source": [
    "from covid_abs.graphics import  *\n",
    "from covid_abs.network.graph_abs import *\n",
    "\n",
    "np.random.seed(1)\n",
    "\n",
    "sim = GraphSimulation(**{**global_parameters, **scenario5})\n",
    "\n",
    "anim = execute_graphsimulation(sim, iterations=1440, iteration_time=25)\n",
    "\n",
    "#rc('animation', html='jshtml', embed_limit= 2**128)\n",
    "rc('animation', html='html5', embed_limit= 2**128)\n",
    "anim\n",
    "\n",
    "#save_gif(anim, 'do_nothing.gif')"
   ]
  },
  {
   "cell_type": "markdown",
   "metadata": {
    "id": "rp9VN3s9PupQ"
   },
   "source": [
    "#### Experiment Batch Execution "
   ]
  },
  {
   "cell_type": "code",
   "execution_count": null,
   "metadata": {
    "id": "tHqDhlp8Lz0W"
   },
   "outputs": [],
   "source": [
    "from covid_abs.network.graph_abs import *\n",
    "\n",
    "batch_experiment(35, 1440, \"scenario5.csv\",\n",
    "                     simulation_type=GraphSimulation,\n",
    "                     verbose='experiments',\n",
    "                     **{**global_parameters, **scenario5}\n",
    "                     )"
   ]
  },
  {
   "cell_type": "code",
   "execution_count": null,
   "metadata": {
    "colab": {
     "base_uri": "https://localhost:8080/",
     "height": 263
    },
    "id": "xPHP_vG5tVVD",
    "outputId": "719788aa-07cc-4502-bc01-8636cd69b90b"
   },
   "outputs": [],
   "source": [
    "from covid_abs.experiments import plot_graph_batch_results\n",
    "\n",
    "df = pd.read_csv('scenario5.csv')\n",
    "\n",
    "plot_graph_batch_results(df)\n",
    "\n",
    "plt.tight_layout()"
   ]
  },
  {
   "cell_type": "markdown",
   "metadata": {
    "id": "kFwXlBBD1qcM"
   },
   "source": [
    "#### Other isolation levels"
   ]
  },
  {
   "cell_type": "code",
   "execution_count": null,
   "metadata": {
    "id": "Bo48rCkF2L0g"
   },
   "outputs": [],
   "source": [
    "scenarios = []\n",
    "\n",
    "for rate in [.4, .5, .6, .7, .8, .9]:\n",
    "    tmp = dict(\n",
    "        name='partialisolation{}'.format(rate),\n",
    "        initial_infected_perc=.01,\n",
    "        initial_immune_perc=.01,\n",
    "        contagion_distance=.05,\n",
    "        callbacks={\n",
    "            'post_initialize': lambda x: sample_isolated(x, isolation_rate=rate, list_isolated=isolated),\n",
    "            'on_person_move': lambda x: check_isolation(isolated, x)\n",
    "        }\n",
    "    )\n",
    "    scenarios.append(tmp)\n",
    "    \n",
    "for scenario in scenarios:  #scenario0, scenario1, scenario2, scenario3, scenario4, scenario5, scenario6, scenario7, scenario8, scenario9]:\n",
    "    batch_experiment(15, 1440, \"{}.csv\".format(scenario['name']),\n",
    "                     simulation_type=GraphSimulation,\n",
    "                     verbose='experiments',\n",
    "                     **{**global_parameters, **scenario}\n",
    "                     )"
   ]
  },
  {
   "cell_type": "code",
   "execution_count": null,
   "metadata": {
    "colab": {
     "base_uri": "https://localhost:8080/",
     "height": 225
    },
    "id": "Ab6OgIu71xRk",
    "outputId": "46c6210b-62cd-4e1e-af50-1f6a3e33d14d"
   },
   "outputs": [],
   "source": [
    "fig, ax = plt.subplots(nrows=1, ncols=1, figsize=[10, 3])\n",
    "from matplotlib.ticker import (MultipleLocator, FormatStrFormatter,\n",
    "                                   AutoMinorLocator)\n",
    "\n",
    "isolation_levels = [.3, .4, .5, .6, .7, .8, .9]\n",
    "\n",
    "tick_unit=72\n",
    "\n",
    "x = [i for i in range(0, 1440)]\n",
    "\n",
    "for ct, isolation_level in enumerate(isolation_levels):\n",
    "  df = pd.read_csv('partialisolation{}.csv'.format(isolation_level))\n",
    "  df2 = df[(df['Metric'] == 'Infected')]\n",
    "  ax.plot(x, df2['Avg'].values, label=str(isolation_level))\n",
    "  #print(str(isolation_level), max(df2['Avg'].values))\n",
    "\n",
    "#ax.set_title(\"Infection Curve by Isolation Level\")\n",
    "ax.set_ylabel(\"% of population\")\n",
    "ax.set_xlabel(\"Days\")\n",
    "tickslabels = [str(i//24) for i in range(0, 1440, tick_unit)]\n",
    "ax.xaxis.set_major_locator(MultipleLocator(tick_unit))\n",
    "ax.set_xticklabels(tickslabels)\n",
    "\n",
    "handles, labels = ax.get_legend_handles_labels()\n",
    "lgd = ax.legend(handles, labels, loc='top right')\n"
   ]
  },
  {
   "cell_type": "code",
   "execution_count": null,
   "metadata": {
    "colab": {
     "base_uri": "https://localhost:8080/",
     "height": 225
    },
    "id": "hdiv_gOL_z8v",
    "outputId": "fb5c7e0c-2fc9-43f3-e171-e01b4d87aa2f"
   },
   "outputs": [],
   "source": [
    "fig, ax = plt.subplots(nrows=1, ncols=1, figsize=[10, 3])\n",
    "from matplotlib.ticker import (MultipleLocator, FormatStrFormatter,\n",
    "                                   AutoMinorLocator)\n",
    "\n",
    "isolation_levels = [.3, .4, .5, .6, .7, .8, .9]\n",
    "\n",
    "tick_unit=72\n",
    "\n",
    "x = [i for i in range(0, 1440)]\n",
    "\n",
    "for ct, isolation_level in enumerate(isolation_levels):\n",
    "  df = pd.read_csv('partialisolation{}.csv'.format(isolation_level))\n",
    "  df2 = df[(df['Metric'] == 'Q5')]\n",
    "  ax.plot(x, df2['Avg'].values, label=str(isolation_level))\n",
    "  #print(str(isolation_level), max(df2['Avg'].values))\n",
    "\n",
    "#ax.set_title(\"Infection Curve by Isolation Level\")\n",
    "ax.set_ylabel(\"% of GDP\")\n",
    "ax.set_xlabel(\"Days\")\n",
    "tickslabels = [str(i//24) for i in range(0, 1440, tick_unit)]\n",
    "ax.xaxis.set_major_locator(MultipleLocator(tick_unit))\n",
    "ax.set_xticklabels(tickslabels)\n",
    "\n",
    "handles, labels = ax.get_legend_handles_labels()\n",
    "lgd = ax.legend(handles, labels, loc='top right')\n"
   ]
  },
  {
   "cell_type": "code",
   "execution_count": null,
   "metadata": {
    "colab": {
     "base_uri": "https://localhost:8080/",
     "height": 369
    },
    "id": "OvgMlNAsZcch",
    "outputId": "fc438c1b-ae9c-4705-be03-eb1bce3102fa"
   },
   "outputs": [],
   "source": [
    "fig, ax = plt.subplots(nrows=3, ncols=1, figsize=[7, 5])\n",
    "from matplotlib.ticker import (MultipleLocator, FormatStrFormatter,\n",
    "                                   AutoMinorLocator)\n",
    "\n",
    "deaths = []\n",
    "i_peak = []\n",
    "vals = []\n",
    "errs = []\n",
    "isolation_levels = (.4, .5, .6, .7, .8, .9)\n",
    "\n",
    "for isolation_level in isolation_levels:\n",
    "  df = pd.read_csv('partialisolation{}.csv2'.format(isolation_level))\n",
    "  df2 = df[(df['Metric'] == 'Infected')]\n",
    "  #min_max = np.max(df2['Min'].values)\n",
    "  avg_max = np.max(df2['Avg'].values)\n",
    "  i_peak.append(avg_max)\n",
    "  #max_max = np.max(df2['Max'].values)\n",
    "  it_max = np.min(df2[(df['Avg'] == avg_max)]['Iteration'].values)\n",
    "  #ax.plot(df2['Avg'].values, label=get_label(i))\n",
    "  vals.append(it_max // 24)\n",
    "\n",
    "  df3 = df[(df['Metric'] == 'Death')]\n",
    "  avg_max2 = np.max(df3['Avg'].values)\n",
    "  deaths.append(avg_max2)\n",
    "\n",
    "ix = [1,2,3,4,5,6]\n",
    "\n",
    "ax[0].bar(ix, i_peak, color='white',  edgecolor='black', hatch='//')\n",
    "ax[0].set_ylabel(\"% of Infected\")\n",
    "ax[0].set_xlabel(\"Scenario\")\n",
    "ax[0].set_title(\"$I_P$ - Infection Peak\")\n",
    "\n",
    "ax[1].bar(ix, vals, color='white',  edgecolor='black', hatch='//')\n",
    "ax[1].set_ylabel(\"Number of Days\")\n",
    "ax[1].set_xlabel(\"Scenario\")\n",
    "ax[1].set_title(\"$T_{IP}$ - Number of Days to Reach $I_P$\")\n",
    "\n",
    "ax[2].bar(ix, deaths, color='white',  edgecolor='black', hatch='//')\n",
    "ax[2].set_ylabel(\"% of Deaths\")\n",
    "ax[2].set_xlabel(\"Scenario\")\n",
    "ax[2].set_title(\"$D_t$ - Total Number of Deaths\")\n",
    "\n",
    "plt.tight_layout()\n"
   ]
  },
  {
   "cell_type": "code",
   "execution_count": null,
   "metadata": {
    "id": "tTxRz_9Zec_L"
   },
   "outputs": [],
   "source": [
    "def next(it, its, start):\n",
    "  if it not in its:\n",
    "    for k in its[start:]:\n",
    "      if k > it:\n",
    "        return k\n",
    "  else:\n",
    "    return it\n",
    "\n",
    "for sc in [.3]: #.4, .5, .6, .7, .8, .9]:\n",
    "\n",
    "  filename = 'partialisolation{}.csv'.format(sc)\n",
    "\n",
    "  df = pd.read_csv(filename)\n",
    "  metrics = df['Metric'].unique()\n",
    "  iterations = df['Iteration'].unique()\n",
    "  columns = ['Min','Avg','Std','Max']\n",
    "  rows = []\n",
    "  last_ix = 0\n",
    "  for iteration in range(0,1440):\n",
    "\n",
    "    print(iteration)\n",
    "\n",
    "    ix = next(iteration, iterations, last_ix)\n",
    "\n",
    "    for metric in metrics:\n",
    "      row = [iteration, metric]\n",
    "      for column in columns:\n",
    "        row.append(df[(df['Iteration']==ix) & (df['Metric']==metric)][column].values[0])\n",
    "\n",
    "      rows.append(row)\n",
    "\n",
    "    last_ix = int(np.where(iterations == ix)[0])\n",
    "\n",
    "  df2 = pd.DataFrame(rows, columns=['Iteration','Metric','Min','Avg','Std','Max'])\n",
    "\n",
    "  df2.to_csv(filename)\n",
    "  "
   ]
  },
  {
   "cell_type": "markdown",
   "metadata": {
    "id": "3rVnQazYu6AK"
   },
   "source": [
    "### Scenario 6 - Use of Masks"
   ]
  },
  {
   "cell_type": "code",
   "execution_count": null,
   "metadata": {
    "id": "LX6Vkcunu6Aj"
   },
   "outputs": [],
   "source": [
    "scenario6 = dict(\n",
    "    name='scenario6',\n",
    "    initial_infected_perc=.01,\n",
    "    initial_immune_perc=.01,\n",
    "    contagion_distance=.05,\n",
    "    callbacks={\n",
    "        'on_execute': lambda x: sleep(x) ,\n",
    "        'on_initialize': lambda x: pset(x, 'contagion_rate', 0.1)\n",
    "    }\n",
    ")"
   ]
  },
  {
   "cell_type": "markdown",
   "metadata": {
    "id": "0S7sPc63u6BN"
   },
   "source": [
    "#### Execution Sample"
   ]
  },
  {
   "cell_type": "code",
   "execution_count": null,
   "metadata": {
    "colab": {
     "base_uri": "https://localhost:8080/",
     "height": 679
    },
    "id": "d9NVxG1wu6BQ",
    "outputId": "1b19dee3-53ae-4f5d-bf30-02c0d20b642c"
   },
   "outputs": [],
   "source": [
    "from covid_abs.graphics import  *\n",
    "from covid_abs.network.graph_abs import *\n",
    "\n",
    "np.random.seed(1)\n",
    "\n",
    "sim = GraphSimulation(**{**global_parameters, **scenario6})\n",
    "\n",
    "anim = execute_graphsimulation(sim, iterations=1440, iteration_time=25)\n",
    "\n",
    "#rc('animation', html='jshtml', embed_limit= 2**128)\n",
    "rc('animation', html='html5', embed_limit= 2**128)\n",
    "anim\n",
    "\n",
    "#save_gif(anim, 'do_nothing.gif')"
   ]
  },
  {
   "cell_type": "markdown",
   "metadata": {
    "id": "mYAMtLQPu6Bh"
   },
   "source": [
    "#### Experiment Batch Execution "
   ]
  },
  {
   "cell_type": "code",
   "execution_count": null,
   "metadata": {
    "id": "c6KDFUkdu6Bj"
   },
   "outputs": [],
   "source": [
    "from covid_abs.network.graph_abs import *\n",
    "\n",
    "batch_experiment(35, 1440, \"scenario6.csv\",\n",
    "                     simulation_type=GraphSimulation,\n",
    "                     verbose='experiments',\n",
    "                     **{**global_parameters, **scenario8}\n",
    "                     )"
   ]
  },
  {
   "cell_type": "code",
   "execution_count": null,
   "metadata": {
    "colab": {
     "base_uri": "https://localhost:8080/",
     "height": 263
    },
    "id": "sMW3LPAnu6Bt",
    "outputId": "0ee459db-3385-437e-fa53-a29ff4534db4"
   },
   "outputs": [],
   "source": [
    "from covid_abs.experiments import plot_graph_batch_results\n",
    "\n",
    "df = pd.read_csv('scenario6.csv')\n",
    "\n",
    "plot_graph_batch_results(df)\n",
    "\n",
    "plt.tight_layout()"
   ]
  },
  {
   "cell_type": "code",
   "execution_count": null,
   "metadata": {
    "id": "ILaUS4r8u6By"
   },
   "outputs": [],
   "source": []
  },
  {
   "cell_type": "markdown",
   "metadata": {
    "id": "RLOqQsbWvQKv"
   },
   "source": [
    "### Scenario 7 - Masks And 50% of Social Isolation"
   ]
  },
  {
   "cell_type": "code",
   "execution_count": null,
   "metadata": {
    "id": "_tO6Z094vQLC"
   },
   "outputs": [],
   "source": [
    "scenario7 = dict(\n",
    "    name='scenario7',\n",
    "    initial_infected_perc=.01,\n",
    "    initial_immune_perc=.01,\n",
    "    contagion_distance=.05,\n",
    "    callbacks={\n",
    "        'on_execute': lambda x: sleep(x) ,\n",
    "        'post_initialize': lambda x: sample_isolated(x, isolation_rate=.6, list_isolated=isolated),\n",
    "        'on_person_move': lambda x: check_isolation(isolated, x),\n",
    "        'on_initialize': lambda x: pset(x, 'contagion_rate', 0.1)\n",
    "    }\n",
    ")"
   ]
  },
  {
   "cell_type": "markdown",
   "metadata": {
    "id": "Uy6gX3djvQLc"
   },
   "source": [
    "#### Execution Sample"
   ]
  },
  {
   "cell_type": "code",
   "execution_count": null,
   "metadata": {
    "colab": {
     "base_uri": "https://localhost:8080/",
     "height": 679
    },
    "id": "hG4XBrcmvQLf",
    "outputId": "ae5b3ec9-23b5-4fa1-a9a3-5e95313aacc5"
   },
   "outputs": [],
   "source": [
    "from covid_abs.graphics import  *\n",
    "from covid_abs.network.graph_abs import *\n",
    "\n",
    "np.random.seed(1)\n",
    "\n",
    "sim = GraphSimulation(**{**global_parameters, **scenario7})\n",
    "\n",
    "anim = execute_graphsimulation(sim, iterations=1440, iteration_time=25)\n",
    "\n",
    "#rc('animation', html='jshtml', embed_limit= 2**128)\n",
    "rc('animation', html='html5', embed_limit= 2**128)\n",
    "anim\n",
    "\n",
    "#save_gif(anim, 'do_nothing.gif')"
   ]
  },
  {
   "cell_type": "markdown",
   "metadata": {
    "id": "gEt8Y4kbvQLs"
   },
   "source": [
    "#### Experiment Batch Execution "
   ]
  },
  {
   "cell_type": "code",
   "execution_count": null,
   "metadata": {
    "id": "1eHlkN4DvQLv"
   },
   "outputs": [],
   "source": [
    "from covid_abs.network.graph_abs import *\n",
    "\n",
    "batch_experiment(35, 1440, \"scenario7.csv\",\n",
    "                     simulation_type=GraphSimulation,\n",
    "                     verbose='experiments',\n",
    "                     **{**global_parameters, **scenario9}\n",
    "                     )"
   ]
  },
  {
   "cell_type": "code",
   "execution_count": null,
   "metadata": {
    "colab": {
     "base_uri": "https://localhost:8080/",
     "height": 263
    },
    "id": "3n22wOoovQL4",
    "outputId": "b02bddd6-270a-43db-b23b-08e48dba9791"
   },
   "outputs": [],
   "source": [
    "from covid_abs.experiments import plot_graph_batch_results\n",
    "\n",
    "df = pd.read_csv('scenario7.csv')\n",
    "\n",
    "plot_graph_batch_results(df)\n",
    "\n",
    "plt.tight_layout()"
   ]
  },
  {
   "cell_type": "markdown",
   "metadata": {
    "id": "dIOHXSQ6qvLI"
   },
   "source": [
    "## Analysis\n",
    "\n",
    "Acho que devemos fazer uma análise qualitativa dos gráficos e uma análise quantitativa e comparativa dos cenários em termos das seguintes métricas:\n",
    "- número total de mortes \n",
    "- número total de infectados\n",
    "- tempo do pico \n",
    "- perdas % em renda das empresas em relação ao cenário 0 \n",
    "- perdas % em renda das famílias em relação ao cenário 0\n"
   ]
  },
  {
   "cell_type": "markdown",
   "metadata": {
    "id": "O423TqxMBcox"
   },
   "source": [
    "### Common Codes"
   ]
  },
  {
   "cell_type": "code",
   "execution_count": null,
   "metadata": {
    "id": "TX0nDGeCvQL-"
   },
   "outputs": [],
   "source": [
    "def get_label(ix):\n",
    "  return 'Scenario {}'.format(ix)\n",
    "\n",
    "def get_name(ix):\n",
    "  return 'scenario{}'.format(ix)\n",
    "\n",
    "def get_df(ix):\n",
    "  return pd.read_csv(get_name(ix)+\".csv\")\n",
    "\n",
    "#get_df(0).head()"
   ]
  },
  {
   "cell_type": "markdown",
   "metadata": {
    "id": "YSIfcALYBfcY"
   },
   "source": [
    "### Evolution of Deaths by Scenario"
   ]
  },
  {
   "cell_type": "code",
   "execution_count": null,
   "metadata": {
    "colab": {
     "base_uri": "https://localhost:8080/",
     "height": 350
    },
    "id": "IckNqpDet1c8",
    "outputId": "d54d69f1-771a-43d3-e75d-df091d85d60b"
   },
   "outputs": [],
   "source": [
    "fig, ax = plt.subplots(nrows=1, ncols=1, figsize=[10, 5])\n",
    "from matplotlib.ticker import (MultipleLocator, FormatStrFormatter,\n",
    "                                   AutoMinorLocator)\n",
    "for i in range(1,8):\n",
    "  df = get_df(i)[['Iteration','Metric','Avg']]\n",
    "  df2 = df[(df['Metric'] == 'Death')]\n",
    "  ax.plot(df2['Avg'].values, label=get_label(i))\n",
    "\n",
    "tick_unit=72\n",
    "\n",
    "ax.set_title(\"Evolution of Deaths by Scenario\")\n",
    "ax.set_ylabel(\"% of population\")\n",
    "ax.set_xlabel(\"Days\")\n",
    "tickslabels = [str(i//24) for i in range(0, 1440, tick_unit)]\n",
    "ax.xaxis.set_major_locator(MultipleLocator(tick_unit))\n",
    "ax.set_xticklabels(tickslabels)\n",
    "\n",
    "handles, labels = ax.get_legend_handles_labels()\n",
    "lgd = ax.legend(handles, labels, loc='top right')"
   ]
  },
  {
   "cell_type": "markdown",
   "metadata": {
    "id": "gdHZwwaaBoQE"
   },
   "source": [
    "### Evolution of Infection by Scenario"
   ]
  },
  {
   "cell_type": "code",
   "execution_count": null,
   "metadata": {
    "colab": {
     "base_uri": "https://localhost:8080/",
     "height": 350
    },
    "id": "pyZWIOsBvdb3",
    "outputId": "347443db-fa85-40b2-866b-5a72ec00d2b5"
   },
   "outputs": [],
   "source": [
    "fig, ax = plt.subplots(nrows=1, ncols=1, figsize=[10, 5])\n",
    "from matplotlib.ticker import (MultipleLocator, FormatStrFormatter,\n",
    "                                   AutoMinorLocator)\n",
    "for i in range(1,8):\n",
    "  df = get_df(i)[['Iteration','Metric','Avg']]\n",
    "  df2 = df[(df['Metric'] == 'Infected')]\n",
    "  ax.plot(df2['Avg'].values, label=get_label(i))\n",
    "\n",
    "tick_unit=72\n",
    "\n",
    "ax.set_title(\"Evolution of Infection by Scenario\")\n",
    "ax.set_ylabel(\"% of population\")\n",
    "ax.set_xlabel(\"Days\")\n",
    "tickslabels = [str(i//24) for i in range(0, 1440, tick_unit)]\n",
    "ax.xaxis.set_major_locator(MultipleLocator(tick_unit))\n",
    "ax.set_xticklabels(tickslabels)\n",
    "\n",
    "handles, labels = ax.get_legend_handles_labels()\n",
    "lgd = ax.legend(handles, labels, loc='top right')"
   ]
  },
  {
   "cell_type": "markdown",
   "metadata": {
    "id": "0Q9NNESfBtPa"
   },
   "source": [
    "### Number of Days to Reach the Infection Peak"
   ]
  },
  {
   "cell_type": "code",
   "execution_count": null,
   "metadata": {
    "colab": {
     "base_uri": "https://localhost:8080/",
     "height": 369
    },
    "id": "iYDHGto33xk8",
    "outputId": "c9bd57c7-49c7-4f4f-e616-9ecb84563c23"
   },
   "outputs": [],
   "source": [
    "fig, ax = plt.subplots(nrows=3, ncols=1, figsize=[7, 5])\n",
    "from matplotlib.ticker import (MultipleLocator, FormatStrFormatter,\n",
    "                                   AutoMinorLocator)\n",
    "\n",
    "deaths = []\n",
    "i_peak = []\n",
    "vals = []\n",
    "errs = []\n",
    "for i in range(1,8):\n",
    "  df = get_df(i)\n",
    "  df2 = df[(df['Metric'] == 'Infected')]\n",
    "  #min_max = np.max(df2['Min'].values)\n",
    "  avg_max = np.max(df2['Avg'].values)\n",
    "  i_peak.append(avg_max)\n",
    "  #max_max = np.max(df2['Max'].values)\n",
    "  it_max = np.min(df2[(df['Avg'] == avg_max)]['Iteration'].values)\n",
    "  #ax.plot(df2['Avg'].values, label=get_label(i))\n",
    "  vals.append(it_max // 24)\n",
    "\n",
    "  df3 = df[(df['Metric'] == 'Death')]\n",
    "  avg_max2 = np.max(df3['Avg'].values)\n",
    "  deaths.append(avg_max2)\n",
    "\n",
    "ax[0].bar([i for i in range(1,8)], i_peak, color='white',  edgecolor='black', hatch='//')\n",
    "ax[0].set_ylabel(\"% of Infected\")\n",
    "ax[0].set_xlabel(\"Scenario\")\n",
    "ax[0].set_title(\"$I_P$ - Infection Peak\")\n",
    "\n",
    "ax[1].bar([i for i in range(1,8)], vals, color='white',  edgecolor='black', hatch='//')\n",
    "ax[1].set_ylabel(\"Number of Days\")\n",
    "ax[1].set_xlabel(\"Scenario\")\n",
    "ax[1].set_title(\"$T_{IP}$ - Number of Days to Reach $I_P$\")\n",
    "\n",
    "ax[2].bar([i for i in range(1,8)], deaths, color='white',  edgecolor='black', hatch='//')\n",
    "ax[2].set_ylabel(\"% of Deaths\")\n",
    "ax[2].set_xlabel(\"Scenario\")\n",
    "ax[2].set_title(\"$D_t$ - Total Number of Deaths\")\n",
    "\n",
    "plt.tight_layout()\n"
   ]
  },
  {
   "cell_type": "markdown",
   "metadata": {
    "id": "VxQurEIJKFXC"
   },
   "source": [
    "### GDP Evolution By Social Stratum and Scenario"
   ]
  },
  {
   "cell_type": "code",
   "execution_count": null,
   "metadata": {
    "id": "jHwLIbkGK5eL"
   },
   "outputs": [],
   "source": [
    "from covid_abs.graphics import legend_ecom\n",
    "from matplotlib.ticker import (MultipleLocator, FormatStrFormatter, AutoMinorLocator)\n",
    "\n",
    "metrics = legend_ecom.keys()\n",
    "\n",
    "fig, ax = plt.subplots(nrows=len(metrics), ncols=1, figsize=[10, 25])\n",
    "\n",
    "tick_unit=72\n",
    "\n",
    "for i in range(0,10):                                   \n",
    "  df = get_df(i)[['Iteration','Metric','Avg']]\n",
    "\n",
    "  for cm, metric in enumerate(metrics):\n",
    "    df2 = df[(df['Metric'] == metric)]\n",
    "    ax[cm].plot(df2['Avg'].values, label=get_label(i))\n",
    "\n",
    "tickslabels = [str(i//24) for i in range(0, 1440, tick_unit)]\n",
    "\n",
    "for cm, metric in enumerate(metrics):\n",
    "  ax[cm].set_title(legend_ecom[metric])\n",
    "  ax[cm].set_ylabel(\"% of GDP\")\n",
    "  ax[cm].set_xlabel(\"Days\")\n",
    "  ax[cm].xaxis.set_major_locator(MultipleLocator(tick_unit))\n",
    "  ax[cm].set_xticklabels(tickslabels)\n",
    "\n",
    "  handles, labels = ax[cm].get_legend_handles_labels()\n",
    "  lgd = ax[cm].legend(handles, labels, loc=2, bbox_to_anchor=(1, 1))\n",
    "\n",
    "plt.tight_layout()"
   ]
  },
  {
   "cell_type": "markdown",
   "metadata": {
    "id": "V1JACMyDKFgY"
   },
   "source": [
    "### Scenarios Final GDP Compared with Scenario 0"
   ]
  },
  {
   "cell_type": "code",
   "execution_count": null,
   "metadata": {
    "colab": {
     "base_uri": "https://localhost:8080/",
     "height": 513
    },
    "id": "6WqfvvRY6Frj",
    "outputId": "2246d0d9-99c7-4c24-bfe3-d55eaeca4809"
   },
   "outputs": [],
   "source": [
    "from covid_abs.graphics import legend_ecom\n",
    "from matplotlib.ticker import (MultipleLocator, FormatStrFormatter, AutoMinorLocator)\n",
    "\n",
    "A1 = ['Q1','Q2','Q3','Q4','Q5']\n",
    "\n",
    "legend = {'A1': '$W^{A1}_s$ - People',\n",
    "          'Business': '$W^{A3}_s$ - Business',\n",
    "          'Government': '$W^{A4}_s$ - Government',}\n",
    "\n",
    "fig, ax = plt.subplots(nrows=3, ncols=1, figsize=[10, 7])\n",
    "\n",
    "metrics = [k for k in legend.keys()]\n",
    "\n",
    "baseline = {'A1': 0.0 }\n",
    "baseline_stop = {'A1': 0.0 }\n",
    "df = get_df(0)\n",
    "for cm, metric in enumerate(legend_ecom.keys()):\n",
    "  #mn_it = np.min(df['Iteration'].values)\n",
    "  mx_it = np.max(df['Iteration'].values)\n",
    "  _start = df[(df['Metric'] == metric) & (df['Iteration'] == 0)]['Avg'].values[-1]\n",
    "  _stop = df[(df['Metric'] == metric) & (df['Iteration'] == mx_it)]['Avg'].values[-1]\n",
    "  #_std = df[(df['Metric'] == metric) & (df['Iteration'] == mx_it)]['Std'].values[-1]\n",
    "  diff = _start - _stop\n",
    "  #baseline[metric].append(diff)\n",
    "  if metric in A1:\n",
    "    #baseline['A1'] += _stop\n",
    "    baseline['A1'] += diff\n",
    "    baseline_stop['A1'] += _stop\n",
    "  else:\n",
    "    baseline[metric] = diff\n",
    "    baseline_stop[metric] = _stop\n",
    "\n",
    "values = {}\n",
    "colors = {}\n",
    "std = {}\n",
    "\n",
    "for i in range(1,8):                                   \n",
    "  df = get_df(i)\n",
    "  for cm, metric in enumerate(metrics):\n",
    "    if metric not in values:\n",
    "      values[metric] = []\n",
    "      colors[metric] = []\n",
    "      std[metric] = []\n",
    "    \n",
    "    mx_it = np.max(df['Iteration'].values)\n",
    "\n",
    "    if metric == 'A1':\n",
    "      _stop = 0\n",
    "      _std = 0\n",
    "      for m2 in A1:\n",
    "        _stop += df[(df['Metric'] == m2) & (df['Iteration'] == mx_it)]['Avg'].values[-1]\n",
    "        _std += df[(df['Metric'] == m2) & (df['Iteration'] == mx_it)]['Std'].values[-1]\n",
    "\n",
    "    else:\n",
    "      _stop = df[(df['Metric'] == metric) & (df['Iteration'] == mx_it)]['Avg'].values[-1]\n",
    "      _std = df[(df['Metric'] == metric) & (df['Iteration'] == mx_it)]['Std'].values[-1]\n",
    "    \n",
    "    #m = (_stop - baseline[metric])/baseline[metric]\n",
    "    m = (_stop - baseline_stop[metric])/baseline_stop[metric]\n",
    "    values[metric].append(m)\n",
    "    colors[metric].append('//' if m >= 0 else '\\\\\\\\' )\n",
    "    #diff = _start - _stop\n",
    "    #values[metric].append(diff)\n",
    "    std[metric].append(_std)\n",
    "    #colors[metric].append('blue' if diff >= 0 else 'red' )\n",
    "    #baseline[metric] = _start - stop\n",
    "    \n",
    "\n",
    "for cm, metric in enumerate(metrics):\n",
    "  bars = ax[cm].bar([i for i in range(1,8)], values[metric], color='white',  edgecolor='black',\n",
    "                    capsize=7, yerr=std[metric])\n",
    "  for ix, bar in enumerate(bars):\n",
    "    bar.set_hatch(colors[metric][ix])\n",
    "  ax[cm].set_ylim([-.25, .25])\n",
    "  ax[cm].set_ylabel(\"% of GDP\")\n",
    "  ax[cm].set_xlabel(\"Scenario\")\n",
    "  ax[cm].set_title(legend[metric])\n",
    "  ax[cm].axhline(y=0, color='black')\n",
    "\n",
    "\n",
    "plt.tight_layout()\n"
   ]
  },
  {
   "cell_type": "code",
   "execution_count": null,
   "metadata": {
    "id": "fA7q-2fVoqQ-"
   },
   "outputs": [],
   "source": [
    "def next(it, its, start):\n",
    "  if it not in its:\n",
    "    for k in its[start:]:\n",
    "      if k > it:\n",
    "        return k\n",
    "  else:\n",
    "    return it\n",
    "\n",
    "for sc in range(2,8):\n",
    "\n",
    "  filename = 'scenario{}.csv'.format(sc)\n",
    "\n",
    "  df = pd.read_csv(filename)\n",
    "  metrics = df['Metric'].unique()\n",
    "  iterations = df['Iteration'].unique()\n",
    "  columns = ['Min','Avg','Std','Max']\n",
    "  rows = []\n",
    "  last_ix = 0\n",
    "  for iteration in range(0,1440):\n",
    "\n",
    "    print(iteration)\n",
    "\n",
    "    ix = next(iteration, iterations, last_ix)\n",
    "\n",
    "    for metric in metrics:\n",
    "      row = [iteration, metric]\n",
    "      for column in columns:\n",
    "        row.append(df[(df['Iteration']==ix) & (df['Metric']==metric)][column].values[0])\n",
    "\n",
    "      rows.append(row)\n",
    "\n",
    "    last_ix = int(np.where(iterations == ix)[0])\n",
    "\n",
    "  df2 = pd.DataFrame(rows, columns=['Iteration','Metric','Min','Avg','Std','Max'])\n",
    "\n",
    "  df2.to_csv(filename + '2')\n",
    "  "
   ]
  },
  {
   "cell_type": "code",
   "execution_count": null,
   "metadata": {
    "id": "kqMBsSkl9OHv"
   },
   "outputs": [],
   "source": []
  },
  {
   "cell_type": "code",
   "execution_count": null,
   "metadata": {
    "id": "qEbYrXgsiaCG"
   },
   "outputs": [],
   "source": [
    "\n",
    "def plot_graph_batch_results(df, health_metrics=('Susceptible', 'Infected', 'Hospitalization', 'Severe', 'Recovered_Immune', 'Death'),\n",
    "                       ecom_metrics=('Q1', 'Q2', 'Q3', 'Q4', 'Q5','Business','Government'), **kwargs):\n",
    "\n",
    "    from matplotlib.ticker import (MultipleLocator, FormatStrFormatter,\n",
    "                                   AutoMinorLocator)\n",
    "\n",
    "    iterations = max(df['Iteration'].values) + 1\n",
    "\n",
    "    tick_unit = kwargs.get('tick_unit', 72)\n",
    "\n",
    "    tickslabels = [str(i // 24) for i in range(0, iterations, tick_unit)]\n",
    "\n",
    "    fig, ax = plt.subplots(nrows=1, ncols=2, figsize=[20, 5])\n",
    "\n",
    "    ax[0].set_title('Average Contagion Evolution')\n",
    "    ax[0].set_xlabel(\"Nº of Days\")\n",
    "    ax[0].set_ylabel(\"% of Population\")\n",
    "    ax[0].set_xlim((0, iterations))\n",
    "    ax[0].xaxis.set_major_locator(MultipleLocator(tick_unit))\n",
    "    ax[0].set_xticklabels(tickslabels)\n",
    "\n",
    "    for col in health_metrics:\n",
    "        means = df[(df[\"Metric\"] == col)]['Avg'].values\n",
    "        std = df[(df[\"Metric\"] == col)]['Std'].values\n",
    "        plot_mean_std(ax[0], means, std, legend=col, color=color1(col))\n",
    "\n",
    "    handles, labels = ax[0].get_legend_handles_labels()\n",
    "    lgd = ax[0].legend(handles, labels, loc='top right')\n",
    "\n",
    "    ax[1].set_title('Average Economical Impact')\n",
    "    ax[1].set_xlabel(\"Nº of Days\")\n",
    "    ax[1].set_ylabel(\"% of Wealth\")\n",
    "    ax[1].set_xlim((0, iterations))\n",
    "    ax[1].xaxis.set_major_locator(MultipleLocator(tick_unit))\n",
    "    ax[1].set_xticklabels(tickslabels)\n",
    "\n",
    "    for col in ecom_metrics:\n",
    "        means = df[(df[\"Metric\"] == col)]['Avg'].values\n",
    "        #n_mean = np.interp(means, (mmin, mmax), (0, 1))\n",
    "        std = df[(df[\"Metric\"] == col)]['Std'].values\n",
    "        #n_std = np.interp(std, (smin, smax), (0, 1))\n",
    "        #ax[1].plot(means, label=legend_ecom[col])\n",
    "        # std = np.log10(df[(df[\"Metric\"] == col)]['Std'].values)\n",
    "        plot_mean_std(ax[1], means, std, legend=legend_ecom[col], color=color3(col))\n",
    "\n",
    "    handles, labels = ax[1].get_legend_handles_labels()\n",
    "    lgd = ax[1].legend(handles, labels, loc='top left')"
   ]
  },
  {
   "cell_type": "code",
   "execution_count": null,
   "metadata": {
    "colab": {
     "base_uri": "https://localhost:8080/",
     "height": 297
    },
    "id": "IrPZTCGeDxrx",
    "outputId": "9601df38-aca5-4e13-c1bc-9fd191791abc"
   },
   "outputs": [],
   "source": [
    "from matplotlib.ticker import (MultipleLocator, FormatStrFormatter,\n",
    "                                   AutoMinorLocator)\n",
    "from covid_abs.graphics import color3\n",
    "from covid_abs.experiments import plot_mean_std\n",
    "\n",
    "A1 = ['Q1','Q2','Q3','Q4','Q5']\n",
    "\n",
    "health_metrics=('Susceptible', 'Infected', 'Hospitalization', 'Severe', 'Recovered_Immune', 'Death')\n",
    "ecom_metrics=('Q1', 'Q2', 'Q3', 'Q4', 'Q5','Business','Government')\n",
    "\n",
    "health_legend={'Susceptible': '$S_t$ - Susceptible', 'Infected':'$I_t$ - Infected', \n",
    "               'Hospitalization':'$S^H_t$ - Hospitalization', 'Severe':'$I^S_t$ - Severe', \n",
    "               'Recovered_Immune':'$R_t$ - Recovered', 'Death':'$D_t$ - Death'}\n",
    "\n",
    "ecom_legend = {'A1': '$W^{A1}_t$ - People',\n",
    "          'Business': '$W^{A3}_t$ - Business',\n",
    "          'Government': '$W^{A4}_t$ - Government',}\n",
    "\n",
    "colors = {'A1': 'purple',\n",
    "          'Business': 'red',\n",
    "          'Government': 'brown',}\n",
    "\n",
    "df = get_df(0)\n",
    "\n",
    "epidem = False\n",
    "\n",
    "iterations = max(df['Iteration'].values) + 1\n",
    "\n",
    "tick_unit = 72 #kwargs.get('tick_unit', 72)\n",
    "\n",
    "tickslabels = [str(i // 24) for i in range(0, iterations, tick_unit)]\n",
    "\n",
    "\n",
    "\n",
    "fig, ax = plt.subplots(nrows=1, ncols=1 if not epidem else 2,\n",
    "                       figsize=[7, 4])\n",
    "\n",
    "if epidem:\n",
    "  ep_ax = ax[0]\n",
    "  ep_ax.set_title('Average Epidemiological Evolution')\n",
    "  ep_ax.set_xlabel(\"Nº of Days\")\n",
    "  ep_ax.set_ylabel(\"% of Population\")\n",
    "  ep_ax.set_xlim((0, iterations))\n",
    "  ep_ax.xaxis.set_major_locator(MultipleLocator(tick_unit))\n",
    "  ep_ax.set_xticklabels(tickslabels)\n",
    "\n",
    "  for col in health_metrics:\n",
    "      means = df[(df[\"Metric\"] == col)]['Avg'].values\n",
    "      std = df[(df[\"Metric\"] == col)]['Std'].values\n",
    "      plot_mean_std(ep_ax, means, std, legend=health_legend[col], color=color1(col))\n",
    "\n",
    "  handles, labels = ep_ax.get_legend_handles_labels()\n",
    "  lgd = ep_ax.legend(handles, labels, loc=2, bbox_to_anchor=(1, 1))\n",
    "\n",
    "ec_ax = ax[1] if epidem else ax\n",
    "\n",
    "ec_ax.set_title('Average Economical Impact')\n",
    "ec_ax.set_xlabel(\"Nº of Days\")\n",
    "ec_ax.set_ylabel(\"% of GDP\")\n",
    "ec_ax.set_xlim((0, iterations))\n",
    "ec_ax.xaxis.set_major_locator(MultipleLocator(tick_unit))\n",
    "ec_ax.set_xticklabels(tickslabels)\n",
    "\n",
    "for col in ecom_legend.keys():\n",
    "  if col == 'A1':\n",
    "    means = np.zeros(iterations)\n",
    "    std = np.zeros(iterations)\n",
    "    for m2 in A1: \n",
    "      means += df[(df[\"Metric\"] == m2)]['Avg'].values  \n",
    "      std += df[(df[\"Metric\"] == m2)]['Std'].values\n",
    "  else:  \n",
    "    means = df[(df[\"Metric\"] == col)]['Avg'].values\n",
    "    std = df[(df[\"Metric\"] == col)]['Std'].values\n",
    "\n",
    "  #print(means)\n",
    "      \n",
    "  l = len(means)\n",
    "  lb = [means[k] - std[k] for k in range(l)]\n",
    "  ub = [means[k] + std[k] for k in range(l)]\n",
    "\n",
    "  ec_ax.fill_between(range(l), ub, lb,\n",
    "                  color=colors[col], alpha=.4)\n",
    "  # plot the mean on top\n",
    "  ec_ax.plot(range(l), means, colors[col], label=ecom_legend[col])\n",
    "\n",
    "handles, labels = ec_ax.get_legend_handles_labels()\n",
    "lgd = ec_ax.legend(handles, labels, loc=2, bbox_to_anchor=(1, 1))\n",
    "\n",
    "plt.tight_layout()\n"
   ]
  },
  {
   "cell_type": "code",
   "execution_count": null,
   "metadata": {
    "colab": {
     "base_uri": "https://localhost:8080/",
     "height": 297
    },
    "id": "Tu8dogEdHiQD",
    "outputId": "7086fd8f-0fcb-456e-e7e1-35d1577865bd"
   },
   "outputs": [],
   "source": [
    "from covid_abs.graphics import legend_ecom\n",
    "from matplotlib.ticker import (MultipleLocator, FormatStrFormatter, AutoMinorLocator)\n",
    "\n",
    "A1 = ['Q1','Q2','Q3','Q4','Q5']\n",
    "\n",
    "legend = {'A1': '$W^{A1}_s$ - People',\n",
    "          'Business': '$W^{A3}_s$ - Business',\n",
    "          'Government': '$W^{A4}_s$ - Government',}\n",
    "\n",
    "fig, ax = plt.subplots(nrows=1, ncols=3, figsize=[12, 4])\n",
    "\n",
    "metrics = [k for k in legend.keys()]\n",
    "\n",
    "baseline = {'A1': 0.0 }\n",
    "baseline_stop = {'A1': 0.0 }\n",
    "df = get_df(0)\n",
    "for cm, metric in enumerate(legend_ecom.keys()):\n",
    "  #mn_it = np.min(df['Iteration'].values)\n",
    "  mx_it = np.max(df['Iteration'].values)\n",
    "  _start = df[(df['Metric'] == metric) & (df['Iteration'] == 0)]['Avg'].values[-1]\n",
    "  _stop = df[(df['Metric'] == metric) & (df['Iteration'] == mx_it)]['Avg'].values[-1]\n",
    "  #_std = df[(df['Metric'] == metric) & (df['Iteration'] == mx_it)]['Std'].values[-1]\n",
    "  diff = _start - _stop\n",
    "  #baseline[metric].append(diff)\n",
    "  if metric in A1:\n",
    "    #baseline['A1'] += _stop\n",
    "    baseline['A1'] += diff\n",
    "    baseline_stop['A1'] += _stop\n",
    "  else:\n",
    "    baseline[metric] = diff\n",
    "    baseline_stop[metric] = _stop\n",
    "\n",
    "values = {}\n",
    "colors = {}\n",
    "std = {}\n",
    "deaths = {}\n",
    "\n",
    "for i in range(1,8):                                   \n",
    "  df = get_df(i)\n",
    "  deaths[i] = df[(df['Metric'] == 'Death') & (df['Iteration'] == 1339)]['Avg'].values[-1]\n",
    "  for cm, metric in enumerate(metrics):\n",
    "    if metric not in values:\n",
    "      values[metric] = []\n",
    "      colors[metric] = []\n",
    "      std[metric] = []\n",
    "    \n",
    "    mx_it = np.max(df['Iteration'].values)\n",
    "\n",
    "    if metric == 'A1':\n",
    "      _stop = 0\n",
    "      _std = 0\n",
    "      for m2 in A1:\n",
    "        _stop += df[(df['Metric'] == m2) & (df['Iteration'] == mx_it)]['Avg'].values[-1]\n",
    "        _std += df[(df['Metric'] == m2) & (df['Iteration'] == mx_it)]['Std'].values[-1]\n",
    "\n",
    "    else:\n",
    "      _stop = df[(df['Metric'] == metric) & (df['Iteration'] == mx_it)]['Avg'].values[-1]\n",
    "      _std = df[(df['Metric'] == metric) & (df['Iteration'] == mx_it)]['Std'].values[-1]\n",
    "    \n",
    "    #m = (_stop - baseline[metric])/baseline[metric]\n",
    "    m = (_stop - baseline_stop[metric])/baseline_stop[metric]\n",
    "    values[metric].append(m)\n",
    "    colors[metric].append('//' if m >= 0 else '\\\\\\\\' )\n",
    "    #diff = _start - _stop\n",
    "    #values[metric].append(diff)\n",
    "    std[metric].append(_std)\n",
    "    #colors[metric].append('blue' if diff >= 0 else 'red' )\n",
    "    #baseline[metric] = _start - stop\n",
    "    \n",
    "markers = ['s','+', '*','X','D', '^','o']\n",
    "\n",
    "for cm, metric in enumerate(metrics):\n",
    "\n",
    "  #ax[cm].scatter(values[metric], [k for k in deaths.values()])\n",
    "\n",
    "  for i in range(7):\n",
    "    #ax[cm].text(values[metric][i], deaths[i+1], str(i+1), fontsize=15)\n",
    "    #ax[cm].annotate(str(i+1), (values[metric][i], deaths[i+1]))\n",
    "    ax[cm].scatter(values[metric][i], deaths[i+1], s=100, marker=markers[i], color='black', label='Scenario {}'.format(i+1),)\n",
    "\n",
    "  ax[cm].set_xlim((-0.21, .2))\n",
    "  ax[cm].set_ylim((-0.01, .12))\n",
    "  ax[cm].set_xlabel('% of Wealth Increase')\n",
    "  ax[cm].set_ylabel('% of Deaths')\n",
    "  ax[cm].set_title(legend[metric])\n",
    "\n",
    "handles, labels = ax[-1].get_legend_handles_labels()\n",
    "lgd = ax[-1].legend(handles, labels, loc=2, bbox_to_anchor=(1, 1))\n",
    "  \n",
    "\n",
    "plt.tight_layout()\n"
   ]
  },
  {
   "cell_type": "code",
   "execution_count": null,
   "metadata": {
    "colab": {
     "base_uri": "https://localhost:8080/",
     "height": 139
    },
    "id": "w3cpXnFfn-br",
    "outputId": "1b1a16cf-3ab3-417a-ac34-b20aebef02bd"
   },
   "outputs": [],
   "source": [
    "for i in range(7):\n",
    "  print(i)"
   ]
  },
  {
   "cell_type": "code",
   "execution_count": null,
   "metadata": {
    "id": "kPCwg1m9pzen"
   },
   "outputs": [],
   "source": []
  }
 ],
 "metadata": {
  "colab": {
   "collapsed_sections": [],
   "name": "COVID-ABS: An Agent-Based Model of COVID-19 Epidemic to Simulate Health and Economic Effects of Social Distancing Interventions",
   "provenance": [],
   "toc_visible": true
  },
  "kernelspec": {
   "display_name": "Python 3",
   "language": "python",
   "name": "python3"
  },
  "language_info": {
   "codemirror_mode": {
    "name": "ipython",
    "version": 3
   },
   "file_extension": ".py",
   "mimetype": "text/x-python",
   "name": "python",
   "nbconvert_exporter": "python",
   "pygments_lexer": "ipython3",
   "version": "3.8.5"
  }
 },
 "nbformat": 4,
 "nbformat_minor": 1
}
