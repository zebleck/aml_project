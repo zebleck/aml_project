{
 "cells": [
  {
   "cell_type": "markdown",
   "metadata": {
    "id": "FYA-6DnysFSO"
   },
   "source": [
    "# COVID-ABS: An Agent-Based Model of COVID-19 Epidemic to Simulate Health and Economic Effects of Social Distancing Interventions"
   ]
  },
  {
   "cell_type": "markdown",
   "metadata": {
    "id": "w_TSwPfbgmV8"
   },
   "source": [
    "## Installing the package"
   ]
  },
  {
   "cell_type": "markdown",
   "metadata": {
    "id": "oYjPtlNzp4Hu"
   },
   "source": [
    "## Common imports"
   ]
  },
  {
   "cell_type": "code",
   "execution_count": 1,
   "metadata": {
    "id": "B1cSmug4SY7-"
   },
   "outputs": [],
   "source": [
    "import os\n",
    "import sys\n",
    "module_path = os.path.abspath(os.path.join('..'))\n",
    "if module_path not in sys.path:\n",
    "    sys.path.append(module_path)\n",
    "\n",
    "import warnings\n",
    "warnings.simplefilter('ignore')\n",
    "\n",
    "import numpy as np\n",
    "import pandas as pd\n",
    "import matplotlib.pyplot as plt\n",
    "import seaborn as sns\n",
    "\n",
    "from matplotlib import animation, rc\n",
    "from IPython.display import HTML\n",
    "\n",
    "from covid_abs.graphics import *\n",
    "from covid_abs.experiments import *\n",
    "from covid_abs.network.graph_abs import *\n",
    "from covid_abs.network.util import *"
   ]
  },
  {
   "cell_type": "markdown",
   "metadata": {
    "id": "30BSy5GM4a8K"
   },
   "source": [
    "## Simulations"
   ]
  },
  {
   "cell_type": "markdown",
   "metadata": {
    "id": "TJveHr06U2v1"
   },
   "source": [
    "### Support Functions"
   ]
  },
  {
   "cell_type": "code",
   "execution_count": null,
   "metadata": {
    "id": "12D3qPxMU0Qs"
   },
   "outputs": [],
   "source": [
    "def pset(x, property, value):\n",
    "    x.__dict__[property] = value\n",
    "    return False\n",
    "\n",
    "\n",
    "def vertical_isolation(a):\n",
    "  if a.economical_status == EconomicalStatus.Inactive:\n",
    "    if a.house is not None:\n",
    "      a.house.checkin(a)\n",
    "    return True\n",
    "  return False\n",
    "\n",
    "\n",
    "def sleep(a):\n",
    "    if not new_day(a.iteration) and bed_time(a.iteration):\n",
    "        return True\n",
    "    #elif 9 <= a.iteration % 24 <= 11 and 14 <= a.iteration % 24 <= 16:\n",
    "    #    return True\n",
    "    return False\n",
    "\n",
    "def lockdown(a):\n",
    "    if a.house is not None:\n",
    "        a.house.checkin(a)\n",
    "    return True\n",
    "\n",
    "\n",
    "def conditional_lockdown(a):\n",
    "    if a.environment.get_statistics()['Infected'] > .05:\n",
    "        return lockdown(a)\n",
    "    else:\n",
    "        return False\n",
    "\n",
    "\n",
    "isolated = []\n",
    "\n",
    "\n",
    "def sample_isolated(environment, isolation_rate=.5, list_isolated=isolated):\n",
    "    for a in environment.population:\n",
    "        test = np.random.rand()\n",
    "        if test <= isolation_rate:\n",
    "            list_isolated.append(a.id)\n",
    "\n",
    "\n",
    "def check_isolation(list_isolated, agent):\n",
    "    if agent.id in list_isolated:\n",
    "        agent.move_to_home()\n",
    "        return True\n",
    "    return False\n"
   ]
  },
  {
   "cell_type": "markdown",
   "metadata": {
    "id": "thBeYl4ZVNKA"
   },
   "source": [
    "### Global Parameters"
   ]
  },
  {
   "cell_type": "code",
   "execution_count": 11,
   "metadata": {
    "id": "B0SGFMsnVPpl"
   },
   "outputs": [],
   "source": [
    "global_parameters = dict(\n",
    "\n",
    "    # General Parameters\n",
    "    length=300,\n",
    "    height=300,\n",
    "\n",
    "    # Demographic\n",
    "    population_size=100,\n",
    "    homemates_avg=3,\n",
    "    homeless_rate=0.0005,\n",
    "    amplitudes={\n",
    "        Status.Susceptible: 10,\n",
    "        Status.Recovered_Immune: 10,\n",
    "        Status.Infected: 10\n",
    "    },\n",
    "\n",
    "    # Epidemiological\n",
    "    critical_limit=0.01,\n",
    "    contagion_rate=.9,\n",
    "    incubation_time=5,\n",
    "    contagion_time=10,\n",
    "    recovering_time=20,\n",
    "\n",
    "    # Economical\n",
    "    total_wealth=10000000,\n",
    "    total_business=9,\n",
    "    minimum_income=900.0,\n",
    "    minimum_expense=600.0,\n",
    "    public_gdp_share=0.1,\n",
    "    business_gdp_share=0.5,\n",
    "    unemployment_rate=0.12,\n",
    "    business_distance=20\n",
    ")"
   ]
  },
  {
   "cell_type": "markdown",
   "metadata": {},
   "source": [
    "# Custom code"
   ]
  },
  {
   "cell_type": "markdown",
   "metadata": {},
   "source": [
    "## Agent and network model"
   ]
  },
  {
   "cell_type": "code",
   "execution_count": 12,
   "metadata": {},
   "outputs": [],
   "source": [
    "import math\n",
    "import random\n",
    "import numpy as np\n",
    "import matplotlib\n",
    "import matplotlib.pyplot as plt\n",
    "from collections import namedtuple, deque\n",
    "from itertools import count\n",
    "from PIL import Image\n",
    "\n",
    "import torch\n",
    "import torch.nn as nn\n",
    "import torch.optim as optim\n",
    "import torch.nn.functional as F\n",
    "import torchvision.transforms as T\n",
    "\n",
    "device = torch.device(\"cuda\" if torch.cuda.is_available() else \"cpu\")\n",
    "\n",
    "Transition = namedtuple('Transition', ('state', 'action', 'next_state', 'reward'))\n",
    "\n",
    "class ReplayMemory(object):\n",
    "\n",
    "    def __init__(self, capacity):\n",
    "        self.memory = deque([],maxlen=capacity)\n",
    "\n",
    "    def push(self, *args):\n",
    "        \"\"\"Save a transition\"\"\"\n",
    "        self.memory.append(Transition(*args))\n",
    "\n",
    "    def sample(self, batch_size):\n",
    "        return random.sample(self.memory, batch_size)\n",
    "\n",
    "    def __len__(self):\n",
    "        return len(self.memory)\n",
    "    \n",
    "# Our network\n",
    "class DQN(nn.Module):\n",
    "\n",
    "    def __init__(self, i_size, h_size, o_size):\n",
    "        super(DQN, self).__init__()\n",
    "        self.linear1 = nn.Linear(i_size, h_size)\n",
    "        self.linear2 = nn.Linear(h_size, o_size)\n",
    "\n",
    "        self.head = nn.Linear(linear_input_size, outputs)\n",
    "\n",
    "    # Called with either one element to determine next action, or a batch\n",
    "    # during optimization. Returns tensor([[left0exp,right0exp]...]).\n",
    "    def forward(self, x):\n",
    "        x = x.to(device)\n",
    "        x = F.relu(self.linear1(x))\n",
    "        x = self.linear2(x)\n",
    "        return self.head(x.view(x.size(0), -1))\n",
    "    \n"
   ]
  },
  {
   "cell_type": "markdown",
   "metadata": {},
   "source": [
    "### Hyperparameters and Utilities"
   ]
  },
  {
   "cell_type": "code",
   "execution_count": 13,
   "metadata": {},
   "outputs": [
    {
     "ename": "NameError",
     "evalue": "name 'get_screen' is not defined",
     "output_type": "error",
     "traceback": [
      "\u001b[1;31m---------------------------------------------------------------------------\u001b[0m",
      "\u001b[1;31mNameError\u001b[0m                                 Traceback (most recent call last)",
      "\u001b[1;32m<ipython-input-13-4e587910d5ae>\u001b[0m in \u001b[0;36m<module>\u001b[1;34m\u001b[0m\n\u001b[0;32m      9\u001b[0m \u001b[1;31m# returned from AI gym. Typical dimensions at this point are close to 3x40x90\u001b[0m\u001b[1;33m\u001b[0m\u001b[1;33m\u001b[0m\u001b[1;33m\u001b[0m\u001b[0m\n\u001b[0;32m     10\u001b[0m \u001b[1;31m# which is the result of a clamped and down-scaled render buffer in get_screen()\u001b[0m\u001b[1;33m\u001b[0m\u001b[1;33m\u001b[0m\u001b[1;33m\u001b[0m\u001b[0m\n\u001b[1;32m---> 11\u001b[1;33m \u001b[0minit_screen\u001b[0m \u001b[1;33m=\u001b[0m \u001b[0mget_screen\u001b[0m\u001b[1;33m(\u001b[0m\u001b[1;33m)\u001b[0m\u001b[1;33m\u001b[0m\u001b[1;33m\u001b[0m\u001b[0m\n\u001b[0m\u001b[0;32m     12\u001b[0m \u001b[0m_\u001b[0m\u001b[1;33m,\u001b[0m \u001b[0m_\u001b[0m\u001b[1;33m,\u001b[0m \u001b[0mscreen_height\u001b[0m\u001b[1;33m,\u001b[0m \u001b[0mscreen_width\u001b[0m \u001b[1;33m=\u001b[0m \u001b[0minit_screen\u001b[0m\u001b[1;33m.\u001b[0m\u001b[0mshape\u001b[0m\u001b[1;33m\u001b[0m\u001b[1;33m\u001b[0m\u001b[0m\n\u001b[0;32m     13\u001b[0m \u001b[1;33m\u001b[0m\u001b[0m\n",
      "\u001b[1;31mNameError\u001b[0m: name 'get_screen' is not defined"
     ]
    }
   ],
   "source": [
    "BATCH_SIZE = 128\n",
    "GAMMA = 0.999\n",
    "EPS_START = 0.9\n",
    "EPS_END = 0.05\n",
    "EPS_DECAY = 200\n",
    "TARGET_UPDATE = 10\n",
    "\n",
    "# Get screen size so that we can initialize layers correctly based on shape\n",
    "# returned from AI gym. Typical dimensions at this point are close to 3x40x90\n",
    "# which is the result of a clamped and down-scaled render buffer in get_screen()\n",
    "init_screen = get_screen()\n",
    "_, _, screen_height, screen_width = init_screen.shape\n",
    "\n",
    "# Get number of actions from gym action space\n",
    "n_actions = 2\n",
    "\n",
    "policy_net = DQN(screen_height, screen_width, n_actions).to(device)\n",
    "target_net = DQN(screen_height, screen_width, n_actions).to(device)\n",
    "target_net.load_state_dict(policy_net.state_dict())\n",
    "target_net.eval()\n",
    "\n",
    "optimizer = optim.RMSprop(policy_net.parameters())\n",
    "memory = ReplayMemory(10000)\n",
    "\n",
    "\n",
    "steps_done = 0\n",
    "\n",
    "\n",
    "def select_action(state):\n",
    "    global steps_done\n",
    "    sample = random.random()\n",
    "    eps_threshold = EPS_END + (EPS_START - EPS_END) * \\\n",
    "        math.exp(-1. * steps_done / EPS_DECAY)\n",
    "    steps_done += 1\n",
    "    if sample > eps_threshold:\n",
    "        with torch.no_grad():\n",
    "            # t.max(1) will return largest column value of each row.\n",
    "            # second column on max result is index of where max element was\n",
    "            # found, so we pick action with the larger expected reward.\n",
    "            return policy_net(state).max(1)[1].view(1, 1)\n",
    "    else:\n",
    "        return torch.tensor([[random.randrange(n_actions)]], device=device, dtype=torch.long)\n",
    "\n",
    "\n",
    "episode_durations = []"
   ]
  },
  {
   "cell_type": "markdown",
   "metadata": {},
   "source": [
    "### Training loop"
   ]
  },
  {
   "cell_type": "code",
   "execution_count": null,
   "metadata": {},
   "outputs": [],
   "source": [
    "def optimize_model():\n",
    "    if len(memory) < BATCH_SIZE:\n",
    "        return\n",
    "    transitions = memory.sample(BATCH_SIZE)\n",
    "    # Transpose the batch (see https://stackoverflow.com/a/19343/3343043 for\n",
    "    # detailed explanation). This converts batch-array of Transitions\n",
    "    # to Transition of batch-arrays.\n",
    "    batch = Transition(*zip(*transitions))\n",
    "\n",
    "    # Compute a mask of non-final states and concatenate the batch elements\n",
    "    # (a final state would've been the one after which simulation ended)\n",
    "    non_final_mask = torch.tensor(tuple(map(lambda s: s is not None,\n",
    "                                          batch.next_state)), device=device, dtype=torch.bool)\n",
    "    non_final_next_states = torch.cat([s for s in batch.next_state\n",
    "                                                if s is not None])\n",
    "    state_batch = torch.cat(batch.state)\n",
    "    action_batch = torch.cat(batch.action)\n",
    "    reward_batch = torch.cat(batch.reward)\n",
    "\n",
    "    # Compute Q(s_t, a) - the model computes Q(s_t), then we select the\n",
    "    # columns of actions taken. These are the actions which would've been taken\n",
    "    # for each batch state according to policy_net\n",
    "    state_action_values = policy_net(state_batch).gather(1, action_batch)\n",
    "\n",
    "    # Compute V(s_{t+1}) for all next states.\n",
    "    # Expected values of actions for non_final_next_states are computed based\n",
    "    # on the \"older\" target_net; selecting their best reward with max(1)[0].\n",
    "    # This is merged based on the mask, such that we'll have either the expected\n",
    "    # state value or 0 in case the state was final.\n",
    "    next_state_values = torch.zeros(BATCH_SIZE, device=device)\n",
    "    next_state_values[non_final_mask] = target_net(non_final_next_states).max(1)[0].detach()\n",
    "    # Compute the expected Q values\n",
    "    expected_state_action_values = (next_state_values * GAMMA) + reward_batch\n",
    "\n",
    "    # Compute Huber loss\n",
    "    criterion = nn.SmoothL1Loss()\n",
    "    loss = criterion(state_action_values, expected_state_action_values.unsqueeze(1))\n",
    "\n",
    "    # Optimize the model\n",
    "    optimizer.zero_grad()\n",
    "    loss.backward()\n",
    "    for param in policy_net.parameters():\n",
    "        param.grad.data.clamp_(-1, 1)\n",
    "    optimizer.step()"
   ]
  },
  {
   "cell_type": "code",
   "execution_count": null,
   "metadata": {},
   "outputs": [],
   "source": [
    "num_episodes = 50\n",
    "for i_episode in range(num_episodes):\n",
    "    # Initialize the environment and state\n",
    "    env.reset()\n",
    "    last_screen = get_screen()\n",
    "    current_screen = get_screen()\n",
    "    state = current_screen - last_screen\n",
    "    for t in count():\n",
    "        # Select and perform an action\n",
    "        action = select_action(state)\n",
    "        _, reward, done, _ = env.step(action.item())\n",
    "        reward = torch.tensor([reward], device=device)\n",
    "\n",
    "        # Observe new state\n",
    "        last_screen = current_screen\n",
    "        current_screen = get_screen()\n",
    "        if not done:\n",
    "            next_state = current_screen - last_screen\n",
    "        else:\n",
    "            next_state = None\n",
    "\n",
    "        # Store the transition in memory\n",
    "        memory.push(state, action, next_state, reward)\n",
    "\n",
    "        # Move to the next state\n",
    "        state = next_state\n",
    "\n",
    "        # Perform one step of the optimization (on the policy network)\n",
    "        optimize_model()\n",
    "        if done:\n",
    "            episode_durations.append(t + 1)\n",
    "            plot_durations()\n",
    "            break\n",
    "    # Update the target network, copying all weights and biases in DQN\n",
    "    if i_episode % TARGET_UPDATE == 0:\n",
    "        target_net.load_state_dict(policy_net.state_dict())\n",
    "\n",
    "print('Complete')\n",
    "env.render()\n",
    "env.close()\n",
    "plt.ioff()\n",
    "plt.show()"
   ]
  },
  {
   "cell_type": "markdown",
   "metadata": {},
   "source": [
    "## Plotting"
   ]
  },
  {
   "cell_type": "code",
   "execution_count": 14,
   "metadata": {},
   "outputs": [],
   "source": [
    "from covid_abs.no_graphics import  *\n",
    "import matplotlib as pyplot\n",
    "from IPython import display\n",
    "\n",
    "def plot_statistics(stats):\n",
    "    \n",
    "    f, (ax1, ax2) = plt.subplots(1, 2, figsize=(14,5))\n",
    "    \n",
    "    for key in statistics['info'][0]:\n",
    "        y = [e[key] for e in statistics['info']]\n",
    "\n",
    "        ax1.plot(np.arange(len(y)), y, label=key)\n",
    "    ax1.set_title('Infection statistics')\n",
    "        \n",
    "    for key in statistics['ecom'][0]:\n",
    "        y = [e[key] for e in statistics['ecom']]\n",
    "\n",
    "        ax2.plot(np.arange(len(y)), y, label=key)\n",
    "    ax2.set_title('Economic statistics')\n",
    "\n",
    "    ax1.legend()\n",
    "    ax2.legend()\n",
    "    plt.show()\n",
    "    \n",
    "def plot_durations(episode_durations):\n",
    "    plt.figure(2)\n",
    "    plt.clf()\n",
    "    durations_t = torch.tensor(episode_durations, dtype=torch.float)\n",
    "    plt.title('Training...')\n",
    "    plt.xlabel('Episode')\n",
    "    plt.ylabel('Duration')\n",
    "    plt.plot(durations_t.numpy())\n",
    "    # Take 100 episode averages and plot them too\n",
    "    if len(durations_t) >= 100:\n",
    "        means = durations_t.unfold(0, 100, 1).mean(1).view(-1)\n",
    "        means = torch.cat((torch.zeros(99), means))\n",
    "        plt.plot(means.numpy())\n",
    "\n",
    "    plt.pause(0.001)  # pause a bit so that plots are updated\n",
    "    if is_ipython:\n",
    "        display.clear_output(wait=True)\n",
    "        display.display(plt.gcf())"
   ]
  },
  {
   "cell_type": "markdown",
   "metadata": {
    "id": "7Vn93NFzkrCP"
   },
   "source": [
    "### Scenario 1 - No measures"
   ]
  },
  {
   "cell_type": "code",
   "execution_count": 31,
   "metadata": {
    "id": "jji5sRvpXUc9"
   },
   "outputs": [],
   "source": [
    "def initialize_scenario(initial_infected_perc=.05):\n",
    "\n",
    "    return dict(\n",
    "            name='train_scenario',\n",
    "            initial_infected_perc=initial_infected_perc,\n",
    "            initial_immune_perc=.00,\n",
    "            contagion_distance=1.,\n",
    "            callbacks={'on_execute': lambda x: sleep(x) }\n",
    "            )"
   ]
  },
  {
   "cell_type": "code",
   "execution_count": 32,
   "metadata": {},
   "outputs": [
    {
     "data": {
      "image/png": "[encoded data removed]",
      "text/plain": [
       "<Figure size 1008x360 with 2 Axes>"
      ]
     },
     "metadata": {
      "needs_background": "light"
     },
     "output_type": "display_data"
    }
   ],
   "source": [
    "scenario1 = initialize_scenario()\n",
    "\n",
    "sim = GraphSimulation(**{**global_parameters, **scenario1})\n",
    "\n",
    "statistics = execute_simulation(sim, iterations=400)\n",
    "\n",
    "plot_statistics(statistics)"
   ]
  },
  {
   "cell_type": "markdown",
   "metadata": {},
   "source": [
    "### Scenario 2 - Lockdown"
   ]
  },
  {
   "cell_type": "code",
   "execution_count": null,
   "metadata": {},
   "outputs": [],
   "source": [
    "scenario2 = dict(\n",
    "    name='scenario2',\n",
    "    initial_infected_perc=.05,\n",
    "    initial_immune_perc=.00,\n",
    "    contagion_distance=1.,\n",
    "    callbacks={\n",
    "        'on_execute': lambda x: sleep(x),\n",
    "        'on_person_move': lambda x: lockdown(x)\n",
    "    }\n",
    ")"
   ]
  },
  {
   "cell_type": "code",
   "execution_count": null,
   "metadata": {},
   "outputs": [],
   "source": [
    "sim = GraphSimulation(**{**global_parameters, **scenario2})\n",
    "\n",
    "statistics = execute_simulation(sim, iterations=400)\n",
    "\n",
    "plot_statistics(statistics)"
   ]
  },
  {
   "cell_type": "markdown",
   "metadata": {},
   "source": [
    "# Sample code"
   ]
  },
  {
   "cell_type": "markdown",
   "metadata": {
    "id": "b2w-jRruOLUK"
   },
   "source": [
    "#### Execution Sample"
   ]
  },
  {
   "cell_type": "code",
   "execution_count": null,
   "metadata": {},
   "outputs": [],
   "source": [
    "from covid_abs.graphics import  *\n",
    "from covid_abs.network.graph_abs import *\n",
    "import time\n",
    "\n",
    "np.random.seed(1)\n",
    "\n",
    "sim = Simulation(**{**global_parameters, **scenario0})\n",
    "\n",
    "anim = execute_simulation(sim, iterations=50, iteration_time=200)\n",
    "\n",
    "#rc('animation', html='jshtml', embed_limit= 2**128)\n",
    "rc('animation', html='html5', embed_limit= 2**128)\n",
    "anim\n",
    "\n",
    "#save_gif(anim, 'do_nothing.gif')"
   ]
  },
  {
   "cell_type": "code",
   "execution_count": null,
   "metadata": {
    "colab": {
     "base_uri": "https://localhost:8080/",
     "height": 679
    },
    "id": "6wn3GFd3kvPJ",
    "outputId": "fd6bc0c8-e3f0-4e9c-b951-b87abbd1de38",
    "scrolled": false
   },
   "outputs": [],
   "source": [
    "from covid_abs.graphics import  *\n",
    "from covid_abs.network.graph_abs import *\n",
    "import time\n",
    "\n",
    "np.random.seed(1)\n",
    "\n",
    "sim = GraphSimulation(**{**global_parameters, **scenario0})\n",
    "\n",
    "anim = execute_graphsimulation(sim, iterations=1440, iteration_time=50)\n",
    "\n",
    "#rc('animation', html='jshtml', embed_limit= 2**128)\n",
    "rc('animation', html='html5', embed_limit= 2**128)\n",
    "anim\n",
    "\n",
    "#save_gif(anim, 'do_nothing.gif')"
   ]
  },
  {
   "cell_type": "code",
   "execution_count": null,
   "metadata": {},
   "outputs": [],
   "source": [
    "anim = execute_graphsimulation(sim, iterations=1440, iteration_time=25)\n",
    "\n",
    "#rc('animation', html='jshtml', embed_limit= 2**128)\n",
    "rc('animation', html='html5', embed_limit= 2**128)\n",
    "anim"
   ]
  },
  {
   "cell_type": "markdown",
   "metadata": {
    "id": "5AKYe05NPOUn"
   },
   "source": [
    "#### Experiment Batch Execution "
   ]
  },
  {
   "cell_type": "code",
   "execution_count": null,
   "metadata": {
    "id": "LqKqZXyPJoQf"
   },
   "outputs": [],
   "source": [
    "from covid_abs.network.graph_abs import *\n",
    "\n",
    "batch_experiment(35, 1440, \"scenario0.csv\",\n",
    "                     simulation_type=GraphSimulation,\n",
    "                     verbose='experiments',\n",
    "                     **{**global_parameters, **scenario0}\n",
    "                     )"
   ]
  },
  {
   "cell_type": "code",
   "execution_count": null,
   "metadata": {
    "colab": {
     "base_uri": "https://localhost:8080/",
     "height": 263
    },
    "id": "msud5pZE3n6v",
    "outputId": "35e92aef-b9f5-46aa-ba8c-0519b33389bb"
   },
   "outputs": [],
   "source": [
    "from covid_abs.experiments import plot_graph_batch_results\n",
    "\n",
    "df = pd.read_csv('scenario0.csv')\n",
    "\n",
    "plot_graph_batch_results(df, epidem=False)\n",
    "\n",
    "plt.tight_layout()"
   ]
  },
  {
   "cell_type": "markdown",
   "metadata": {
    "id": "aRSDIVJD4d5x"
   },
   "source": [
    "### Scenario 1 - Do Nothing"
   ]
  },
  {
   "cell_type": "code",
   "execution_count": null,
   "metadata": {
    "id": "A67gQlTmXCfs"
   },
   "outputs": [],
   "source": [
    "scenario1 = dict(\n",
    "    name='scenario1',\n",
    "    initial_infected_perc=.01,\n",
    "    initial_immune_perc=.01,\n",
    "    contagion_distance=1.,\n",
    "    callbacks={'on_execute': lambda x: sleep(x) }\n",
    ")"
   ]
  },
  {
   "cell_type": "markdown",
   "metadata": {
    "id": "VpWgweO5OYRX"
   },
   "source": [
    "#### Execution Sample"
   ]
  },
  {
   "cell_type": "code",
   "execution_count": null,
   "metadata": {
    "colab": {
     "base_uri": "https://localhost:8080/",
     "height": 679
    },
    "id": "fwcXDN4EhXoE",
    "outputId": "6671a5fc-4e33-4f3f-a93a-b35bb303074a"
   },
   "outputs": [],
   "source": [
    "from covid_abs.graphics import  *\n",
    "from covid_abs.network.graph_abs import *\n",
    "\n",
    "np.random.seed(1)\n",
    "\n",
    "sim = GraphSimulation(**{**global_parameters, **scenario1})\n",
    "\n",
    "anim = execute_graphsimulation(sim, iterations=1440, iteration_time=25)\n",
    "\n",
    "#rc('animation', html='jshtml', embed_limit= 2**128)\n",
    "rc('animation', html='html5', embed_limit= 2**128)\n",
    "anim\n",
    "\n",
    "#save_gif(anim, 'do_nothing.gif')"
   ]
  },
  {
   "cell_type": "markdown",
   "metadata": {
    "id": "TL_cxBgXPX_j"
   },
   "source": [
    "#### Experiment Batch Execution "
   ]
  },
  {
   "cell_type": "code",
   "execution_count": null,
   "metadata": {
    "id": "PEZXzFa14qw1"
   },
   "outputs": [],
   "source": [
    "from covid_abs.network.graph_abs import *\n",
    "\n",
    "batch_experiment(35, 1440, \"scenario1.csv\",\n",
    "                     simulation_type=GraphSimulation,\n",
    "                     verbose='experiments',\n",
    "                     **{**global_parameters, **scenario1}\n",
    "                     )"
   ]
  },
  {
   "cell_type": "code",
   "execution_count": null,
   "metadata": {
    "colab": {
     "base_uri": "https://localhost:8080/",
     "height": 263
    },
    "id": "20RqAtjjJexF",
    "outputId": "96147a14-b700-4cf0-9924-829f5475fdba"
   },
   "outputs": [],
   "source": [
    "from covid_abs.experiments import plot_graph_batch_results\n",
    "\n",
    "df = pd.read_csv('scenario1.csv')\n",
    "\n",
    "plot_graph_batch_results(df)\n",
    "\n",
    "plt.tight_layout()"
   ]
  },
  {
   "cell_type": "markdown",
   "metadata": {
    "id": "hZT5f-_ap2hb"
   },
   "source": [
    "### Scenario 2 - Lockdown"
   ]
  },
  {
   "cell_type": "code",
   "execution_count": null,
   "metadata": {
    "id": "teyiYArbfSiR"
   },
   "outputs": [],
   "source": [
    "scenario2 = dict(\n",
    "    name='scenario2',\n",
    "    initial_infected_perc=.01,\n",
    "    initial_immune_perc=.01,\n",
    "    contagion_distance=1.,\n",
    "    callbacks={\n",
    "        'on_execute': lambda x: sleep(x),\n",
    "        'on_person_move': lambda x: lockdown(x)\n",
    "    }\n",
    ")"
   ]
  },
  {
   "cell_type": "markdown",
   "metadata": {
    "id": "oanwep_IOa0H"
   },
   "source": [
    "#### Execution Sample"
   ]
  },
  {
   "cell_type": "code",
   "execution_count": null,
   "metadata": {
    "colab": {
     "base_uri": "https://localhost:8080/",
     "height": 679
    },
    "id": "Bau4IuEOgEaM",
    "outputId": "073701e2-a69b-429f-faaa-283922ee2341"
   },
   "outputs": [],
   "source": [
    "from covid_abs.graphics import  *\n",
    "from covid_abs.network.graph_abs import *\n",
    "\n",
    "np.random.seed(1)\n",
    "\n",
    "sim = GraphSimulation(**{**global_parameters, **scenario2})\n",
    "\n",
    "anim = execute_graphsimulation(sim, iterations=1440, iteration_time=25)\n",
    "\n",
    "#rc('animation', html='jshtml', embed_limit= 2**128)\n",
    "rc('animation', html='html5', embed_limit= 2**128)\n",
    "anim\n",
    "\n",
    "#save_gif(anim, 'do_nothing.gif')"
   ]
  },
  {
   "cell_type": "markdown",
   "metadata": {
    "id": "jvtoCiIyPh78"
   },
   "source": [
    "#### Experiment Batch Execution "
   ]
  },
  {
   "cell_type": "code",
   "execution_count": null,
   "metadata": {
    "id": "Tna6yP326-_F"
   },
   "outputs": [],
   "source": [
    "from covid_abs.network.graph_abs import *\n",
    "\n",
    "batch_experiment(35, 1440, \"scenario2.csv\",\n",
    "                     simulation_type=GraphSimulation,\n",
    "                     verbose='experiments',\n",
    "                     **{**global_parameters, **scenario2}\n",
    "                     )"
   ]
  },
  {
   "cell_type": "code",
   "execution_count": null,
   "metadata": {
    "colab": {
     "base_uri": "https://localhost:8080/",
     "height": 263
    },
    "id": "DtjyKbN77Dkh",
    "outputId": "e063ce13-9ef6-4692-daff-1967b6280702"
   },
   "outputs": [],
   "source": [
    "from covid_abs.experiments import plot_graph_batch_results\n",
    "\n",
    "df = pd.read_csv('scenario2.csv')\n",
    "\n",
    "plot_graph_batch_results(df)\n",
    "\n",
    "plt.tight_layout()"
   ]
  },
  {
   "cell_type": "markdown",
   "metadata": {
    "id": "Bf_UQMqGvocL"
   },
   "source": [
    "### Scenario 3 - Conditional Lockdown"
   ]
  },
  {
   "cell_type": "code",
   "execution_count": null,
   "metadata": {
    "id": "zLSwLQ8Yf267"
   },
   "outputs": [],
   "source": [
    "scenario3 = dict(\n",
    "    name='scenario3',\n",
    "    initial_infected_perc=.01,\n",
    "    initial_immune_perc=.01,\n",
    "    contagion_distance=1.,\n",
    "    callbacks={\n",
    "        'on_execute': lambda x: sleep(x),\n",
    "        'on_person_move': lambda x: conditional_lockdown(x)\n",
    "    }\n",
    ")"
   ]
  },
  {
   "cell_type": "markdown",
   "metadata": {
    "id": "-sndMoucOc4a"
   },
   "source": [
    "#### Execution Sample"
   ]
  },
  {
   "cell_type": "code",
   "execution_count": null,
   "metadata": {
    "colab": {
     "base_uri": "https://localhost:8080/",
     "height": 734
    },
    "id": "QYne3XTJuMkU",
    "outputId": "2ac4b7b3-3aa0-4351-8e63-15ab92894c19"
   },
   "outputs": [],
   "source": [
    "from covid_abs.graphics import  *\n",
    "from covid_abs.network.graph_abs import *\n",
    "\n",
    "np.random.seed(1)\n",
    "\n",
    "sim = GraphSimulation(**{**global_parameters, **scenario3})\n",
    "\n",
    "anim = execute_graphsimulation(sim, iterations=1440, iteration_time=25)\n",
    "\n",
    "#rc('animation', html='jshtml', embed_limit= 2**128)\n",
    "rc('animation', html='html5', embed_limit= 2**128)\n",
    "anim\n",
    "\n",
    "#save_gif(anim, 'do_nothing.gif')"
   ]
  },
  {
   "cell_type": "markdown",
   "metadata": {
    "id": "bKU_HHwBPnvB"
   },
   "source": [
    "#### Experiment Batch Execution "
   ]
  },
  {
   "cell_type": "code",
   "execution_count": null,
   "metadata": {
    "id": "aamXWC9y7O1W"
   },
   "outputs": [],
   "source": [
    "from covid_abs.network.graph_abs import *\n",
    "\n",
    "batch_experiment(35, 1440, \"scenario3.csv\",\n",
    "                     simulation_type=GraphSimulation,\n",
    "                     verbose='experiments',\n",
    "                     **{**global_parameters, **scenario3}\n",
    "                     )"
   ]
  },
  {
   "cell_type": "code",
   "execution_count": null,
   "metadata": {
    "colab": {
     "base_uri": "https://localhost:8080/",
     "height": 263
    },
    "id": "I6-8TOr77PSo",
    "outputId": "ea4f6fcd-dea3-44d1-9cc9-451be6a6d5d8"
   },
   "outputs": [],
   "source": [
    "from covid_abs.experiments import plot_graph_batch_results\n",
    "\n",
    "df = pd.read_csv('scenario3.csv')\n",
    "\n",
    "plot_graph_batch_results(df)\n",
    "\n",
    "plt.tight_layout()"
   ]
  },
  {
   "cell_type": "markdown",
   "metadata": {
    "id": "icfPeeMg5Gul"
   },
   "source": [
    "### Scenario 4 - Vertical Isolation\n"
   ]
  },
  {
   "cell_type": "code",
   "execution_count": null,
   "metadata": {
    "id": "FCbbOq5-gX6a"
   },
   "outputs": [],
   "source": [
    "scenario4 = dict(\n",
    "    name='scenario4',\n",
    "    initial_infected_perc=.01,\n",
    "    initial_immune_perc=.01,\n",
    "    contagion_distance=1.,\n",
    "    callbacks={\n",
    "        'on_execute': lambda x: sleep(x),\n",
    "        'on_person_move': lambda x: vertical_isolation(x)\n",
    "    }\n",
    ")"
   ]
  },
  {
   "cell_type": "markdown",
   "metadata": {
    "id": "_cgSihv-Oe4X"
   },
   "source": [
    "#### Execution Sample"
   ]
  },
  {
   "cell_type": "code",
   "execution_count": null,
   "metadata": {
    "colab": {
     "base_uri": "https://localhost:8080/",
     "height": 734
    },
    "id": "eq81fFPIR5g7",
    "outputId": "5e7bbbc5-b1ca-4088-e311-0661373beb31"
   },
   "outputs": [],
   "source": [
    "from covid_abs.graphics import  *\n",
    "from covid_abs.network.graph_abs import *\n",
    "\n",
    "np.random.seed(1)\n",
    "\n",
    "sim = GraphSimulation(**{**global_parameters, **scenario4})\n",
    "\n",
    "anim = execute_graphsimulation(sim, iterations=1440, iteration_time=25)\n",
    "\n",
    "#rc('animation', html='jshtml', embed_limit= 2**128)\n",
    "rc('animation', html='html5', embed_limit= 2**128)\n",
    "anim\n",
    "\n",
    "#save_gif(anim, 'do_nothing.gif')"
   ]
  },
  {
   "cell_type": "markdown",
   "metadata": {
    "id": "SgvzHEnEPrm_"
   },
   "source": [
    "#### Experiment Batch Execution "
   ]
  },
  {
   "cell_type": "code",
   "execution_count": null,
   "metadata": {
    "id": "NpPeTVhH7cSu"
   },
   "outputs": [],
   "source": [
    "from covid_abs.network.graph_abs import *\n",
    "\n",
    "batch_experiment(35, 1440, \"scenario4.csv\",\n",
    "                     simulation_type=GraphSimulation,\n",
    "                     verbose='experiments',\n",
    "                     **{**global_parameters, **scenario4}\n",
    "                     )"
   ]
  },
  {
   "cell_type": "code",
   "execution_count": null,
   "metadata": {
    "colab": {
     "base_uri": "https://localhost:8080/",
     "height": 263
    },
    "id": "Yr7Sf8qjvvI1",
    "outputId": "4b9b855d-df57-40da-bed9-76b7f7972a6d"
   },
   "outputs": [],
   "source": [
    "from covid_abs.experiments import plot_graph_batch_results\n",
    "\n",
    "df = pd.read_csv('scenario4.csv')\n",
    "\n",
    "plot_graph_batch_results(df)\n",
    "\n",
    "plt.tight_layout()"
   ]
  },
  {
   "cell_type": "markdown",
   "metadata": {
    "id": "UuDOLlTclYGi"
   },
   "source": [
    "### Scenario 5 - 50% of Population Isolation"
   ]
  },
  {
   "cell_type": "code",
   "execution_count": null,
   "metadata": {
    "id": "b3ayOOcHiDKZ"
   },
   "outputs": [],
   "source": [
    "isolated = []\n",
    "scenario5 = dict(\n",
    "    name='scenario5',\n",
    "    initial_infected_perc=.01,\n",
    "    initial_immune_perc=.01,\n",
    "    contagion_distance=1.,\n",
    "    callbacks={\n",
    "        #'on_execute': lambda x: sleep(x),\n",
    "        'post_initialize': lambda x: sample_isolated(x, isolation_rate=.7, list_isolated=isolated),\n",
    "        'on_person_move': lambda x: check_isolation(isolated, x)\n",
    "    }\n",
    ")"
   ]
  },
  {
   "cell_type": "markdown",
   "metadata": {
    "id": "NiChw-HdOg3z"
   },
   "source": [
    "#### Execution Sample"
   ]
  },
  {
   "cell_type": "code",
   "execution_count": null,
   "metadata": {
    "colab": {
     "base_uri": "https://localhost:8080/",
     "height": 679
    },
    "id": "Nm9gQv-KlXfk",
    "outputId": "e1400756-d425-4408-a17f-d3b653321f5b"
   },
   "outputs": [],
   "source": [
    "from covid_abs.graphics import  *\n",
    "from covid_abs.network.graph_abs import *\n",
    "\n",
    "np.random.seed(1)\n",
    "\n",
    "sim = GraphSimulation(**{**global_parameters, **scenario5})\n",
    "\n",
    "anim = execute_graphsimulation(sim, iterations=1440, iteration_time=25)\n",
    "\n",
    "#rc('animation', html='jshtml', embed_limit= 2**128)\n",
    "rc('animation', html='html5', embed_limit= 2**128)\n",
    "anim\n",
    "\n",
    "#save_gif(anim, 'do_nothing.gif')"
   ]
  },
  {
   "cell_type": "markdown",
   "metadata": {
    "id": "rp9VN3s9PupQ"
   },
   "source": [
    "#### Experiment Batch Execution "
   ]
  },
  {
   "cell_type": "code",
   "execution_count": null,
   "metadata": {
    "id": "tHqDhlp8Lz0W"
   },
   "outputs": [],
   "source": [
    "from covid_abs.network.graph_abs import *\n",
    "\n",
    "batch_experiment(35, 1440, \"scenario5.csv\",\n",
    "                     simulation_type=GraphSimulation,\n",
    "                     verbose='experiments',\n",
    "                     **{**global_parameters, **scenario5}\n",
    "                     )"
   ]
  },
  {
   "cell_type": "code",
   "execution_count": null,
   "metadata": {
    "colab": {
     "base_uri": "https://localhost:8080/",
     "height": 263
    },
    "id": "xPHP_vG5tVVD",
    "outputId": "719788aa-07cc-4502-bc01-8636cd69b90b"
   },
   "outputs": [],
   "source": [
    "from covid_abs.experiments import plot_graph_batch_results\n",
    "\n",
    "df = pd.read_csv('scenario5.csv')\n",
    "\n",
    "plot_graph_batch_results(df)\n",
    "\n",
    "plt.tight_layout()"
   ]
  },
  {
   "cell_type": "markdown",
   "metadata": {
    "id": "kFwXlBBD1qcM"
   },
   "source": [
    "#### Other isolation levels"
   ]
  },
  {
   "cell_type": "code",
   "execution_count": null,
   "metadata": {
    "id": "Bo48rCkF2L0g"
   },
   "outputs": [],
   "source": [
    "scenarios = []\n",
    "\n",
    "for rate in [.4, .5, .6, .7, .8, .9]:\n",
    "    tmp = dict(\n",
    "        name='partialisolation{}'.format(rate),\n",
    "        initial_infected_perc=.01,\n",
    "        initial_immune_perc=.01,\n",
    "        contagion_distance=.05,\n",
    "        callbacks={\n",
    "            'post_initialize': lambda x: sample_isolated(x, isolation_rate=rate, list_isolated=isolated),\n",
    "            'on_person_move': lambda x: check_isolation(isolated, x)\n",
    "        }\n",
    "    )\n",
    "    scenarios.append(tmp)\n",
    "    \n",
    "for scenario in scenarios:  #scenario0, scenario1, scenario2, scenario3, scenario4, scenario5, scenario6, scenario7, scenario8, scenario9]:\n",
    "    batch_experiment(15, 1440, \"{}.csv\".format(scenario['name']),\n",
    "                     simulation_type=GraphSimulation,\n",
    "                     verbose='experiments',\n",
    "                     **{**global_parameters, **scenario}\n",
    "                     )"
   ]
  },
  {
   "cell_type": "code",
   "execution_count": null,
   "metadata": {
    "colab": {
     "base_uri": "https://localhost:8080/",
     "height": 225
    },
    "id": "Ab6OgIu71xRk",
    "outputId": "46c6210b-62cd-4e1e-af50-1f6a3e33d14d"
   },
   "outputs": [],
   "source": [
    "fig, ax = plt.subplots(nrows=1, ncols=1, figsize=[10, 3])\n",
    "from matplotlib.ticker import (MultipleLocator, FormatStrFormatter,\n",
    "                                   AutoMinorLocator)\n",
    "\n",
    "isolation_levels = [.3, .4, .5, .6, .7, .8, .9]\n",
    "\n",
    "tick_unit=72\n",
    "\n",
    "x = [i for i in range(0, 1440)]\n",
    "\n",
    "for ct, isolation_level in enumerate(isolation_levels):\n",
    "  df = pd.read_csv('partialisolation{}.csv'.format(isolation_level))\n",
    "  df2 = df[(df['Metric'] == 'Infected')]\n",
    "  ax.plot(x, df2['Avg'].values, label=str(isolation_level))\n",
    "  #print(str(isolation_level), max(df2['Avg'].values))\n",
    "\n",
    "#ax.set_title(\"Infection Curve by Isolation Level\")\n",
    "ax.set_ylabel(\"% of population\")\n",
    "ax.set_xlabel(\"Days\")\n",
    "tickslabels = [str(i//24) for i in range(0, 1440, tick_unit)]\n",
    "ax.xaxis.set_major_locator(MultipleLocator(tick_unit))\n",
    "ax.set_xticklabels(tickslabels)\n",
    "\n",
    "handles, labels = ax.get_legend_handles_labels()\n",
    "lgd = ax.legend(handles, labels, loc='top right')\n"
   ]
  },
  {
   "cell_type": "code",
   "execution_count": null,
   "metadata": {
    "colab": {
     "base_uri": "https://localhost:8080/",
     "height": 225
    },
    "id": "hdiv_gOL_z8v",
    "outputId": "fb5c7e0c-2fc9-43f3-e171-e01b4d87aa2f"
   },
   "outputs": [],
   "source": [
    "fig, ax = plt.subplots(nrows=1, ncols=1, figsize=[10, 3])\n",
    "from matplotlib.ticker import (MultipleLocator, FormatStrFormatter,\n",
    "                                   AutoMinorLocator)\n",
    "\n",
    "isolation_levels = [.3, .4, .5, .6, .7, .8, .9]\n",
    "\n",
    "tick_unit=72\n",
    "\n",
    "x = [i for i in range(0, 1440)]\n",
    "\n",
    "for ct, isolation_level in enumerate(isolation_levels):\n",
    "  df = pd.read_csv('partialisolation{}.csv'.format(isolation_level))\n",
    "  df2 = df[(df['Metric'] == 'Q5')]\n",
    "  ax.plot(x, df2['Avg'].values, label=str(isolation_level))\n",
    "  #print(str(isolation_level), max(df2['Avg'].values))\n",
    "\n",
    "#ax.set_title(\"Infection Curve by Isolation Level\")\n",
    "ax.set_ylabel(\"% of GDP\")\n",
    "ax.set_xlabel(\"Days\")\n",
    "tickslabels = [str(i//24) for i in range(0, 1440, tick_unit)]\n",
    "ax.xaxis.set_major_locator(MultipleLocator(tick_unit))\n",
    "ax.set_xticklabels(tickslabels)\n",
    "\n",
    "handles, labels = ax.get_legend_handles_labels()\n",
    "lgd = ax.legend(handles, labels, loc='top right')\n"
   ]
  },
  {
   "cell_type": "code",
   "execution_count": null,
   "metadata": {
    "colab": {
     "base_uri": "https://localhost:8080/",
     "height": 369
    },
    "id": "OvgMlNAsZcch",
    "outputId": "fc438c1b-ae9c-4705-be03-eb1bce3102fa"
   },
   "outputs": [],
   "source": [
    "fig, ax = plt.subplots(nrows=3, ncols=1, figsize=[7, 5])\n",
    "from matplotlib.ticker import (MultipleLocator, FormatStrFormatter,\n",
    "                                   AutoMinorLocator)\n",
    "\n",
    "deaths = []\n",
    "i_peak = []\n",
    "vals = []\n",
    "errs = []\n",
    "isolation_levels = (.4, .5, .6, .7, .8, .9)\n",
    "\n",
    "for isolation_level in isolation_levels:\n",
    "  df = pd.read_csv('partialisolation{}.csv2'.format(isolation_level))\n",
    "  df2 = df[(df['Metric'] == 'Infected')]\n",
    "  #min_max = np.max(df2['Min'].values)\n",
    "  avg_max = np.max(df2['Avg'].values)\n",
    "  i_peak.append(avg_max)\n",
    "  #max_max = np.max(df2['Max'].values)\n",
    "  it_max = np.min(df2[(df['Avg'] == avg_max)]['Iteration'].values)\n",
    "  #ax.plot(df2['Avg'].values, label=get_label(i))\n",
    "  vals.append(it_max // 24)\n",
    "\n",
    "  df3 = df[(df['Metric'] == 'Death')]\n",
    "  avg_max2 = np.max(df3['Avg'].values)\n",
    "  deaths.append(avg_max2)\n",
    "\n",
    "ix = [1,2,3,4,5,6]\n",
    "\n",
    "ax[0].bar(ix, i_peak, color='white',  edgecolor='black', hatch='//')\n",
    "ax[0].set_ylabel(\"% of Infected\")\n",
    "ax[0].set_xlabel(\"Scenario\")\n",
    "ax[0].set_title(\"$I_P$ - Infection Peak\")\n",
    "\n",
    "ax[1].bar(ix, vals, color='white',  edgecolor='black', hatch='//')\n",
    "ax[1].set_ylabel(\"Number of Days\")\n",
    "ax[1].set_xlabel(\"Scenario\")\n",
    "ax[1].set_title(\"$T_{IP}$ - Number of Days to Reach $I_P$\")\n",
    "\n",
    "ax[2].bar(ix, deaths, color='white',  edgecolor='black', hatch='//')\n",
    "ax[2].set_ylabel(\"% of Deaths\")\n",
    "ax[2].set_xlabel(\"Scenario\")\n",
    "ax[2].set_title(\"$D_t$ - Total Number of Deaths\")\n",
    "\n",
    "plt.tight_layout()\n"
   ]
  },
  {
   "cell_type": "code",
   "execution_count": null,
   "metadata": {
    "id": "tTxRz_9Zec_L"
   },
   "outputs": [],
   "source": [
    "def next(it, its, start):\n",
    "  if it not in its:\n",
    "    for k in its[start:]:\n",
    "      if k > it:\n",
    "        return k\n",
    "  else:\n",
    "    return it\n",
    "\n",
    "for sc in [.3]: #.4, .5, .6, .7, .8, .9]:\n",
    "\n",
    "  filename = 'partialisolation{}.csv'.format(sc)\n",
    "\n",
    "  df = pd.read_csv(filename)\n",
    "  metrics = df['Metric'].unique()\n",
    "  iterations = df['Iteration'].unique()\n",
    "  columns = ['Min','Avg','Std','Max']\n",
    "  rows = []\n",
    "  last_ix = 0\n",
    "  for iteration in range(0,1440):\n",
    "\n",
    "    print(iteration)\n",
    "\n",
    "    ix = next(iteration, iterations, last_ix)\n",
    "\n",
    "    for metric in metrics:\n",
    "      row = [iteration, metric]\n",
    "      for column in columns:\n",
    "        row.append(df[(df['Iteration']==ix) & (df['Metric']==metric)][column].values[0])\n",
    "\n",
    "      rows.append(row)\n",
    "\n",
    "    last_ix = int(np.where(iterations == ix)[0])\n",
    "\n",
    "  df2 = pd.DataFrame(rows, columns=['Iteration','Metric','Min','Avg','Std','Max'])\n",
    "\n",
    "  df2.to_csv(filename)\n",
    "  "
   ]
  },
  {
   "cell_type": "markdown",
   "metadata": {
    "id": "3rVnQazYu6AK"
   },
   "source": [
    "### Scenario 6 - Use of Masks"
   ]
  },
  {
   "cell_type": "code",
   "execution_count": null,
   "metadata": {
    "id": "LX6Vkcunu6Aj"
   },
   "outputs": [],
   "source": [
    "scenario6 = dict(\n",
    "    name='scenario6',\n",
    "    initial_infected_perc=.01,\n",
    "    initial_immune_perc=.01,\n",
    "    contagion_distance=.05,\n",
    "    callbacks={\n",
    "        'on_execute': lambda x: sleep(x) ,\n",
    "        'on_initialize': lambda x: pset(x, 'contagion_rate', 0.1)\n",
    "    }\n",
    ")"
   ]
  },
  {
   "cell_type": "markdown",
   "metadata": {
    "id": "0S7sPc63u6BN"
   },
   "source": [
    "#### Execution Sample"
   ]
  },
  {
   "cell_type": "code",
   "execution_count": null,
   "metadata": {
    "colab": {
     "base_uri": "https://localhost:8080/",
     "height": 679
    },
    "id": "d9NVxG1wu6BQ",
    "outputId": "1b19dee3-53ae-4f5d-bf30-02c0d20b642c"
   },
   "outputs": [],
   "source": [
    "from covid_abs.graphics import  *\n",
    "from covid_abs.network.graph_abs import *\n",
    "\n",
    "np.random.seed(1)\n",
    "\n",
    "sim = GraphSimulation(**{**global_parameters, **scenario6})\n",
    "\n",
    "anim = execute_graphsimulation(sim, iterations=1440, iteration_time=25)\n",
    "\n",
    "#rc('animation', html='jshtml', embed_limit= 2**128)\n",
    "rc('animation', html='html5', embed_limit= 2**128)\n",
    "anim\n",
    "\n",
    "#save_gif(anim, 'do_nothing.gif')"
   ]
  },
  {
   "cell_type": "markdown",
   "metadata": {
    "id": "mYAMtLQPu6Bh"
   },
   "source": [
    "#### Experiment Batch Execution "
   ]
  },
  {
   "cell_type": "code",
   "execution_count": null,
   "metadata": {
    "id": "c6KDFUkdu6Bj"
   },
   "outputs": [],
   "source": [
    "from covid_abs.network.graph_abs import *\n",
    "\n",
    "batch_experiment(35, 1440, \"scenario6.csv\",\n",
    "                     simulation_type=GraphSimulation,\n",
    "                     verbose='experiments',\n",
    "                     **{**global_parameters, **scenario8}\n",
    "                     )"
   ]
  },
  {
   "cell_type": "code",
   "execution_count": null,
   "metadata": {
    "colab": {
     "base_uri": "https://localhost:8080/",
     "height": 263
    },
    "id": "sMW3LPAnu6Bt",
    "outputId": "0ee459db-3385-437e-fa53-a29ff4534db4"
   },
   "outputs": [],
   "source": [
    "from covid_abs.experiments import plot_graph_batch_results\n",
    "\n",
    "df = pd.read_csv('scenario6.csv')\n",
    "\n",
    "plot_graph_batch_results(df)\n",
    "\n",
    "plt.tight_layout()"
   ]
  },
  {
   "cell_type": "code",
   "execution_count": null,
   "metadata": {
    "id": "ILaUS4r8u6By"
   },
   "outputs": [],
   "source": []
  },
  {
   "cell_type": "markdown",
   "metadata": {
    "id": "RLOqQsbWvQKv"
   },
   "source": [
    "### Scenario 7 - Masks And 50% of Social Isolation"
   ]
  },
  {
   "cell_type": "code",
   "execution_count": null,
   "metadata": {
    "id": "_tO6Z094vQLC"
   },
   "outputs": [],
   "source": [
    "scenario7 = dict(\n",
    "    name='scenario7',\n",
    "    initial_infected_perc=.01,\n",
    "    initial_immune_perc=.01,\n",
    "    contagion_distance=.05,\n",
    "    callbacks={\n",
    "        'on_execute': lambda x: sleep(x) ,\n",
    "        'post_initialize': lambda x: sample_isolated(x, isolation_rate=.6, list_isolated=isolated),\n",
    "        'on_person_move': lambda x: check_isolation(isolated, x),\n",
    "        'on_initialize': lambda x: pset(x, 'contagion_rate', 0.1)\n",
    "    }\n",
    ")"
   ]
  },
  {
   "cell_type": "markdown",
   "metadata": {
    "id": "Uy6gX3djvQLc"
   },
   "source": [
    "#### Execution Sample"
   ]
  },
  {
   "cell_type": "code",
   "execution_count": null,
   "metadata": {
    "colab": {
     "base_uri": "https://localhost:8080/",
     "height": 679
    },
    "id": "hG4XBrcmvQLf",
    "outputId": "ae5b3ec9-23b5-4fa1-a9a3-5e95313aacc5"
   },
   "outputs": [],
   "source": [
    "from covid_abs.graphics import  *\n",
    "from covid_abs.network.graph_abs import *\n",
    "\n",
    "np.random.seed(1)\n",
    "\n",
    "sim = GraphSimulation(**{**global_parameters, **scenario7})\n",
    "\n",
    "anim = execute_graphsimulation(sim, iterations=1440, iteration_time=25)\n",
    "\n",
    "#rc('animation', html='jshtml', embed_limit= 2**128)\n",
    "rc('animation', html='html5', embed_limit= 2**128)\n",
    "anim\n",
    "\n",
    "#save_gif(anim, 'do_nothing.gif')"
   ]
  },
  {
   "cell_type": "markdown",
   "metadata": {
    "id": "gEt8Y4kbvQLs"
   },
   "source": [
    "#### Experiment Batch Execution "
   ]
  },
  {
   "cell_type": "code",
   "execution_count": null,
   "metadata": {
    "id": "1eHlkN4DvQLv"
   },
   "outputs": [],
   "source": [
    "from covid_abs.network.graph_abs import *\n",
    "\n",
    "batch_experiment(35, 1440, \"scenario7.csv\",\n",
    "                     simulation_type=GraphSimulation,\n",
    "                     verbose='experiments',\n",
    "                     **{**global_parameters, **scenario9}\n",
    "                     )"
   ]
  },
  {
   "cell_type": "code",
   "execution_count": null,
   "metadata": {
    "colab": {
     "base_uri": "https://localhost:8080/",
     "height": 263
    },
    "id": "3n22wOoovQL4",
    "outputId": "b02bddd6-270a-43db-b23b-08e48dba9791"
   },
   "outputs": [],
   "source": [
    "from covid_abs.experiments import plot_graph_batch_results\n",
    "\n",
    "df = pd.read_csv('scenario7.csv')\n",
    "\n",
    "plot_graph_batch_results(df)\n",
    "\n",
    "plt.tight_layout()"
   ]
  },
  {
   "cell_type": "markdown",
   "metadata": {
    "id": "dIOHXSQ6qvLI"
   },
   "source": [
    "## Analysis\n",
    "\n",
    "Acho que devemos fazer uma análise qualitativa dos gráficos e uma análise quantitativa e comparativa dos cenários em termos das seguintes métricas:\n",
    "- número total de mortes \n",
    "- número total de infectados\n",
    "- tempo do pico \n",
    "- perdas % em renda das empresas em relação ao cenário 0 \n",
    "- perdas % em renda das famílias em relação ao cenário 0\n"
   ]
  },
  {
   "cell_type": "markdown",
   "metadata": {
    "id": "O423TqxMBcox"
   },
   "source": [
    "### Common Codes"
   ]
  },
  {
   "cell_type": "code",
   "execution_count": null,
   "metadata": {
    "id": "TX0nDGeCvQL-"
   },
   "outputs": [],
   "source": [
    "def get_label(ix):\n",
    "  return 'Scenario {}'.format(ix)\n",
    "\n",
    "def get_name(ix):\n",
    "  return 'scenario{}'.format(ix)\n",
    "\n",
    "def get_df(ix):\n",
    "  return pd.read_csv(get_name(ix)+\".csv\")\n",
    "\n",
    "#get_df(0).head()"
   ]
  },
  {
   "cell_type": "markdown",
   "metadata": {
    "id": "YSIfcALYBfcY"
   },
   "source": [
    "### Evolution of Deaths by Scenario"
   ]
  },
  {
   "cell_type": "code",
   "execution_count": null,
   "metadata": {
    "colab": {
     "base_uri": "https://localhost:8080/",
     "height": 350
    },
    "id": "IckNqpDet1c8",
    "outputId": "d54d69f1-771a-43d3-e75d-df091d85d60b"
   },
   "outputs": [],
   "source": [
    "fig, ax = plt.subplots(nrows=1, ncols=1, figsize=[10, 5])\n",
    "from matplotlib.ticker import (MultipleLocator, FormatStrFormatter,\n",
    "                                   AutoMinorLocator)\n",
    "for i in range(1,8):\n",
    "  df = get_df(i)[['Iteration','Metric','Avg']]\n",
    "  df2 = df[(df['Metric'] == 'Death')]\n",
    "  ax.plot(df2['Avg'].values, label=get_label(i))\n",
    "\n",
    "tick_unit=72\n",
    "\n",
    "ax.set_title(\"Evolution of Deaths by Scenario\")\n",
    "ax.set_ylabel(\"% of population\")\n",
    "ax.set_xlabel(\"Days\")\n",
    "tickslabels = [str(i//24) for i in range(0, 1440, tick_unit)]\n",
    "ax.xaxis.set_major_locator(MultipleLocator(tick_unit))\n",
    "ax.set_xticklabels(tickslabels)\n",
    "\n",
    "handles, labels = ax.get_legend_handles_labels()\n",
    "lgd = ax.legend(handles, labels, loc='top right')"
   ]
  },
  {
   "cell_type": "markdown",
   "metadata": {
    "id": "gdHZwwaaBoQE"
   },
   "source": [
    "### Evolution of Infection by Scenario"
   ]
  },
  {
   "cell_type": "code",
   "execution_count": null,
   "metadata": {
    "colab": {
     "base_uri": "https://localhost:8080/",
     "height": 350
    },
    "id": "pyZWIOsBvdb3",
    "outputId": "347443db-fa85-40b2-866b-5a72ec00d2b5"
   },
   "outputs": [],
   "source": [
    "fig, ax = plt.subplots(nrows=1, ncols=1, figsize=[10, 5])\n",
    "from matplotlib.ticker import (MultipleLocator, FormatStrFormatter,\n",
    "                                   AutoMinorLocator)\n",
    "for i in range(1,8):\n",
    "  df = get_df(i)[['Iteration','Metric','Avg']]\n",
    "  df2 = df[(df['Metric'] == 'Infected')]\n",
    "  ax.plot(df2['Avg'].values, label=get_label(i))\n",
    "\n",
    "tick_unit=72\n",
    "\n",
    "ax.set_title(\"Evolution of Infection by Scenario\")\n",
    "ax.set_ylabel(\"% of population\")\n",
    "ax.set_xlabel(\"Days\")\n",
    "tickslabels = [str(i//24) for i in range(0, 1440, tick_unit)]\n",
    "ax.xaxis.set_major_locator(MultipleLocator(tick_unit))\n",
    "ax.set_xticklabels(tickslabels)\n",
    "\n",
    "handles, labels = ax.get_legend_handles_labels()\n",
    "lgd = ax.legend(handles, labels, loc='top right')"
   ]
  },
  {
   "cell_type": "markdown",
   "metadata": {
    "id": "0Q9NNESfBtPa"
   },
   "source": [
    "### Number of Days to Reach the Infection Peak"
   ]
  },
  {
   "cell_type": "code",
   "execution_count": null,
   "metadata": {
    "colab": {
     "base_uri": "https://localhost:8080/",
     "height": 369
    },
    "id": "iYDHGto33xk8",
    "outputId": "c9bd57c7-49c7-4f4f-e616-9ecb84563c23"
   },
   "outputs": [],
   "source": [
    "fig, ax = plt.subplots(nrows=3, ncols=1, figsize=[7, 5])\n",
    "from matplotlib.ticker import (MultipleLocator, FormatStrFormatter,\n",
    "                                   AutoMinorLocator)\n",
    "\n",
    "deaths = []\n",
    "i_peak = []\n",
    "vals = []\n",
    "errs = []\n",
    "for i in range(1,8):\n",
    "  df = get_df(i)\n",
    "  df2 = df[(df['Metric'] == 'Infected')]\n",
    "  #min_max = np.max(df2['Min'].values)\n",
    "  avg_max = np.max(df2['Avg'].values)\n",
    "  i_peak.append(avg_max)\n",
    "  #max_max = np.max(df2['Max'].values)\n",
    "  it_max = np.min(df2[(df['Avg'] == avg_max)]['Iteration'].values)\n",
    "  #ax.plot(df2['Avg'].values, label=get_label(i))\n",
    "  vals.append(it_max // 24)\n",
    "\n",
    "  df3 = df[(df['Metric'] == 'Death')]\n",
    "  avg_max2 = np.max(df3['Avg'].values)\n",
    "  deaths.append(avg_max2)\n",
    "\n",
    "ax[0].bar([i for i in range(1,8)], i_peak, color='white',  edgecolor='black', hatch='//')\n",
    "ax[0].set_ylabel(\"% of Infected\")\n",
    "ax[0].set_xlabel(\"Scenario\")\n",
    "ax[0].set_title(\"$I_P$ - Infection Peak\")\n",
    "\n",
    "ax[1].bar([i for i in range(1,8)], vals, color='white',  edgecolor='black', hatch='//')\n",
    "ax[1].set_ylabel(\"Number of Days\")\n",
    "ax[1].set_xlabel(\"Scenario\")\n",
    "ax[1].set_title(\"$T_{IP}$ - Number of Days to Reach $I_P$\")\n",
    "\n",
    "ax[2].bar([i for i in range(1,8)], deaths, color='white',  edgecolor='black', hatch='//')\n",
    "ax[2].set_ylabel(\"% of Deaths\")\n",
    "ax[2].set_xlabel(\"Scenario\")\n",
    "ax[2].set_title(\"$D_t$ - Total Number of Deaths\")\n",
    "\n",
    "plt.tight_layout()\n"
   ]
  },
  {
   "cell_type": "markdown",
   "metadata": {
    "id": "VxQurEIJKFXC"
   },
   "source": [
    "### GDP Evolution By Social Stratum and Scenario"
   ]
  },
  {
   "cell_type": "code",
   "execution_count": null,
   "metadata": {
    "id": "jHwLIbkGK5eL"
   },
   "outputs": [],
   "source": [
    "from covid_abs.graphics import legend_ecom\n",
    "from matplotlib.ticker import (MultipleLocator, FormatStrFormatter, AutoMinorLocator)\n",
    "\n",
    "metrics = legend_ecom.keys()\n",
    "\n",
    "fig, ax = plt.subplots(nrows=len(metrics), ncols=1, figsize=[10, 25])\n",
    "\n",
    "tick_unit=72\n",
    "\n",
    "for i in range(0,10):                                   \n",
    "  df = get_df(i)[['Iteration','Metric','Avg']]\n",
    "\n",
    "  for cm, metric in enumerate(metrics):\n",
    "    df2 = df[(df['Metric'] == metric)]\n",
    "    ax[cm].plot(df2['Avg'].values, label=get_label(i))\n",
    "\n",
    "tickslabels = [str(i//24) for i in range(0, 1440, tick_unit)]\n",
    "\n",
    "for cm, metric in enumerate(metrics):\n",
    "  ax[cm].set_title(legend_ecom[metric])\n",
    "  ax[cm].set_ylabel(\"% of GDP\")\n",
    "  ax[cm].set_xlabel(\"Days\")\n",
    "  ax[cm].xaxis.set_major_locator(MultipleLocator(tick_unit))\n",
    "  ax[cm].set_xticklabels(tickslabels)\n",
    "\n",
    "  handles, labels = ax[cm].get_legend_handles_labels()\n",
    "  lgd = ax[cm].legend(handles, labels, loc=2, bbox_to_anchor=(1, 1))\n",
    "\n",
    "plt.tight_layout()"
   ]
  },
  {
   "cell_type": "markdown",
   "metadata": {
    "id": "V1JACMyDKFgY"
   },
   "source": [
    "### Scenarios Final GDP Compared with Scenario 0"
   ]
  },
  {
   "cell_type": "code",
   "execution_count": null,
   "metadata": {
    "colab": {
     "base_uri": "https://localhost:8080/",
     "height": 513
    },
    "id": "6WqfvvRY6Frj",
    "outputId": "2246d0d9-99c7-4c24-bfe3-d55eaeca4809"
   },
   "outputs": [],
   "source": [
    "from covid_abs.graphics import legend_ecom\n",
    "from matplotlib.ticker import (MultipleLocator, FormatStrFormatter, AutoMinorLocator)\n",
    "\n",
    "A1 = ['Q1','Q2','Q3','Q4','Q5']\n",
    "\n",
    "legend = {'A1': '$W^{A1}_s$ - People',\n",
    "          'Business': '$W^{A3}_s$ - Business',\n",
    "          'Government': '$W^{A4}_s$ - Government',}\n",
    "\n",
    "fig, ax = plt.subplots(nrows=3, ncols=1, figsize=[10, 7])\n",
    "\n",
    "metrics = [k for k in legend.keys()]\n",
    "\n",
    "baseline = {'A1': 0.0 }\n",
    "baseline_stop = {'A1': 0.0 }\n",
    "df = get_df(0)\n",
    "for cm, metric in enumerate(legend_ecom.keys()):\n",
    "  #mn_it = np.min(df['Iteration'].values)\n",
    "  mx_it = np.max(df['Iteration'].values)\n",
    "  _start = df[(df['Metric'] == metric) & (df['Iteration'] == 0)]['Avg'].values[-1]\n",
    "  _stop = df[(df['Metric'] == metric) & (df['Iteration'] == mx_it)]['Avg'].values[-1]\n",
    "  #_std = df[(df['Metric'] == metric) & (df['Iteration'] == mx_it)]['Std'].values[-1]\n",
    "  diff = _start - _stop\n",
    "  #baseline[metric].append(diff)\n",
    "  if metric in A1:\n",
    "    #baseline['A1'] += _stop\n",
    "    baseline['A1'] += diff\n",
    "    baseline_stop['A1'] += _stop\n",
    "  else:\n",
    "    baseline[metric] = diff\n",
    "    baseline_stop[metric] = _stop\n",
    "\n",
    "values = {}\n",
    "colors = {}\n",
    "std = {}\n",
    "\n",
    "for i in range(1,8):                                   \n",
    "  df = get_df(i)\n",
    "  for cm, metric in enumerate(metrics):\n",
    "    if metric not in values:\n",
    "      values[metric] = []\n",
    "      colors[metric] = []\n",
    "      std[metric] = []\n",
    "    \n",
    "    mx_it = np.max(df['Iteration'].values)\n",
    "\n",
    "    if metric == 'A1':\n",
    "      _stop = 0\n",
    "      _std = 0\n",
    "      for m2 in A1:\n",
    "        _stop += df[(df['Metric'] == m2) & (df['Iteration'] == mx_it)]['Avg'].values[-1]\n",
    "        _std += df[(df['Metric'] == m2) & (df['Iteration'] == mx_it)]['Std'].values[-1]\n",
    "\n",
    "    else:\n",
    "      _stop = df[(df['Metric'] == metric) & (df['Iteration'] == mx_it)]['Avg'].values[-1]\n",
    "      _std = df[(df['Metric'] == metric) & (df['Iteration'] == mx_it)]['Std'].values[-1]\n",
    "    \n",
    "    #m = (_stop - baseline[metric])/baseline[metric]\n",
    "    m = (_stop - baseline_stop[metric])/baseline_stop[metric]\n",
    "    values[metric].append(m)\n",
    "    colors[metric].append('//' if m >= 0 else '\\\\\\\\' )\n",
    "    #diff = _start - _stop\n",
    "    #values[metric].append(diff)\n",
    "    std[metric].append(_std)\n",
    "    #colors[metric].append('blue' if diff >= 0 else 'red' )\n",
    "    #baseline[metric] = _start - stop\n",
    "    \n",
    "\n",
    "for cm, metric in enumerate(metrics):\n",
    "  bars = ax[cm].bar([i for i in range(1,8)], values[metric], color='white',  edgecolor='black',\n",
    "                    capsize=7, yerr=std[metric])\n",
    "  for ix, bar in enumerate(bars):\n",
    "    bar.set_hatch(colors[metric][ix])\n",
    "  ax[cm].set_ylim([-.25, .25])\n",
    "  ax[cm].set_ylabel(\"% of GDP\")\n",
    "  ax[cm].set_xlabel(\"Scenario\")\n",
    "  ax[cm].set_title(legend[metric])\n",
    "  ax[cm].axhline(y=0, color='black')\n",
    "\n",
    "\n",
    "plt.tight_layout()\n"
   ]
  },
  {
   "cell_type": "code",
   "execution_count": null,
   "metadata": {
    "id": "fA7q-2fVoqQ-"
   },
   "outputs": [],
   "source": [
    "def next(it, its, start):\n",
    "  if it not in its:\n",
    "    for k in its[start:]:\n",
    "      if k > it:\n",
    "        return k\n",
    "  else:\n",
    "    return it\n",
    "\n",
    "for sc in range(2,8):\n",
    "\n",
    "  filename = 'scenario{}.csv'.format(sc)\n",
    "\n",
    "  df = pd.read_csv(filename)\n",
    "  metrics = df['Metric'].unique()\n",
    "  iterations = df['Iteration'].unique()\n",
    "  columns = ['Min','Avg','Std','Max']\n",
    "  rows = []\n",
    "  last_ix = 0\n",
    "  for iteration in range(0,1440):\n",
    "\n",
    "    print(iteration)\n",
    "\n",
    "    ix = next(iteration, iterations, last_ix)\n",
    "\n",
    "    for metric in metrics:\n",
    "      row = [iteration, metric]\n",
    "      for column in columns:\n",
    "        row.append(df[(df['Iteration']==ix) & (df['Metric']==metric)][column].values[0])\n",
    "\n",
    "      rows.append(row)\n",
    "\n",
    "    last_ix = int(np.where(iterations == ix)[0])\n",
    "\n",
    "  df2 = pd.DataFrame(rows, columns=['Iteration','Metric','Min','Avg','Std','Max'])\n",
    "\n",
    "  df2.to_csv(filename + '2')\n",
    "  "
   ]
  },
  {
   "cell_type": "code",
   "execution_count": null,
   "metadata": {
    "id": "kqMBsSkl9OHv"
   },
   "outputs": [],
   "source": []
  },
  {
   "cell_type": "code",
   "execution_count": null,
   "metadata": {
    "id": "qEbYrXgsiaCG"
   },
   "outputs": [],
   "source": [
    "\n",
    "def plot_graph_batch_results(df, health_metrics=('Susceptible', 'Infected', 'Hospitalization', 'Severe', 'Recovered_Immune', 'Death'),\n",
    "                       ecom_metrics=('Q1', 'Q2', 'Q3', 'Q4', 'Q5','Business','Government'), **kwargs):\n",
    "\n",
    "    from matplotlib.ticker import (MultipleLocator, FormatStrFormatter,\n",
    "                                   AutoMinorLocator)\n",
    "\n",
    "    iterations = max(df['Iteration'].values) + 1\n",
    "\n",
    "    tick_unit = kwargs.get('tick_unit', 72)\n",
    "\n",
    "    tickslabels = [str(i // 24) for i in range(0, iterations, tick_unit)]\n",
    "\n",
    "    fig, ax = plt.subplots(nrows=1, ncols=2, figsize=[20, 5])\n",
    "\n",
    "    ax[0].set_title('Average Contagion Evolution')\n",
    "    ax[0].set_xlabel(\"Nº of Days\")\n",
    "    ax[0].set_ylabel(\"% of Population\")\n",
    "    ax[0].set_xlim((0, iterations))\n",
    "    ax[0].xaxis.set_major_locator(MultipleLocator(tick_unit))\n",
    "    ax[0].set_xticklabels(tickslabels)\n",
    "\n",
    "    for col in health_metrics:\n",
    "        means = df[(df[\"Metric\"] == col)]['Avg'].values\n",
    "        std = df[(df[\"Metric\"] == col)]['Std'].values\n",
    "        plot_mean_std(ax[0], means, std, legend=col, color=color1(col))\n",
    "\n",
    "    handles, labels = ax[0].get_legend_handles_labels()\n",
    "    lgd = ax[0].legend(handles, labels, loc='top right')\n",
    "\n",
    "    ax[1].set_title('Average Economical Impact')\n",
    "    ax[1].set_xlabel(\"Nº of Days\")\n",
    "    ax[1].set_ylabel(\"% of Wealth\")\n",
    "    ax[1].set_xlim((0, iterations))\n",
    "    ax[1].xaxis.set_major_locator(MultipleLocator(tick_unit))\n",
    "    ax[1].set_xticklabels(tickslabels)\n",
    "\n",
    "    for col in ecom_metrics:\n",
    "        means = df[(df[\"Metric\"] == col)]['Avg'].values\n",
    "        #n_mean = np.interp(means, (mmin, mmax), (0, 1))\n",
    "        std = df[(df[\"Metric\"] == col)]['Std'].values\n",
    "        #n_std = np.interp(std, (smin, smax), (0, 1))\n",
    "        #ax[1].plot(means, label=legend_ecom[col])\n",
    "        # std = np.log10(df[(df[\"Metric\"] == col)]['Std'].values)\n",
    "        plot_mean_std(ax[1], means, std, legend=legend_ecom[col], color=color3(col))\n",
    "\n",
    "    handles, labels = ax[1].get_legend_handles_labels()\n",
    "    lgd = ax[1].legend(handles, labels, loc='top left')"
   ]
  },
  {
   "cell_type": "code",
   "execution_count": null,
   "metadata": {
    "colab": {
     "base_uri": "https://localhost:8080/",
     "height": 297
    },
    "id": "IrPZTCGeDxrx",
    "outputId": "9601df38-aca5-4e13-c1bc-9fd191791abc"
   },
   "outputs": [],
   "source": [
    "from matplotlib.ticker import (MultipleLocator, FormatStrFormatter,\n",
    "                                   AutoMinorLocator)\n",
    "from covid_abs.graphics import color3\n",
    "from covid_abs.experiments import plot_mean_std\n",
    "\n",
    "A1 = ['Q1','Q2','Q3','Q4','Q5']\n",
    "\n",
    "health_metrics=('Susceptible', 'Infected', 'Hospitalization', 'Severe', 'Recovered_Immune', 'Death')\n",
    "ecom_metrics=('Q1', 'Q2', 'Q3', 'Q4', 'Q5','Business','Government')\n",
    "\n",
    "health_legend={'Susceptible': '$S_t$ - Susceptible', 'Infected':'$I_t$ - Infected', \n",
    "               'Hospitalization':'$S^H_t$ - Hospitalization', 'Severe':'$I^S_t$ - Severe', \n",
    "               'Recovered_Immune':'$R_t$ - Recovered', 'Death':'$D_t$ - Death'}\n",
    "\n",
    "ecom_legend = {'A1': '$W^{A1}_t$ - People',\n",
    "          'Business': '$W^{A3}_t$ - Business',\n",
    "          'Government': '$W^{A4}_t$ - Government',}\n",
    "\n",
    "colors = {'A1': 'purple',\n",
    "          'Business': 'red',\n",
    "          'Government': 'brown',}\n",
    "\n",
    "df = get_df(0)\n",
    "\n",
    "epidem = False\n",
    "\n",
    "iterations = max(df['Iteration'].values) + 1\n",
    "\n",
    "tick_unit = 72 #kwargs.get('tick_unit', 72)\n",
    "\n",
    "tickslabels = [str(i // 24) for i in range(0, iterations, tick_unit)]\n",
    "\n",
    "\n",
    "\n",
    "fig, ax = plt.subplots(nrows=1, ncols=1 if not epidem else 2,\n",
    "                       figsize=[7, 4])\n",
    "\n",
    "if epidem:\n",
    "  ep_ax = ax[0]\n",
    "  ep_ax.set_title('Average Epidemiological Evolution')\n",
    "  ep_ax.set_xlabel(\"Nº of Days\")\n",
    "  ep_ax.set_ylabel(\"% of Population\")\n",
    "  ep_ax.set_xlim((0, iterations))\n",
    "  ep_ax.xaxis.set_major_locator(MultipleLocator(tick_unit))\n",
    "  ep_ax.set_xticklabels(tickslabels)\n",
    "\n",
    "  for col in health_metrics:\n",
    "      means = df[(df[\"Metric\"] == col)]['Avg'].values\n",
    "      std = df[(df[\"Metric\"] == col)]['Std'].values\n",
    "      plot_mean_std(ep_ax, means, std, legend=health_legend[col], color=color1(col))\n",
    "\n",
    "  handles, labels = ep_ax.get_legend_handles_labels()\n",
    "  lgd = ep_ax.legend(handles, labels, loc=2, bbox_to_anchor=(1, 1))\n",
    "\n",
    "ec_ax = ax[1] if epidem else ax\n",
    "\n",
    "ec_ax.set_title('Average Economical Impact')\n",
    "ec_ax.set_xlabel(\"Nº of Days\")\n",
    "ec_ax.set_ylabel(\"% of GDP\")\n",
    "ec_ax.set_xlim((0, iterations))\n",
    "ec_ax.xaxis.set_major_locator(MultipleLocator(tick_unit))\n",
    "ec_ax.set_xticklabels(tickslabels)\n",
    "\n",
    "for col in ecom_legend.keys():\n",
    "  if col == 'A1':\n",
    "    means = np.zeros(iterations)\n",
    "    std = np.zeros(iterations)\n",
    "    for m2 in A1: \n",
    "      means += df[(df[\"Metric\"] == m2)]['Avg'].values  \n",
    "      std += df[(df[\"Metric\"] == m2)]['Std'].values\n",
    "  else:  \n",
    "    means = df[(df[\"Metric\"] == col)]['Avg'].values\n",
    "    std = df[(df[\"Metric\"] == col)]['Std'].values\n",
    "\n",
    "  #print(means)\n",
    "      \n",
    "  l = len(means)\n",
    "  lb = [means[k] - std[k] for k in range(l)]\n",
    "  ub = [means[k] + std[k] for k in range(l)]\n",
    "\n",
    "  ec_ax.fill_between(range(l), ub, lb,\n",
    "                  color=colors[col], alpha=.4)\n",
    "  # plot the mean on top\n",
    "  ec_ax.plot(range(l), means, colors[col], label=ecom_legend[col])\n",
    "\n",
    "handles, labels = ec_ax.get_legend_handles_labels()\n",
    "lgd = ec_ax.legend(handles, labels, loc=2, bbox_to_anchor=(1, 1))\n",
    "\n",
    "plt.tight_layout()\n"
   ]
  },
  {
   "cell_type": "code",
   "execution_count": null,
   "metadata": {
    "colab": {
     "base_uri": "https://localhost:8080/",
     "height": 297
    },
    "id": "Tu8dogEdHiQD",
    "outputId": "7086fd8f-0fcb-456e-e7e1-35d1577865bd"
   },
   "outputs": [],
   "source": [
    "from covid_abs.graphics import legend_ecom\n",
    "from matplotlib.ticker import (MultipleLocator, FormatStrFormatter, AutoMinorLocator)\n",
    "\n",
    "A1 = ['Q1','Q2','Q3','Q4','Q5']\n",
    "\n",
    "legend = {'A1': '$W^{A1}_s$ - People',\n",
    "          'Business': '$W^{A3}_s$ - Business',\n",
    "          'Government': '$W^{A4}_s$ - Government',}\n",
    "\n",
    "fig, ax = plt.subplots(nrows=1, ncols=3, figsize=[12, 4])\n",
    "\n",
    "metrics = [k for k in legend.keys()]\n",
    "\n",
    "baseline = {'A1': 0.0 }\n",
    "baseline_stop = {'A1': 0.0 }\n",
    "df = get_df(0)\n",
    "for cm, metric in enumerate(legend_ecom.keys()):\n",
    "  #mn_it = np.min(df['Iteration'].values)\n",
    "  mx_it = np.max(df['Iteration'].values)\n",
    "  _start = df[(df['Metric'] == metric) & (df['Iteration'] == 0)]['Avg'].values[-1]\n",
    "  _stop = df[(df['Metric'] == metric) & (df['Iteration'] == mx_it)]['Avg'].values[-1]\n",
    "  #_std = df[(df['Metric'] == metric) & (df['Iteration'] == mx_it)]['Std'].values[-1]\n",
    "  diff = _start - _stop\n",
    "  #baseline[metric].append(diff)\n",
    "  if metric in A1:\n",
    "    #baseline['A1'] += _stop\n",
    "    baseline['A1'] += diff\n",
    "    baseline_stop['A1'] += _stop\n",
    "  else:\n",
    "    baseline[metric] = diff\n",
    "    baseline_stop[metric] = _stop\n",
    "\n",
    "values = {}\n",
    "colors = {}\n",
    "std = {}\n",
    "deaths = {}\n",
    "\n",
    "for i in range(1,8):                                   \n",
    "  df = get_df(i)\n",
    "  deaths[i] = df[(df['Metric'] == 'Death') & (df['Iteration'] == 1339)]['Avg'].values[-1]\n",
    "  for cm, metric in enumerate(metrics):\n",
    "    if metric not in values:\n",
    "      values[metric] = []\n",
    "      colors[metric] = []\n",
    "      std[metric] = []\n",
    "    \n",
    "    mx_it = np.max(df['Iteration'].values)\n",
    "\n",
    "    if metric == 'A1':\n",
    "      _stop = 0\n",
    "      _std = 0\n",
    "      for m2 in A1:\n",
    "        _stop += df[(df['Metric'] == m2) & (df['Iteration'] == mx_it)]['Avg'].values[-1]\n",
    "        _std += df[(df['Metric'] == m2) & (df['Iteration'] == mx_it)]['Std'].values[-1]\n",
    "\n",
    "    else:\n",
    "      _stop = df[(df['Metric'] == metric) & (df['Iteration'] == mx_it)]['Avg'].values[-1]\n",
    "      _std = df[(df['Metric'] == metric) & (df['Iteration'] == mx_it)]['Std'].values[-1]\n",
    "    \n",
    "    #m = (_stop - baseline[metric])/baseline[metric]\n",
    "    m = (_stop - baseline_stop[metric])/baseline_stop[metric]\n",
    "    values[metric].append(m)\n",
    "    colors[metric].append('//' if m >= 0 else '\\\\\\\\' )\n",
    "    #diff = _start - _stop\n",
    "    #values[metric].append(diff)\n",
    "    std[metric].append(_std)\n",
    "    #colors[metric].append('blue' if diff >= 0 else 'red' )\n",
    "    #baseline[metric] = _start - stop\n",
    "    \n",
    "markers = ['s','+', '*','X','D', '^','o']\n",
    "\n",
    "for cm, metric in enumerate(metrics):\n",
    "\n",
    "  #ax[cm].scatter(values[metric], [k for k in deaths.values()])\n",
    "\n",
    "  for i in range(7):\n",
    "    #ax[cm].text(values[metric][i], deaths[i+1], str(i+1), fontsize=15)\n",
    "    #ax[cm].annotate(str(i+1), (values[metric][i], deaths[i+1]))\n",
    "    ax[cm].scatter(values[metric][i], deaths[i+1], s=100, marker=markers[i], color='black', label='Scenario {}'.format(i+1),)\n",
    "\n",
    "  ax[cm].set_xlim((-0.21, .2))\n",
    "  ax[cm].set_ylim((-0.01, .12))\n",
    "  ax[cm].set_xlabel('% of Wealth Increase')\n",
    "  ax[cm].set_ylabel('% of Deaths')\n",
    "  ax[cm].set_title(legend[metric])\n",
    "\n",
    "handles, labels = ax[-1].get_legend_handles_labels()\n",
    "lgd = ax[-1].legend(handles, labels, loc=2, bbox_to_anchor=(1, 1))\n",
    "  \n",
    "\n",
    "plt.tight_layout()\n"
   ]
  },
  {
   "cell_type": "code",
   "execution_count": null,
   "metadata": {
    "colab": {
     "base_uri": "https://localhost:8080/",
     "height": 139
    },
    "id": "w3cpXnFfn-br",
    "outputId": "1b1a16cf-3ab3-417a-ac34-b20aebef02bd"
   },
   "outputs": [],
   "source": [
    "for i in range(7):\n",
    "  print(i)"
   ]
  },
  {
   "cell_type": "code",
   "execution_count": null,
   "metadata": {
    "id": "kPCwg1m9pzen"
   },
   "outputs": [],
   "source": []
  }
 ],
 "metadata": {
  "colab": {
   "collapsed_sections": [],
   "name": "COVID-ABS: An Agent-Based Model of COVID-19 Epidemic to Simulate Health and Economic Effects of Social Distancing Interventions",
   "provenance": [],
   "toc_visible": true
  },
  "kernelspec": {
   "display_name": "Python 3",
   "language": "python",
   "name": "python3"
  },
  "language_info": {
   "codemirror_mode": {
    "name": "ipython",
    "version": 3
   },
   "file_extension": ".py",
   "mimetype": "text/x-python",
   "name": "python",
   "nbconvert_exporter": "python",
   "pygments_lexer": "ipython3",
   "version": "3.8.5"
  }
 },
 "nbformat": 4,
 "nbformat_minor": 1
}
